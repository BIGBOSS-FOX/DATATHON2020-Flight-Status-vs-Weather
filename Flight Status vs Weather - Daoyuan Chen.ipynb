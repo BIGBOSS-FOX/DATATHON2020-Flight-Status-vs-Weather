{
 "cells": [
  {
   "cell_type": "markdown",
   "metadata": {},
   "source": [
    "# Goal\n",
    "1 ***To find out the relationship between flight status and different weather factors***\n",
    "\n",
    "2 ***To build a machine learning model to predict flight status by weather features***"
   ]
  },
  {
   "cell_type": "code",
   "execution_count": 1,
   "metadata": {},
   "outputs": [],
   "source": [
    "import pandas as pd\n",
    "import numpy as np\n",
    "import seaborn as sns\n",
    "import matplotlib.pyplot as plt\n",
    "\n",
    "%matplotlib inline"
   ]
  },
  {
   "cell_type": "markdown",
   "metadata": {},
   "source": [
    "## Load `weather.csv` and `flight_traffic.csv`"
   ]
  },
  {
   "cell_type": "code",
   "execution_count": 2,
   "metadata": {},
   "outputs": [
    {
     "data": {
      "text/html": [
       "<div>\n",
       "<style scoped>\n",
       "    .dataframe tbody tr th:only-of-type {\n",
       "        vertical-align: middle;\n",
       "    }\n",
       "\n",
       "    .dataframe tbody tr th {\n",
       "        vertical-align: top;\n",
       "    }\n",
       "\n",
       "    .dataframe thead th {\n",
       "        text-align: right;\n",
       "    }\n",
       "</style>\n",
       "<table border=\"1\" class=\"dataframe\">\n",
       "  <thead>\n",
       "    <tr style=\"text-align: right;\">\n",
       "      <th></th>\n",
       "      <th>airport_id</th>\n",
       "      <th>airport_name</th>\n",
       "      <th>latitude</th>\n",
       "      <th>longitude</th>\n",
       "      <th>elevation</th>\n",
       "      <th>datetime</th>\n",
       "      <th>temperature</th>\n",
       "      <th>visibility</th>\n",
       "      <th>wind_direction</th>\n",
       "      <th>wind_speed</th>\n",
       "      <th>snow_depth</th>\n",
       "      <th>cloud_status</th>\n",
       "    </tr>\n",
       "  </thead>\n",
       "  <tbody>\n",
       "    <tr>\n",
       "      <th>0</th>\n",
       "      <td>BUF</td>\n",
       "      <td>BUFFALO NIAGARA INTERNATIONAL, NY US</td>\n",
       "      <td>42.9408</td>\n",
       "      <td>-78.7358</td>\n",
       "      <td>218.2</td>\n",
       "      <td>2017-01-01T00:54:00</td>\n",
       "      <td>3.9</td>\n",
       "      <td>16093</td>\n",
       "      <td>220</td>\n",
       "      <td>7.2</td>\n",
       "      <td>NaN</td>\n",
       "      <td>NaN</td>\n",
       "    </tr>\n",
       "    <tr>\n",
       "      <th>1</th>\n",
       "      <td>BUF</td>\n",
       "      <td>BUFFALO NIAGARA INTERNATIONAL, NY US</td>\n",
       "      <td>42.9408</td>\n",
       "      <td>-78.7358</td>\n",
       "      <td>218.2</td>\n",
       "      <td>2017-01-01T06:54:00</td>\n",
       "      <td>0.6</td>\n",
       "      <td>16093</td>\n",
       "      <td>260</td>\n",
       "      <td>6.2</td>\n",
       "      <td>NaN</td>\n",
       "      <td>NaN</td>\n",
       "    </tr>\n",
       "    <tr>\n",
       "      <th>2</th>\n",
       "      <td>BUF</td>\n",
       "      <td>BUFFALO NIAGARA INTERNATIONAL, NY US</td>\n",
       "      <td>42.9408</td>\n",
       "      <td>-78.7358</td>\n",
       "      <td>218.2</td>\n",
       "      <td>2017-01-01T12:54:00</td>\n",
       "      <td>-0.6</td>\n",
       "      <td>16093</td>\n",
       "      <td>250</td>\n",
       "      <td>5.1</td>\n",
       "      <td>NaN</td>\n",
       "      <td>9.0</td>\n",
       "    </tr>\n",
       "    <tr>\n",
       "      <th>3</th>\n",
       "      <td>BUF</td>\n",
       "      <td>BUFFALO NIAGARA INTERNATIONAL, NY US</td>\n",
       "      <td>42.9408</td>\n",
       "      <td>-78.7358</td>\n",
       "      <td>218.2</td>\n",
       "      <td>2017-01-01T18:54:00</td>\n",
       "      <td>2.2</td>\n",
       "      <td>16093</td>\n",
       "      <td>240</td>\n",
       "      <td>5.7</td>\n",
       "      <td>NaN</td>\n",
       "      <td>9.0</td>\n",
       "    </tr>\n",
       "    <tr>\n",
       "      <th>4</th>\n",
       "      <td>BUF</td>\n",
       "      <td>BUFFALO NIAGARA INTERNATIONAL, NY US</td>\n",
       "      <td>42.9408</td>\n",
       "      <td>-78.7358</td>\n",
       "      <td>218.2</td>\n",
       "      <td>2017-01-02T00:54:00</td>\n",
       "      <td>-0.6</td>\n",
       "      <td>16093</td>\n",
       "      <td>170</td>\n",
       "      <td>1.5</td>\n",
       "      <td>NaN</td>\n",
       "      <td>NaN</td>\n",
       "    </tr>\n",
       "  </tbody>\n",
       "</table>\n",
       "</div>"
      ],
      "text/plain": [
       "  airport_id                          airport_name  latitude  longitude  \\\n",
       "0        BUF  BUFFALO NIAGARA INTERNATIONAL, NY US   42.9408   -78.7358   \n",
       "1        BUF  BUFFALO NIAGARA INTERNATIONAL, NY US   42.9408   -78.7358   \n",
       "2        BUF  BUFFALO NIAGARA INTERNATIONAL, NY US   42.9408   -78.7358   \n",
       "3        BUF  BUFFALO NIAGARA INTERNATIONAL, NY US   42.9408   -78.7358   \n",
       "4        BUF  BUFFALO NIAGARA INTERNATIONAL, NY US   42.9408   -78.7358   \n",
       "\n",
       "   elevation             datetime  temperature  visibility  wind_direction  \\\n",
       "0      218.2  2017-01-01T00:54:00          3.9       16093             220   \n",
       "1      218.2  2017-01-01T06:54:00          0.6       16093             260   \n",
       "2      218.2  2017-01-01T12:54:00         -0.6       16093             250   \n",
       "3      218.2  2017-01-01T18:54:00          2.2       16093             240   \n",
       "4      218.2  2017-01-02T00:54:00         -0.6       16093             170   \n",
       "\n",
       "   wind_speed  snow_depth  cloud_status  \n",
       "0         7.2         NaN           NaN  \n",
       "1         6.2         NaN           NaN  \n",
       "2         5.1         NaN           9.0  \n",
       "3         5.7         NaN           9.0  \n",
       "4         1.5         NaN           NaN  "
      ]
     },
     "execution_count": 2,
     "metadata": {},
     "output_type": "execute_result"
    }
   ],
   "source": [
    "df_weather = pd.read_csv('weather.csv')\n",
    "df_weather.head()"
   ]
  },
  {
   "cell_type": "code",
   "execution_count": 3,
   "metadata": {},
   "outputs": [
    {
     "data": {
      "text/html": [
       "<div>\n",
       "<style scoped>\n",
       "    .dataframe tbody tr th:only-of-type {\n",
       "        vertical-align: middle;\n",
       "    }\n",
       "\n",
       "    .dataframe tbody tr th {\n",
       "        vertical-align: top;\n",
       "    }\n",
       "\n",
       "    .dataframe thead th {\n",
       "        text-align: right;\n",
       "    }\n",
       "</style>\n",
       "<table border=\"1\" class=\"dataframe\">\n",
       "  <thead>\n",
       "    <tr style=\"text-align: right;\">\n",
       "      <th></th>\n",
       "      <th>year</th>\n",
       "      <th>month</th>\n",
       "      <th>day</th>\n",
       "      <th>airline_id</th>\n",
       "      <th>origin_airport</th>\n",
       "      <th>destination_airport</th>\n",
       "      <th>scheduled_departure</th>\n",
       "      <th>actual_departure</th>\n",
       "      <th>taxi_out</th>\n",
       "      <th>wheels_off</th>\n",
       "      <th>...</th>\n",
       "      <th>cancelled</th>\n",
       "      <th>diverted</th>\n",
       "      <th>scheduled_elapsed</th>\n",
       "      <th>actual_elapsed</th>\n",
       "      <th>distance</th>\n",
       "      <th>airline_delay</th>\n",
       "      <th>weather_delay</th>\n",
       "      <th>air_system_delay</th>\n",
       "      <th>security_delay</th>\n",
       "      <th>aircraft_delay</th>\n",
       "    </tr>\n",
       "  </thead>\n",
       "  <tbody>\n",
       "    <tr>\n",
       "      <th>0</th>\n",
       "      <td>2017</td>\n",
       "      <td>1</td>\n",
       "      <td>31</td>\n",
       "      <td>AA</td>\n",
       "      <td>CLT</td>\n",
       "      <td>PHX</td>\n",
       "      <td>1619</td>\n",
       "      <td>1615.0</td>\n",
       "      <td>18.0</td>\n",
       "      <td>1633.0</td>\n",
       "      <td>...</td>\n",
       "      <td>0</td>\n",
       "      <td>0</td>\n",
       "      <td>277.0</td>\n",
       "      <td>261.0</td>\n",
       "      <td>1773</td>\n",
       "      <td>NaN</td>\n",
       "      <td>NaN</td>\n",
       "      <td>NaN</td>\n",
       "      <td>NaN</td>\n",
       "      <td>NaN</td>\n",
       "    </tr>\n",
       "    <tr>\n",
       "      <th>1</th>\n",
       "      <td>2017</td>\n",
       "      <td>1</td>\n",
       "      <td>12</td>\n",
       "      <td>AA</td>\n",
       "      <td>FLL</td>\n",
       "      <td>CLT</td>\n",
       "      <td>1305</td>\n",
       "      <td>1256.0</td>\n",
       "      <td>24.0</td>\n",
       "      <td>1320.0</td>\n",
       "      <td>...</td>\n",
       "      <td>0</td>\n",
       "      <td>0</td>\n",
       "      <td>123.0</td>\n",
       "      <td>129.0</td>\n",
       "      <td>632</td>\n",
       "      <td>NaN</td>\n",
       "      <td>NaN</td>\n",
       "      <td>NaN</td>\n",
       "      <td>NaN</td>\n",
       "      <td>NaN</td>\n",
       "    </tr>\n",
       "    <tr>\n",
       "      <th>2</th>\n",
       "      <td>2017</td>\n",
       "      <td>1</td>\n",
       "      <td>14</td>\n",
       "      <td>AA</td>\n",
       "      <td>FLL</td>\n",
       "      <td>CLT</td>\n",
       "      <td>1305</td>\n",
       "      <td>1314.0</td>\n",
       "      <td>11.0</td>\n",
       "      <td>1325.0</td>\n",
       "      <td>...</td>\n",
       "      <td>0</td>\n",
       "      <td>0</td>\n",
       "      <td>123.0</td>\n",
       "      <td>108.0</td>\n",
       "      <td>632</td>\n",
       "      <td>NaN</td>\n",
       "      <td>NaN</td>\n",
       "      <td>NaN</td>\n",
       "      <td>NaN</td>\n",
       "      <td>NaN</td>\n",
       "    </tr>\n",
       "    <tr>\n",
       "      <th>3</th>\n",
       "      <td>2017</td>\n",
       "      <td>1</td>\n",
       "      <td>18</td>\n",
       "      <td>AA</td>\n",
       "      <td>FLL</td>\n",
       "      <td>CLT</td>\n",
       "      <td>1305</td>\n",
       "      <td>1304.0</td>\n",
       "      <td>19.0</td>\n",
       "      <td>1323.0</td>\n",
       "      <td>...</td>\n",
       "      <td>0</td>\n",
       "      <td>0</td>\n",
       "      <td>123.0</td>\n",
       "      <td>129.0</td>\n",
       "      <td>632</td>\n",
       "      <td>NaN</td>\n",
       "      <td>NaN</td>\n",
       "      <td>NaN</td>\n",
       "      <td>NaN</td>\n",
       "      <td>NaN</td>\n",
       "    </tr>\n",
       "    <tr>\n",
       "      <th>4</th>\n",
       "      <td>2017</td>\n",
       "      <td>1</td>\n",
       "      <td>25</td>\n",
       "      <td>AA</td>\n",
       "      <td>FLL</td>\n",
       "      <td>CLT</td>\n",
       "      <td>1305</td>\n",
       "      <td>1301.0</td>\n",
       "      <td>11.0</td>\n",
       "      <td>1312.0</td>\n",
       "      <td>...</td>\n",
       "      <td>0</td>\n",
       "      <td>0</td>\n",
       "      <td>123.0</td>\n",
       "      <td>116.0</td>\n",
       "      <td>632</td>\n",
       "      <td>NaN</td>\n",
       "      <td>NaN</td>\n",
       "      <td>NaN</td>\n",
       "      <td>NaN</td>\n",
       "      <td>NaN</td>\n",
       "    </tr>\n",
       "  </tbody>\n",
       "</table>\n",
       "<p>5 rows × 24 columns</p>\n",
       "</div>"
      ],
      "text/plain": [
       "   year  month  day airline_id origin_airport destination_airport  \\\n",
       "0  2017      1   31         AA            CLT                 PHX   \n",
       "1  2017      1   12         AA            FLL                 CLT   \n",
       "2  2017      1   14         AA            FLL                 CLT   \n",
       "3  2017      1   18         AA            FLL                 CLT   \n",
       "4  2017      1   25         AA            FLL                 CLT   \n",
       "\n",
       "   scheduled_departure  actual_departure  taxi_out  wheels_off  ...  \\\n",
       "0                 1619            1615.0      18.0      1633.0  ...   \n",
       "1                 1305            1256.0      24.0      1320.0  ...   \n",
       "2                 1305            1314.0      11.0      1325.0  ...   \n",
       "3                 1305            1304.0      19.0      1323.0  ...   \n",
       "4                 1305            1301.0      11.0      1312.0  ...   \n",
       "\n",
       "   cancelled  diverted  scheduled_elapsed  actual_elapsed  distance  \\\n",
       "0          0         0              277.0           261.0      1773   \n",
       "1          0         0              123.0           129.0       632   \n",
       "2          0         0              123.0           108.0       632   \n",
       "3          0         0              123.0           129.0       632   \n",
       "4          0         0              123.0           116.0       632   \n",
       "\n",
       "   airline_delay  weather_delay  air_system_delay  security_delay  \\\n",
       "0            NaN            NaN               NaN             NaN   \n",
       "1            NaN            NaN               NaN             NaN   \n",
       "2            NaN            NaN               NaN             NaN   \n",
       "3            NaN            NaN               NaN             NaN   \n",
       "4            NaN            NaN               NaN             NaN   \n",
       "\n",
       "   aircraft_delay  \n",
       "0             NaN  \n",
       "1             NaN  \n",
       "2             NaN  \n",
       "3             NaN  \n",
       "4             NaN  \n",
       "\n",
       "[5 rows x 24 columns]"
      ]
     },
     "execution_count": 3,
     "metadata": {},
     "output_type": "execute_result"
    }
   ],
   "source": [
    "df_flight_traffic = pd.read_csv('flight_traffic.csv')\n",
    "df_flight_traffic.head()"
   ]
  },
  {
   "cell_type": "markdown",
   "metadata": {},
   "source": [
    "## Analyze `df_weather`"
   ]
  },
  {
   "cell_type": "code",
   "execution_count": 4,
   "metadata": {},
   "outputs": [
    {
     "name": "stdout",
     "output_type": "stream",
     "text": [
      "<class 'pandas.core.frame.DataFrame'>\n",
      "RangeIndex: 353864 entries, 0 to 353863\n",
      "Data columns (total 12 columns):\n",
      "airport_id        353864 non-null object\n",
      "airport_name      353864 non-null object\n",
      "latitude          353864 non-null float64\n",
      "longitude         353864 non-null float64\n",
      "elevation         353864 non-null float64\n",
      "datetime          353864 non-null object\n",
      "temperature       353864 non-null float64\n",
      "visibility        353864 non-null int64\n",
      "wind_direction    353864 non-null int64\n",
      "wind_speed        353864 non-null float64\n",
      "snow_depth        161 non-null float64\n",
      "cloud_status      219924 non-null float64\n",
      "dtypes: float64(7), int64(2), object(3)\n",
      "memory usage: 32.4+ MB\n"
     ]
    }
   ],
   "source": [
    "df_weather.info()"
   ]
  },
  {
   "cell_type": "code",
   "execution_count": 5,
   "metadata": {},
   "outputs": [
    {
     "data": {
      "text/html": [
       "<div>\n",
       "<style scoped>\n",
       "    .dataframe tbody tr th:only-of-type {\n",
       "        vertical-align: middle;\n",
       "    }\n",
       "\n",
       "    .dataframe tbody tr th {\n",
       "        vertical-align: top;\n",
       "    }\n",
       "\n",
       "    .dataframe thead th {\n",
       "        text-align: right;\n",
       "    }\n",
       "</style>\n",
       "<table border=\"1\" class=\"dataframe\">\n",
       "  <thead>\n",
       "    <tr style=\"text-align: right;\">\n",
       "      <th></th>\n",
       "      <th>latitude</th>\n",
       "      <th>longitude</th>\n",
       "      <th>elevation</th>\n",
       "      <th>temperature</th>\n",
       "      <th>visibility</th>\n",
       "      <th>wind_direction</th>\n",
       "      <th>wind_speed</th>\n",
       "      <th>snow_depth</th>\n",
       "      <th>cloud_status</th>\n",
       "    </tr>\n",
       "  </thead>\n",
       "  <tbody>\n",
       "    <tr>\n",
       "      <th>count</th>\n",
       "      <td>353864.000000</td>\n",
       "      <td>353864.000000</td>\n",
       "      <td>353864.000000</td>\n",
       "      <td>353864.000000</td>\n",
       "      <td>353864.000000</td>\n",
       "      <td>353864.000000</td>\n",
       "      <td>353864.000000</td>\n",
       "      <td>161.000000</td>\n",
       "      <td>219924.0</td>\n",
       "    </tr>\n",
       "    <tr>\n",
       "      <th>mean</th>\n",
       "      <td>39.274844</td>\n",
       "      <td>-97.731652</td>\n",
       "      <td>381.337180</td>\n",
       "      <td>15.689767</td>\n",
       "      <td>16853.622745</td>\n",
       "      <td>326.495860</td>\n",
       "      <td>7.193903</td>\n",
       "      <td>13.142857</td>\n",
       "      <td>9.0</td>\n",
       "    </tr>\n",
       "    <tr>\n",
       "      <th>std</th>\n",
       "      <td>8.424115</td>\n",
       "      <td>21.302403</td>\n",
       "      <td>541.440381</td>\n",
       "      <td>47.625813</td>\n",
       "      <td>43579.156542</td>\n",
       "      <td>315.626276</td>\n",
       "      <td>59.468636</td>\n",
       "      <td>14.473189</td>\n",
       "      <td>0.0</td>\n",
       "    </tr>\n",
       "    <tr>\n",
       "      <th>min</th>\n",
       "      <td>17.699700</td>\n",
       "      <td>-176.650000</td>\n",
       "      <td>1.200000</td>\n",
       "      <td>-45.000000</td>\n",
       "      <td>0.000000</td>\n",
       "      <td>4.000000</td>\n",
       "      <td>0.000000</td>\n",
       "      <td>0.000000</td>\n",
       "      <td>9.0</td>\n",
       "    </tr>\n",
       "    <tr>\n",
       "      <th>25%</th>\n",
       "      <td>33.565560</td>\n",
       "      <td>-108.540000</td>\n",
       "      <td>29.000000</td>\n",
       "      <td>5.600000</td>\n",
       "      <td>16093.000000</td>\n",
       "      <td>130.000000</td>\n",
       "      <td>2.100000</td>\n",
       "      <td>5.000000</td>\n",
       "      <td>9.0</td>\n",
       "    </tr>\n",
       "    <tr>\n",
       "      <th>50%</th>\n",
       "      <td>39.483800</td>\n",
       "      <td>-92.838890</td>\n",
       "      <td>187.500000</td>\n",
       "      <td>15.000000</td>\n",
       "      <td>16093.000000</td>\n",
       "      <td>220.000000</td>\n",
       "      <td>3.100000</td>\n",
       "      <td>8.000000</td>\n",
       "      <td>9.0</td>\n",
       "    </tr>\n",
       "    <tr>\n",
       "      <th>75%</th>\n",
       "      <td>43.116700</td>\n",
       "      <td>-82.537500</td>\n",
       "      <td>389.200000</td>\n",
       "      <td>22.800000</td>\n",
       "      <td>16093.000000</td>\n",
       "      <td>330.000000</td>\n",
       "      <td>5.100000</td>\n",
       "      <td>15.000000</td>\n",
       "      <td>9.0</td>\n",
       "    </tr>\n",
       "    <tr>\n",
       "      <th>max</th>\n",
       "      <td>71.283400</td>\n",
       "      <td>-64.812500</td>\n",
       "      <td>2353.100000</td>\n",
       "      <td>999.900000</td>\n",
       "      <td>999999.000000</td>\n",
       "      <td>999.000000</td>\n",
       "      <td>999.900000</td>\n",
       "      <td>79.000000</td>\n",
       "      <td>9.0</td>\n",
       "    </tr>\n",
       "  </tbody>\n",
       "</table>\n",
       "</div>"
      ],
      "text/plain": [
       "            latitude      longitude      elevation    temperature  \\\n",
       "count  353864.000000  353864.000000  353864.000000  353864.000000   \n",
       "mean       39.274844     -97.731652     381.337180      15.689767   \n",
       "std         8.424115      21.302403     541.440381      47.625813   \n",
       "min        17.699700    -176.650000       1.200000     -45.000000   \n",
       "25%        33.565560    -108.540000      29.000000       5.600000   \n",
       "50%        39.483800     -92.838890     187.500000      15.000000   \n",
       "75%        43.116700     -82.537500     389.200000      22.800000   \n",
       "max        71.283400     -64.812500    2353.100000     999.900000   \n",
       "\n",
       "          visibility  wind_direction     wind_speed  snow_depth  cloud_status  \n",
       "count  353864.000000   353864.000000  353864.000000  161.000000      219924.0  \n",
       "mean    16853.622745      326.495860       7.193903   13.142857           9.0  \n",
       "std     43579.156542      315.626276      59.468636   14.473189           0.0  \n",
       "min         0.000000        4.000000       0.000000    0.000000           9.0  \n",
       "25%     16093.000000      130.000000       2.100000    5.000000           9.0  \n",
       "50%     16093.000000      220.000000       3.100000    8.000000           9.0  \n",
       "75%     16093.000000      330.000000       5.100000   15.000000           9.0  \n",
       "max    999999.000000      999.000000     999.900000   79.000000           9.0  "
      ]
     },
     "execution_count": 5,
     "metadata": {},
     "output_type": "execute_result"
    }
   ],
   "source": [
    "df_weather.describe()"
   ]
  },
  {
   "cell_type": "markdown",
   "metadata": {},
   "source": [
    "+ *`snow_depth` and `cloud_status` have `NaN` values*\n",
    "+ *`temperature`, `visibility`, `wind_direction`, `wind_speed` have abnormal values such as `999.0`*"
   ]
  },
  {
   "cell_type": "markdown",
   "metadata": {},
   "source": [
    "## Clean data in `df_weather`"
   ]
  },
  {
   "cell_type": "markdown",
   "metadata": {},
   "source": [
    "- **Alter abnormal values in `temperature`**"
   ]
  },
  {
   "cell_type": "code",
   "execution_count": 6,
   "metadata": {},
   "outputs": [
    {
     "data": {
      "text/plain": [
       "<matplotlib.axes._subplots.AxesSubplot at 0x20837b85788>"
      ]
     },
     "execution_count": 6,
     "metadata": {},
     "output_type": "execute_result"
    },
    {
     "data": {
      "image/png": "[encoded data removed]",
      "text/plain": [
       "<Figure size 1152x648 with 1 Axes>"
      ]
     },
     "metadata": {
      "needs_background": "light"
     },
     "output_type": "display_data"
    }
   ],
   "source": [
    "df_weather.plot(y = 'temperature', figsize=(16, 9))"
   ]
  },
  {
   "cell_type": "code",
   "execution_count": 7,
   "metadata": {},
   "outputs": [
    {
     "name": "stderr",
     "output_type": "stream",
     "text": [
      "c:\\users\\chendaoyuan\\appdata\\local\\programs\\python\\python37\\lib\\site-packages\\ipykernel_launcher.py:1: SettingWithCopyWarning: \n",
      "A value is trying to be set on a copy of a slice from a DataFrame\n",
      "\n",
      "See the caveats in the documentation: http://pandas.pydata.org/pandas-docs/stable/user_guide/indexing.html#returning-a-view-versus-a-copy\n",
      "  \"\"\"Entry point for launching an IPython kernel.\n"
     ]
    },
    {
     "data": {
      "text/plain": [
       "<matplotlib.axes._subplots.AxesSubplot at 0x208377f0288>"
      ]
     },
     "execution_count": 7,
     "metadata": {},
     "output_type": "execute_result"
    },
    {
     "data": {
      "image/png": "[encoded data removed]",
      "text/plain": [
       "<Figure size 1152x648 with 1 Axes>"
      ]
     },
     "metadata": {
      "needs_background": "light"
     },
     "output_type": "display_data"
    }
   ],
   "source": [
    "df_weather['temperature'][df_weather['temperature'] > 100] = np.nan\n",
    "df_weather['temperature'].fillna(method='bfill', inplace = True)\n",
    "df_weather.plot(y = 'temperature', figsize=(16, 9))"
   ]
  },
  {
   "cell_type": "markdown",
   "metadata": {},
   "source": [
    "- **Alter abnormal values in `visibility`**"
   ]
  },
  {
   "cell_type": "code",
   "execution_count": 8,
   "metadata": {},
   "outputs": [
    {
     "data": {
      "text/plain": [
       "<matplotlib.axes._subplots.AxesSubplot at 0x20837854908>"
      ]
     },
     "execution_count": 8,
     "metadata": {},
     "output_type": "execute_result"
    },
    {
     "data": {
      "image/png": "[encoded data removed]",
      "text/plain": [
       "<Figure size 1152x648 with 1 Axes>"
      ]
     },
     "metadata": {
      "needs_background": "light"
     },
     "output_type": "display_data"
    }
   ],
   "source": [
    "df_weather.plot(y = 'visibility', figsize=(16, 9))"
   ]
  },
  {
   "cell_type": "code",
   "execution_count": 9,
   "metadata": {},
   "outputs": [
    {
     "name": "stderr",
     "output_type": "stream",
     "text": [
      "c:\\users\\chendaoyuan\\appdata\\local\\programs\\python\\python37\\lib\\site-packages\\ipykernel_launcher.py:1: SettingWithCopyWarning: \n",
      "A value is trying to be set on a copy of a slice from a DataFrame\n",
      "\n",
      "See the caveats in the documentation: http://pandas.pydata.org/pandas-docs/stable/user_guide/indexing.html#returning-a-view-versus-a-copy\n",
      "  \"\"\"Entry point for launching an IPython kernel.\n"
     ]
    },
    {
     "data": {
      "text/plain": [
       "<matplotlib.axes._subplots.AxesSubplot at 0x208378bec48>"
      ]
     },
     "execution_count": 9,
     "metadata": {},
     "output_type": "execute_result"
    },
    {
     "data": {
      "image/png": "[encoded data removed]",
      "text/plain": [
       "<Figure size 1152x648 with 1 Axes>"
      ]
     },
     "metadata": {
      "needs_background": "light"
     },
     "output_type": "display_data"
    }
   ],
   "source": [
    "df_weather['visibility'][df_weather['visibility'] > 100000] = np.nan\n",
    "df_weather['visibility'].fillna(method='bfill', inplace = True)\n",
    "df_weather.plot(y = 'visibility', figsize=(16, 9))"
   ]
  },
  {
   "cell_type": "markdown",
   "metadata": {},
   "source": [
    "- **Alter abnormal values in `wind_direction`**"
   ]
  },
  {
   "cell_type": "code",
   "execution_count": 10,
   "metadata": {},
   "outputs": [
    {
     "data": {
      "text/plain": [
       "<matplotlib.axes._subplots.AxesSubplot at 0x2083793f4c8>"
      ]
     },
     "execution_count": 10,
     "metadata": {},
     "output_type": "execute_result"
    },
    {
     "data": {
      "image/png": "[encoded data removed]",
      "text/plain": [
       "<Figure size 1152x648 with 1 Axes>"
      ]
     },
     "metadata": {
      "needs_background": "light"
     },
     "output_type": "display_data"
    }
   ],
   "source": [
    "df_weather.plot(y = 'wind_direction', figsize=(16, 9))"
   ]
  },
  {
   "cell_type": "code",
   "execution_count": 11,
   "metadata": {},
   "outputs": [
    {
     "name": "stderr",
     "output_type": "stream",
     "text": [
      "c:\\users\\chendaoyuan\\appdata\\local\\programs\\python\\python37\\lib\\site-packages\\ipykernel_launcher.py:1: SettingWithCopyWarning: \n",
      "A value is trying to be set on a copy of a slice from a DataFrame\n",
      "\n",
      "See the caveats in the documentation: http://pandas.pydata.org/pandas-docs/stable/user_guide/indexing.html#returning-a-view-versus-a-copy\n",
      "  \"\"\"Entry point for launching an IPython kernel.\n"
     ]
    },
    {
     "data": {
      "text/plain": [
       "<matplotlib.axes._subplots.AxesSubplot at 0x20837dd0308>"
      ]
     },
     "execution_count": 11,
     "metadata": {},
     "output_type": "execute_result"
    },
    {
     "data": {
      "image/png": "[encoded data removed]",
      "text/plain": [
       "<Figure size 1152x648 with 1 Axes>"
      ]
     },
     "metadata": {
      "needs_background": "light"
     },
     "output_type": "display_data"
    }
   ],
   "source": [
    "df_weather['wind_direction'][df_weather['wind_direction'] > 360] = np.nan\n",
    "df_weather['wind_direction'].fillna(method='bfill', inplace = True)\n",
    "df_weather.plot(y = 'wind_direction', figsize=(16, 9))"
   ]
  },
  {
   "cell_type": "markdown",
   "metadata": {},
   "source": [
    "- **Alter abnormal values in `wind_speed`**"
   ]
  },
  {
   "cell_type": "code",
   "execution_count": 12,
   "metadata": {},
   "outputs": [
    {
     "data": {
      "text/plain": [
       "<matplotlib.axes._subplots.AxesSubplot at 0x20837e4e388>"
      ]
     },
     "execution_count": 12,
     "metadata": {},
     "output_type": "execute_result"
    },
    {
     "data": {
      "image/png": "[encoded data removed]",
      "text/plain": [
       "<Figure size 1152x648 with 1 Axes>"
      ]
     },
     "metadata": {
      "needs_background": "light"
     },
     "output_type": "display_data"
    }
   ],
   "source": [
    "df_weather.plot(y = 'wind_speed', figsize=(16, 9))"
   ]
  },
  {
   "cell_type": "code",
   "execution_count": 13,
   "metadata": {},
   "outputs": [
    {
     "name": "stderr",
     "output_type": "stream",
     "text": [
      "c:\\users\\chendaoyuan\\appdata\\local\\programs\\python\\python37\\lib\\site-packages\\ipykernel_launcher.py:1: SettingWithCopyWarning: \n",
      "A value is trying to be set on a copy of a slice from a DataFrame\n",
      "\n",
      "See the caveats in the documentation: http://pandas.pydata.org/pandas-docs/stable/user_guide/indexing.html#returning-a-view-versus-a-copy\n",
      "  \"\"\"Entry point for launching an IPython kernel.\n"
     ]
    },
    {
     "data": {
      "text/plain": [
       "<matplotlib.axes._subplots.AxesSubplot at 0x20838647948>"
      ]
     },
     "execution_count": 13,
     "metadata": {},
     "output_type": "execute_result"
    },
    {
     "data": {
      "image/png": "[encoded data removed]",
      "text/plain": [
       "<Figure size 1152x648 with 1 Axes>"
      ]
     },
     "metadata": {
      "needs_background": "light"
     },
     "output_type": "display_data"
    }
   ],
   "source": [
    "df_weather['wind_speed'][df_weather['wind_speed'] > 100] = np.nan\n",
    "df_weather['wind_speed'].fillna(method='bfill', inplace = True)\n",
    "df_weather.plot(y = 'wind_speed', figsize=(16, 9))"
   ]
  },
  {
   "cell_type": "markdown",
   "metadata": {},
   "source": [
    "- **Replace `NaN` with `0` in `snow_depth`**"
   ]
  },
  {
   "cell_type": "code",
   "execution_count": 14,
   "metadata": {},
   "outputs": [
    {
     "data": {
      "text/plain": [
       "<matplotlib.axes._subplots.AxesSubplot at 0x208002e6648>"
      ]
     },
     "execution_count": 14,
     "metadata": {},
     "output_type": "execute_result"
    },
    {
     "data": {
      "image/png": "[encoded data removed]",
      "text/plain": [
       "<Figure size 1152x648 with 1 Axes>"
      ]
     },
     "metadata": {
      "needs_background": "light"
     },
     "output_type": "display_data"
    }
   ],
   "source": [
    "df_weather.plot(y = 'snow_depth', figsize=(16, 9))"
   ]
  },
  {
   "cell_type": "code",
   "execution_count": 15,
   "metadata": {},
   "outputs": [
    {
     "data": {
      "text/plain": [
       "<matplotlib.axes._subplots.AxesSubplot at 0x2080053cb08>"
      ]
     },
     "execution_count": 15,
     "metadata": {},
     "output_type": "execute_result"
    },
    {
     "data": {
      "image/png": "[encoded data removed]",
      "text/plain": [
       "<Figure size 1152x648 with 1 Axes>"
      ]
     },
     "metadata": {
      "needs_background": "light"
     },
     "output_type": "display_data"
    }
   ],
   "source": [
    "df_weather['snow_depth'].fillna(0, inplace = True)\n",
    "df_weather.plot(y = 'snow_depth', figsize=(16, 9))"
   ]
  },
  {
   "cell_type": "markdown",
   "metadata": {},
   "source": [
    "- **Drop `cloud_status` since it only contains either `NaN` or `9` values, which are meaningless**"
   ]
  },
  {
   "cell_type": "code",
   "execution_count": 16,
   "metadata": {},
   "outputs": [],
   "source": [
    "df_weather.drop('cloud_status', axis = 1, inplace = True)"
   ]
  },
  {
   "cell_type": "markdown",
   "metadata": {},
   "source": [
    "- **Drop `airport_name`, `latitude`, `longitude`, `elevation` because they are not weather features**"
   ]
  },
  {
   "cell_type": "code",
   "execution_count": 17,
   "metadata": {},
   "outputs": [],
   "source": [
    "df_weather.drop(['airport_name', 'latitude', 'longitude', 'elevation'], axis = 1, inplace = True)"
   ]
  },
  {
   "cell_type": "markdown",
   "metadata": {},
   "source": [
    "- **Convert `datetime` to `year`, `month`, `day`, `time`**"
   ]
  },
  {
   "cell_type": "code",
   "execution_count": 18,
   "metadata": {},
   "outputs": [
    {
     "data": {
      "text/html": [
       "<div>\n",
       "<style scoped>\n",
       "    .dataframe tbody tr th:only-of-type {\n",
       "        vertical-align: middle;\n",
       "    }\n",
       "\n",
       "    .dataframe tbody tr th {\n",
       "        vertical-align: top;\n",
       "    }\n",
       "\n",
       "    .dataframe thead th {\n",
       "        text-align: right;\n",
       "    }\n",
       "</style>\n",
       "<table border=\"1\" class=\"dataframe\">\n",
       "  <thead>\n",
       "    <tr style=\"text-align: right;\">\n",
       "      <th></th>\n",
       "      <th>airport_id</th>\n",
       "      <th>datetime</th>\n",
       "      <th>temperature</th>\n",
       "      <th>visibility</th>\n",
       "      <th>wind_direction</th>\n",
       "      <th>wind_speed</th>\n",
       "      <th>snow_depth</th>\n",
       "      <th>year</th>\n",
       "      <th>month</th>\n",
       "      <th>day</th>\n",
       "      <th>time</th>\n",
       "    </tr>\n",
       "  </thead>\n",
       "  <tbody>\n",
       "    <tr>\n",
       "      <th>0</th>\n",
       "      <td>BUF</td>\n",
       "      <td>2017-01-01T00:54:00</td>\n",
       "      <td>3.9</td>\n",
       "      <td>16093.0</td>\n",
       "      <td>220.0</td>\n",
       "      <td>7.2</td>\n",
       "      <td>0.0</td>\n",
       "      <td>2017</td>\n",
       "      <td>01</td>\n",
       "      <td>01</td>\n",
       "      <td>0054</td>\n",
       "    </tr>\n",
       "    <tr>\n",
       "      <th>1</th>\n",
       "      <td>BUF</td>\n",
       "      <td>2017-01-01T06:54:00</td>\n",
       "      <td>0.6</td>\n",
       "      <td>16093.0</td>\n",
       "      <td>260.0</td>\n",
       "      <td>6.2</td>\n",
       "      <td>0.0</td>\n",
       "      <td>2017</td>\n",
       "      <td>01</td>\n",
       "      <td>01</td>\n",
       "      <td>0654</td>\n",
       "    </tr>\n",
       "    <tr>\n",
       "      <th>2</th>\n",
       "      <td>BUF</td>\n",
       "      <td>2017-01-01T12:54:00</td>\n",
       "      <td>-0.6</td>\n",
       "      <td>16093.0</td>\n",
       "      <td>250.0</td>\n",
       "      <td>5.1</td>\n",
       "      <td>0.0</td>\n",
       "      <td>2017</td>\n",
       "      <td>01</td>\n",
       "      <td>01</td>\n",
       "      <td>1254</td>\n",
       "    </tr>\n",
       "    <tr>\n",
       "      <th>3</th>\n",
       "      <td>BUF</td>\n",
       "      <td>2017-01-01T18:54:00</td>\n",
       "      <td>2.2</td>\n",
       "      <td>16093.0</td>\n",
       "      <td>240.0</td>\n",
       "      <td>5.7</td>\n",
       "      <td>0.0</td>\n",
       "      <td>2017</td>\n",
       "      <td>01</td>\n",
       "      <td>01</td>\n",
       "      <td>1854</td>\n",
       "    </tr>\n",
       "    <tr>\n",
       "      <th>4</th>\n",
       "      <td>BUF</td>\n",
       "      <td>2017-01-02T00:54:00</td>\n",
       "      <td>-0.6</td>\n",
       "      <td>16093.0</td>\n",
       "      <td>170.0</td>\n",
       "      <td>1.5</td>\n",
       "      <td>0.0</td>\n",
       "      <td>2017</td>\n",
       "      <td>01</td>\n",
       "      <td>02</td>\n",
       "      <td>0054</td>\n",
       "    </tr>\n",
       "  </tbody>\n",
       "</table>\n",
       "</div>"
      ],
      "text/plain": [
       "  airport_id             datetime  temperature  visibility  wind_direction  \\\n",
       "0        BUF  2017-01-01T00:54:00          3.9     16093.0           220.0   \n",
       "1        BUF  2017-01-01T06:54:00          0.6     16093.0           260.0   \n",
       "2        BUF  2017-01-01T12:54:00         -0.6     16093.0           250.0   \n",
       "3        BUF  2017-01-01T18:54:00          2.2     16093.0           240.0   \n",
       "4        BUF  2017-01-02T00:54:00         -0.6     16093.0           170.0   \n",
       "\n",
       "   wind_speed  snow_depth  year month day  time  \n",
       "0         7.2         0.0  2017    01  01  0054  \n",
       "1         6.2         0.0  2017    01  01  0654  \n",
       "2         5.1         0.0  2017    01  01  1254  \n",
       "3         5.7         0.0  2017    01  01  1854  \n",
       "4         1.5         0.0  2017    01  02  0054  "
      ]
     },
     "execution_count": 18,
     "metadata": {},
     "output_type": "execute_result"
    }
   ],
   "source": [
    "df_weather['year'] = df_weather['datetime'].apply(lambda x: x.split('-')[0])\n",
    "df_weather['month'] = df_weather['datetime'].apply(lambda x: x.split('-')[1])\n",
    "df_weather['day'] = df_weather['datetime'].apply(lambda x: x.split('-')[2].split('T')[0])\n",
    "df_weather['time'] = df_weather['datetime'].apply(lambda x: x.split('-')[2].split('T')[1].split(':')[0] + x.split('-')[2].split('T')[1].split(':')[1])\n",
    "df_weather.head()"
   ]
  },
  {
   "cell_type": "markdown",
   "metadata": {},
   "source": [
    "- **Set `time_zone` based on `time`**\n",
    "    - `0`: time from `1855` to `0054`\n",
    "    - `1`: time from `0055` to `0654`\n",
    "    - `2`: time from `0655` to `1254`\n",
    "    - `3`: time from `1255` to `1854`"
   ]
  },
  {
   "cell_type": "code",
   "execution_count": 19,
   "metadata": {},
   "outputs": [
    {
     "data": {
      "text/html": [
       "<div>\n",
       "<style scoped>\n",
       "    .dataframe tbody tr th:only-of-type {\n",
       "        vertical-align: middle;\n",
       "    }\n",
       "\n",
       "    .dataframe tbody tr th {\n",
       "        vertical-align: top;\n",
       "    }\n",
       "\n",
       "    .dataframe thead th {\n",
       "        text-align: right;\n",
       "    }\n",
       "</style>\n",
       "<table border=\"1\" class=\"dataframe\">\n",
       "  <thead>\n",
       "    <tr style=\"text-align: right;\">\n",
       "      <th></th>\n",
       "      <th>airport_id</th>\n",
       "      <th>datetime</th>\n",
       "      <th>temperature</th>\n",
       "      <th>visibility</th>\n",
       "      <th>wind_direction</th>\n",
       "      <th>wind_speed</th>\n",
       "      <th>snow_depth</th>\n",
       "      <th>year</th>\n",
       "      <th>month</th>\n",
       "      <th>day</th>\n",
       "      <th>time</th>\n",
       "      <th>time_zone</th>\n",
       "    </tr>\n",
       "  </thead>\n",
       "  <tbody>\n",
       "    <tr>\n",
       "      <th>0</th>\n",
       "      <td>BUF</td>\n",
       "      <td>2017-01-01T00:54:00</td>\n",
       "      <td>3.9</td>\n",
       "      <td>16093.0</td>\n",
       "      <td>220.0</td>\n",
       "      <td>7.2</td>\n",
       "      <td>0.0</td>\n",
       "      <td>2017</td>\n",
       "      <td>01</td>\n",
       "      <td>01</td>\n",
       "      <td>0054</td>\n",
       "      <td>0</td>\n",
       "    </tr>\n",
       "    <tr>\n",
       "      <th>1</th>\n",
       "      <td>BUF</td>\n",
       "      <td>2017-01-01T06:54:00</td>\n",
       "      <td>0.6</td>\n",
       "      <td>16093.0</td>\n",
       "      <td>260.0</td>\n",
       "      <td>6.2</td>\n",
       "      <td>0.0</td>\n",
       "      <td>2017</td>\n",
       "      <td>01</td>\n",
       "      <td>01</td>\n",
       "      <td>0654</td>\n",
       "      <td>1</td>\n",
       "    </tr>\n",
       "    <tr>\n",
       "      <th>2</th>\n",
       "      <td>BUF</td>\n",
       "      <td>2017-01-01T12:54:00</td>\n",
       "      <td>-0.6</td>\n",
       "      <td>16093.0</td>\n",
       "      <td>250.0</td>\n",
       "      <td>5.1</td>\n",
       "      <td>0.0</td>\n",
       "      <td>2017</td>\n",
       "      <td>01</td>\n",
       "      <td>01</td>\n",
       "      <td>1254</td>\n",
       "      <td>2</td>\n",
       "    </tr>\n",
       "    <tr>\n",
       "      <th>3</th>\n",
       "      <td>BUF</td>\n",
       "      <td>2017-01-01T18:54:00</td>\n",
       "      <td>2.2</td>\n",
       "      <td>16093.0</td>\n",
       "      <td>240.0</td>\n",
       "      <td>5.7</td>\n",
       "      <td>0.0</td>\n",
       "      <td>2017</td>\n",
       "      <td>01</td>\n",
       "      <td>01</td>\n",
       "      <td>1854</td>\n",
       "      <td>3</td>\n",
       "    </tr>\n",
       "    <tr>\n",
       "      <th>4</th>\n",
       "      <td>BUF</td>\n",
       "      <td>2017-01-02T00:54:00</td>\n",
       "      <td>-0.6</td>\n",
       "      <td>16093.0</td>\n",
       "      <td>170.0</td>\n",
       "      <td>1.5</td>\n",
       "      <td>0.0</td>\n",
       "      <td>2017</td>\n",
       "      <td>01</td>\n",
       "      <td>02</td>\n",
       "      <td>0054</td>\n",
       "      <td>0</td>\n",
       "    </tr>\n",
       "  </tbody>\n",
       "</table>\n",
       "</div>"
      ],
      "text/plain": [
       "  airport_id             datetime  temperature  visibility  wind_direction  \\\n",
       "0        BUF  2017-01-01T00:54:00          3.9     16093.0           220.0   \n",
       "1        BUF  2017-01-01T06:54:00          0.6     16093.0           260.0   \n",
       "2        BUF  2017-01-01T12:54:00         -0.6     16093.0           250.0   \n",
       "3        BUF  2017-01-01T18:54:00          2.2     16093.0           240.0   \n",
       "4        BUF  2017-01-02T00:54:00         -0.6     16093.0           170.0   \n",
       "\n",
       "   wind_speed  snow_depth  year month day  time  time_zone  \n",
       "0         7.2         0.0  2017    01  01  0054          0  \n",
       "1         6.2         0.0  2017    01  01  0654          1  \n",
       "2         5.1         0.0  2017    01  01  1254          2  \n",
       "3         5.7         0.0  2017    01  01  1854          3  \n",
       "4         1.5         0.0  2017    01  02  0054          0  "
      ]
     },
     "execution_count": 19,
     "metadata": {},
     "output_type": "execute_result"
    }
   ],
   "source": [
    "df_weather['time_zone'] = df_weather['time'].apply(lambda x: 0 if x == '0054' else 1 if x == '0654' else 2 if x == '1254' else 3)\n",
    "df_weather.head()"
   ]
  },
  {
   "cell_type": "markdown",
   "metadata": {},
   "source": [
    "- **Drop `datetime`**"
   ]
  },
  {
   "cell_type": "code",
   "execution_count": 20,
   "metadata": {},
   "outputs": [],
   "source": [
    "df_weather.drop('datetime', axis = 1, inplace = True)"
   ]
  },
  {
   "cell_type": "markdown",
   "metadata": {},
   "source": [
    "- **Convert data type of `year`, `month`, `day`, `time` to `int64`**"
   ]
  },
  {
   "cell_type": "code",
   "execution_count": 21,
   "metadata": {},
   "outputs": [
    {
     "name": "stdout",
     "output_type": "stream",
     "text": [
      "<class 'pandas.core.frame.DataFrame'>\n",
      "RangeIndex: 353864 entries, 0 to 353863\n",
      "Data columns (total 11 columns):\n",
      "airport_id        353864 non-null object\n",
      "temperature       353864 non-null float64\n",
      "visibility        353864 non-null float64\n",
      "wind_direction    353860 non-null float64\n",
      "wind_speed        353864 non-null float64\n",
      "snow_depth        353864 non-null float64\n",
      "year              353864 non-null int64\n",
      "month             353864 non-null int64\n",
      "day               353864 non-null int64\n",
      "time              353864 non-null int64\n",
      "time_zone         353864 non-null int64\n",
      "dtypes: float64(5), int64(5), object(1)\n",
      "memory usage: 29.7+ MB\n"
     ]
    }
   ],
   "source": [
    "df_weather[['year','month','day','time']] = df_weather[['year','month','day','time']].astype('int64')\n",
    "df_weather.info()"
   ]
  },
  {
   "cell_type": "markdown",
   "metadata": {},
   "source": [
    "- **Convert data type of `time_zone` to `category`**"
   ]
  },
  {
   "cell_type": "code",
   "execution_count": 22,
   "metadata": {},
   "outputs": [
    {
     "name": "stdout",
     "output_type": "stream",
     "text": [
      "<class 'pandas.core.frame.DataFrame'>\n",
      "RangeIndex: 353864 entries, 0 to 353863\n",
      "Data columns (total 11 columns):\n",
      "airport_id        353864 non-null object\n",
      "temperature       353864 non-null float64\n",
      "visibility        353864 non-null float64\n",
      "wind_direction    353860 non-null float64\n",
      "wind_speed        353864 non-null float64\n",
      "snow_depth        353864 non-null float64\n",
      "year              353864 non-null int64\n",
      "month             353864 non-null int64\n",
      "day               353864 non-null int64\n",
      "time              353864 non-null int64\n",
      "time_zone         353864 non-null category\n",
      "dtypes: category(1), float64(5), int64(4), object(1)\n",
      "memory usage: 27.3+ MB\n"
     ]
    }
   ],
   "source": [
    "df_weather['time_zone'] = df_weather['time_zone'].astype('category')\n",
    "df_weather.info()"
   ]
  },
  {
   "cell_type": "markdown",
   "metadata": {},
   "source": [
    "- **Set `wind_direction_zone` based on `wind_direction`**\n",
    "    - `NE`: `0` <= wind_direction < `90`\n",
    "    - `SE`: `90` <= wind_direction < `180`\n",
    "    - `SW`: `180` <= wind_direction < `270`\n",
    "    - `NW`: `270` <= wind_direction < `360`"
   ]
  },
  {
   "cell_type": "code",
   "execution_count": 23,
   "metadata": {},
   "outputs": [
    {
     "data": {
      "text/html": [
       "<div>\n",
       "<style scoped>\n",
       "    .dataframe tbody tr th:only-of-type {\n",
       "        vertical-align: middle;\n",
       "    }\n",
       "\n",
       "    .dataframe tbody tr th {\n",
       "        vertical-align: top;\n",
       "    }\n",
       "\n",
       "    .dataframe thead th {\n",
       "        text-align: right;\n",
       "    }\n",
       "</style>\n",
       "<table border=\"1\" class=\"dataframe\">\n",
       "  <thead>\n",
       "    <tr style=\"text-align: right;\">\n",
       "      <th></th>\n",
       "      <th>airport_id</th>\n",
       "      <th>temperature</th>\n",
       "      <th>visibility</th>\n",
       "      <th>wind_direction</th>\n",
       "      <th>wind_speed</th>\n",
       "      <th>snow_depth</th>\n",
       "      <th>year</th>\n",
       "      <th>month</th>\n",
       "      <th>day</th>\n",
       "      <th>time</th>\n",
       "      <th>time_zone</th>\n",
       "      <th>wind_direction_zone</th>\n",
       "    </tr>\n",
       "  </thead>\n",
       "  <tbody>\n",
       "    <tr>\n",
       "      <th>0</th>\n",
       "      <td>BUF</td>\n",
       "      <td>3.9</td>\n",
       "      <td>16093.0</td>\n",
       "      <td>220.0</td>\n",
       "      <td>7.2</td>\n",
       "      <td>0.0</td>\n",
       "      <td>2017</td>\n",
       "      <td>1</td>\n",
       "      <td>1</td>\n",
       "      <td>54</td>\n",
       "      <td>0</td>\n",
       "      <td>SW</td>\n",
       "    </tr>\n",
       "    <tr>\n",
       "      <th>1</th>\n",
       "      <td>BUF</td>\n",
       "      <td>0.6</td>\n",
       "      <td>16093.0</td>\n",
       "      <td>260.0</td>\n",
       "      <td>6.2</td>\n",
       "      <td>0.0</td>\n",
       "      <td>2017</td>\n",
       "      <td>1</td>\n",
       "      <td>1</td>\n",
       "      <td>654</td>\n",
       "      <td>1</td>\n",
       "      <td>SW</td>\n",
       "    </tr>\n",
       "    <tr>\n",
       "      <th>2</th>\n",
       "      <td>BUF</td>\n",
       "      <td>-0.6</td>\n",
       "      <td>16093.0</td>\n",
       "      <td>250.0</td>\n",
       "      <td>5.1</td>\n",
       "      <td>0.0</td>\n",
       "      <td>2017</td>\n",
       "      <td>1</td>\n",
       "      <td>1</td>\n",
       "      <td>1254</td>\n",
       "      <td>2</td>\n",
       "      <td>SW</td>\n",
       "    </tr>\n",
       "    <tr>\n",
       "      <th>3</th>\n",
       "      <td>BUF</td>\n",
       "      <td>2.2</td>\n",
       "      <td>16093.0</td>\n",
       "      <td>240.0</td>\n",
       "      <td>5.7</td>\n",
       "      <td>0.0</td>\n",
       "      <td>2017</td>\n",
       "      <td>1</td>\n",
       "      <td>1</td>\n",
       "      <td>1854</td>\n",
       "      <td>3</td>\n",
       "      <td>SW</td>\n",
       "    </tr>\n",
       "    <tr>\n",
       "      <th>4</th>\n",
       "      <td>BUF</td>\n",
       "      <td>-0.6</td>\n",
       "      <td>16093.0</td>\n",
       "      <td>170.0</td>\n",
       "      <td>1.5</td>\n",
       "      <td>0.0</td>\n",
       "      <td>2017</td>\n",
       "      <td>1</td>\n",
       "      <td>2</td>\n",
       "      <td>54</td>\n",
       "      <td>0</td>\n",
       "      <td>SE</td>\n",
       "    </tr>\n",
       "  </tbody>\n",
       "</table>\n",
       "</div>"
      ],
      "text/plain": [
       "  airport_id  temperature  visibility  wind_direction  wind_speed  snow_depth  \\\n",
       "0        BUF          3.9     16093.0           220.0         7.2         0.0   \n",
       "1        BUF          0.6     16093.0           260.0         6.2         0.0   \n",
       "2        BUF         -0.6     16093.0           250.0         5.1         0.0   \n",
       "3        BUF          2.2     16093.0           240.0         5.7         0.0   \n",
       "4        BUF         -0.6     16093.0           170.0         1.5         0.0   \n",
       "\n",
       "   year  month  day  time time_zone wind_direction_zone  \n",
       "0  2017      1    1    54         0                  SW  \n",
       "1  2017      1    1   654         1                  SW  \n",
       "2  2017      1    1  1254         2                  SW  \n",
       "3  2017      1    1  1854         3                  SW  \n",
       "4  2017      1    2    54         0                  SE  "
      ]
     },
     "execution_count": 23,
     "metadata": {},
     "output_type": "execute_result"
    }
   ],
   "source": [
    "df_weather['wind_direction_zone'] = df_weather['wind_direction'].apply(lambda x: 'NE' if x >= 0 and x < 90 else 'SE' if x >= 90 and x < 180 else 'SW' if x >= 180 and x < 270 else 'NW')\n",
    "df_weather.head()"
   ]
  },
  {
   "cell_type": "markdown",
   "metadata": {},
   "source": [
    "- **Convert data type of `wind_direction_zone` to `category`**"
   ]
  },
  {
   "cell_type": "code",
   "execution_count": 24,
   "metadata": {},
   "outputs": [
    {
     "name": "stdout",
     "output_type": "stream",
     "text": [
      "<class 'pandas.core.frame.DataFrame'>\n",
      "RangeIndex: 353864 entries, 0 to 353863\n",
      "Data columns (total 12 columns):\n",
      "airport_id             353864 non-null object\n",
      "temperature            353864 non-null float64\n",
      "visibility             353864 non-null float64\n",
      "wind_direction         353860 non-null float64\n",
      "wind_speed             353864 non-null float64\n",
      "snow_depth             353864 non-null float64\n",
      "year                   353864 non-null int64\n",
      "month                  353864 non-null int64\n",
      "day                    353864 non-null int64\n",
      "time                   353864 non-null int64\n",
      "time_zone              353864 non-null category\n",
      "wind_direction_zone    353864 non-null category\n",
      "dtypes: category(2), float64(5), int64(4), object(1)\n",
      "memory usage: 27.7+ MB\n"
     ]
    }
   ],
   "source": [
    "df_weather['wind_direction_zone'] = df_weather['wind_direction_zone'].astype('category')\n",
    "df_weather.info()"
   ]
  },
  {
   "cell_type": "markdown",
   "metadata": {},
   "source": [
    "- **Drop `time` and `wind_direction`**"
   ]
  },
  {
   "cell_type": "code",
   "execution_count": 25,
   "metadata": {},
   "outputs": [],
   "source": [
    "df_weather.drop(['time', 'wind_direction'], axis = 1, inplace = True)"
   ]
  },
  {
   "cell_type": "markdown",
   "metadata": {},
   "source": [
    "- **Done cleaning `df_weather`**"
   ]
  },
  {
   "cell_type": "code",
   "execution_count": 26,
   "metadata": {},
   "outputs": [
    {
     "data": {
      "text/html": [
       "<div>\n",
       "<style scoped>\n",
       "    .dataframe tbody tr th:only-of-type {\n",
       "        vertical-align: middle;\n",
       "    }\n",
       "\n",
       "    .dataframe tbody tr th {\n",
       "        vertical-align: top;\n",
       "    }\n",
       "\n",
       "    .dataframe thead th {\n",
       "        text-align: right;\n",
       "    }\n",
       "</style>\n",
       "<table border=\"1\" class=\"dataframe\">\n",
       "  <thead>\n",
       "    <tr style=\"text-align: right;\">\n",
       "      <th></th>\n",
       "      <th>airport_id</th>\n",
       "      <th>temperature</th>\n",
       "      <th>visibility</th>\n",
       "      <th>wind_speed</th>\n",
       "      <th>snow_depth</th>\n",
       "      <th>year</th>\n",
       "      <th>month</th>\n",
       "      <th>day</th>\n",
       "      <th>time_zone</th>\n",
       "      <th>wind_direction_zone</th>\n",
       "    </tr>\n",
       "  </thead>\n",
       "  <tbody>\n",
       "    <tr>\n",
       "      <th>0</th>\n",
       "      <td>BUF</td>\n",
       "      <td>3.9</td>\n",
       "      <td>16093.0</td>\n",
       "      <td>7.2</td>\n",
       "      <td>0.0</td>\n",
       "      <td>2017</td>\n",
       "      <td>1</td>\n",
       "      <td>1</td>\n",
       "      <td>0</td>\n",
       "      <td>SW</td>\n",
       "    </tr>\n",
       "    <tr>\n",
       "      <th>1</th>\n",
       "      <td>BUF</td>\n",
       "      <td>0.6</td>\n",
       "      <td>16093.0</td>\n",
       "      <td>6.2</td>\n",
       "      <td>0.0</td>\n",
       "      <td>2017</td>\n",
       "      <td>1</td>\n",
       "      <td>1</td>\n",
       "      <td>1</td>\n",
       "      <td>SW</td>\n",
       "    </tr>\n",
       "    <tr>\n",
       "      <th>2</th>\n",
       "      <td>BUF</td>\n",
       "      <td>-0.6</td>\n",
       "      <td>16093.0</td>\n",
       "      <td>5.1</td>\n",
       "      <td>0.0</td>\n",
       "      <td>2017</td>\n",
       "      <td>1</td>\n",
       "      <td>1</td>\n",
       "      <td>2</td>\n",
       "      <td>SW</td>\n",
       "    </tr>\n",
       "    <tr>\n",
       "      <th>3</th>\n",
       "      <td>BUF</td>\n",
       "      <td>2.2</td>\n",
       "      <td>16093.0</td>\n",
       "      <td>5.7</td>\n",
       "      <td>0.0</td>\n",
       "      <td>2017</td>\n",
       "      <td>1</td>\n",
       "      <td>1</td>\n",
       "      <td>3</td>\n",
       "      <td>SW</td>\n",
       "    </tr>\n",
       "    <tr>\n",
       "      <th>4</th>\n",
       "      <td>BUF</td>\n",
       "      <td>-0.6</td>\n",
       "      <td>16093.0</td>\n",
       "      <td>1.5</td>\n",
       "      <td>0.0</td>\n",
       "      <td>2017</td>\n",
       "      <td>1</td>\n",
       "      <td>2</td>\n",
       "      <td>0</td>\n",
       "      <td>SE</td>\n",
       "    </tr>\n",
       "  </tbody>\n",
       "</table>\n",
       "</div>"
      ],
      "text/plain": [
       "  airport_id  temperature  visibility  wind_speed  snow_depth  year  month  \\\n",
       "0        BUF          3.9     16093.0         7.2         0.0  2017      1   \n",
       "1        BUF          0.6     16093.0         6.2         0.0  2017      1   \n",
       "2        BUF         -0.6     16093.0         5.1         0.0  2017      1   \n",
       "3        BUF          2.2     16093.0         5.7         0.0  2017      1   \n",
       "4        BUF         -0.6     16093.0         1.5         0.0  2017      1   \n",
       "\n",
       "   day time_zone wind_direction_zone  \n",
       "0    1         0                  SW  \n",
       "1    1         1                  SW  \n",
       "2    1         2                  SW  \n",
       "3    1         3                  SW  \n",
       "4    2         0                  SE  "
      ]
     },
     "execution_count": 26,
     "metadata": {},
     "output_type": "execute_result"
    }
   ],
   "source": [
    "df_weather.head()"
   ]
  },
  {
   "cell_type": "code",
   "execution_count": 27,
   "metadata": {},
   "outputs": [
    {
     "name": "stdout",
     "output_type": "stream",
     "text": [
      "<class 'pandas.core.frame.DataFrame'>\n",
      "RangeIndex: 353864 entries, 0 to 353863\n",
      "Data columns (total 10 columns):\n",
      "airport_id             353864 non-null object\n",
      "temperature            353864 non-null float64\n",
      "visibility             353864 non-null float64\n",
      "wind_speed             353864 non-null float64\n",
      "snow_depth             353864 non-null float64\n",
      "year                   353864 non-null int64\n",
      "month                  353864 non-null int64\n",
      "day                    353864 non-null int64\n",
      "time_zone              353864 non-null category\n",
      "wind_direction_zone    353864 non-null category\n",
      "dtypes: category(2), float64(4), int64(3), object(1)\n",
      "memory usage: 22.3+ MB\n"
     ]
    }
   ],
   "source": [
    "df_weather.info()"
   ]
  },
  {
   "cell_type": "code",
   "execution_count": 28,
   "metadata": {},
   "outputs": [
    {
     "data": {
      "text/html": [
       "<div>\n",
       "<style scoped>\n",
       "    .dataframe tbody tr th:only-of-type {\n",
       "        vertical-align: middle;\n",
       "    }\n",
       "\n",
       "    .dataframe tbody tr th {\n",
       "        vertical-align: top;\n",
       "    }\n",
       "\n",
       "    .dataframe thead th {\n",
       "        text-align: right;\n",
       "    }\n",
       "</style>\n",
       "<table border=\"1\" class=\"dataframe\">\n",
       "  <thead>\n",
       "    <tr style=\"text-align: right;\">\n",
       "      <th></th>\n",
       "      <th>temperature</th>\n",
       "      <th>visibility</th>\n",
       "      <th>wind_speed</th>\n",
       "      <th>snow_depth</th>\n",
       "      <th>year</th>\n",
       "      <th>month</th>\n",
       "      <th>day</th>\n",
       "    </tr>\n",
       "  </thead>\n",
       "  <tbody>\n",
       "    <tr>\n",
       "      <th>count</th>\n",
       "      <td>353864.000000</td>\n",
       "      <td>353864.000000</td>\n",
       "      <td>353864.000000</td>\n",
       "      <td>353864.000000</td>\n",
       "      <td>353864.000000</td>\n",
       "      <td>353864.000000</td>\n",
       "      <td>353864.000000</td>\n",
       "    </tr>\n",
       "    <tr>\n",
       "      <th>mean</th>\n",
       "      <td>13.523257</td>\n",
       "      <td>14932.607668</td>\n",
       "      <td>3.639130</td>\n",
       "      <td>0.005980</td>\n",
       "      <td>2017.002730</td>\n",
       "      <td>6.502981</td>\n",
       "      <td>15.676376</td>\n",
       "    </tr>\n",
       "    <tr>\n",
       "      <th>std</th>\n",
       "      <td>11.592081</td>\n",
       "      <td>3278.567244</td>\n",
       "      <td>2.577425</td>\n",
       "      <td>0.416255</td>\n",
       "      <td>0.052177</td>\n",
       "      <td>3.456551</td>\n",
       "      <td>8.817540</td>\n",
       "    </tr>\n",
       "    <tr>\n",
       "      <th>min</th>\n",
       "      <td>-45.000000</td>\n",
       "      <td>0.000000</td>\n",
       "      <td>0.000000</td>\n",
       "      <td>0.000000</td>\n",
       "      <td>2017.000000</td>\n",
       "      <td>1.000000</td>\n",
       "      <td>1.000000</td>\n",
       "    </tr>\n",
       "    <tr>\n",
       "      <th>25%</th>\n",
       "      <td>5.600000</td>\n",
       "      <td>16093.000000</td>\n",
       "      <td>2.100000</td>\n",
       "      <td>0.000000</td>\n",
       "      <td>2017.000000</td>\n",
       "      <td>4.000000</td>\n",
       "      <td>8.000000</td>\n",
       "    </tr>\n",
       "    <tr>\n",
       "      <th>50%</th>\n",
       "      <td>15.000000</td>\n",
       "      <td>16093.000000</td>\n",
       "      <td>3.100000</td>\n",
       "      <td>0.000000</td>\n",
       "      <td>2017.000000</td>\n",
       "      <td>7.000000</td>\n",
       "      <td>16.000000</td>\n",
       "    </tr>\n",
       "    <tr>\n",
       "      <th>75%</th>\n",
       "      <td>22.800000</td>\n",
       "      <td>16093.000000</td>\n",
       "      <td>5.100000</td>\n",
       "      <td>0.000000</td>\n",
       "      <td>2017.000000</td>\n",
       "      <td>10.000000</td>\n",
       "      <td>23.000000</td>\n",
       "    </tr>\n",
       "    <tr>\n",
       "      <th>max</th>\n",
       "      <td>47.800000</td>\n",
       "      <td>22531.000000</td>\n",
       "      <td>26.300000</td>\n",
       "      <td>79.000000</td>\n",
       "      <td>2018.000000</td>\n",
       "      <td>12.000000</td>\n",
       "      <td>31.000000</td>\n",
       "    </tr>\n",
       "  </tbody>\n",
       "</table>\n",
       "</div>"
      ],
      "text/plain": [
       "         temperature     visibility     wind_speed     snow_depth  \\\n",
       "count  353864.000000  353864.000000  353864.000000  353864.000000   \n",
       "mean       13.523257   14932.607668       3.639130       0.005980   \n",
       "std        11.592081    3278.567244       2.577425       0.416255   \n",
       "min       -45.000000       0.000000       0.000000       0.000000   \n",
       "25%         5.600000   16093.000000       2.100000       0.000000   \n",
       "50%        15.000000   16093.000000       3.100000       0.000000   \n",
       "75%        22.800000   16093.000000       5.100000       0.000000   \n",
       "max        47.800000   22531.000000      26.300000      79.000000   \n",
       "\n",
       "                year          month            day  \n",
       "count  353864.000000  353864.000000  353864.000000  \n",
       "mean     2017.002730       6.502981      15.676376  \n",
       "std         0.052177       3.456551       8.817540  \n",
       "min      2017.000000       1.000000       1.000000  \n",
       "25%      2017.000000       4.000000       8.000000  \n",
       "50%      2017.000000       7.000000      16.000000  \n",
       "75%      2017.000000      10.000000      23.000000  \n",
       "max      2018.000000      12.000000      31.000000  "
      ]
     },
     "execution_count": 28,
     "metadata": {},
     "output_type": "execute_result"
    }
   ],
   "source": [
    "df_weather.describe()"
   ]
  },
  {
   "cell_type": "markdown",
   "metadata": {},
   "source": [
    "## Analyze `df_flight_traffic`"
   ]
  },
  {
   "cell_type": "code",
   "execution_count": 29,
   "metadata": {},
   "outputs": [
    {
     "name": "stdout",
     "output_type": "stream",
     "text": [
      "<class 'pandas.core.frame.DataFrame'>\n",
      "RangeIndex: 567673 entries, 0 to 567672\n",
      "Data columns (total 24 columns):\n",
      "year                   567673 non-null int64\n",
      "month                  567673 non-null int64\n",
      "day                    567673 non-null int64\n",
      "airline_id             567673 non-null object\n",
      "origin_airport         567673 non-null object\n",
      "destination_airport    567673 non-null object\n",
      "scheduled_departure    567673 non-null int64\n",
      "actual_departure       559620 non-null float64\n",
      "taxi_out               559441 non-null float64\n",
      "wheels_off             559441 non-null float64\n",
      "wheels_on              559195 non-null float64\n",
      "taxi_in                559195 non-null float64\n",
      "scheduled_arrival      567673 non-null int64\n",
      "actual_arrival         559195 non-null float64\n",
      "cancelled              567673 non-null int64\n",
      "diverted               567673 non-null int64\n",
      "scheduled_elapsed      567672 non-null float64\n",
      "actual_elapsed         558137 non-null float64\n",
      "distance               567673 non-null int64\n",
      "airline_delay          102606 non-null float64\n",
      "weather_delay          102606 non-null float64\n",
      "air_system_delay       102606 non-null float64\n",
      "security_delay         102606 non-null float64\n",
      "aircraft_delay         102606 non-null float64\n",
      "dtypes: float64(13), int64(8), object(3)\n",
      "memory usage: 103.9+ MB\n"
     ]
    }
   ],
   "source": [
    "df_flight_traffic.info()"
   ]
  },
  {
   "cell_type": "code",
   "execution_count": 30,
   "metadata": {},
   "outputs": [
    {
     "data": {
      "text/html": [
       "<div>\n",
       "<style scoped>\n",
       "    .dataframe tbody tr th:only-of-type {\n",
       "        vertical-align: middle;\n",
       "    }\n",
       "\n",
       "    .dataframe tbody tr th {\n",
       "        vertical-align: top;\n",
       "    }\n",
       "\n",
       "    .dataframe thead th {\n",
       "        text-align: right;\n",
       "    }\n",
       "</style>\n",
       "<table border=\"1\" class=\"dataframe\">\n",
       "  <thead>\n",
       "    <tr style=\"text-align: right;\">\n",
       "      <th></th>\n",
       "      <th>year</th>\n",
       "      <th>month</th>\n",
       "      <th>day</th>\n",
       "      <th>scheduled_departure</th>\n",
       "      <th>actual_departure</th>\n",
       "      <th>taxi_out</th>\n",
       "      <th>wheels_off</th>\n",
       "      <th>wheels_on</th>\n",
       "      <th>taxi_in</th>\n",
       "      <th>scheduled_arrival</th>\n",
       "      <th>...</th>\n",
       "      <th>cancelled</th>\n",
       "      <th>diverted</th>\n",
       "      <th>scheduled_elapsed</th>\n",
       "      <th>actual_elapsed</th>\n",
       "      <th>distance</th>\n",
       "      <th>airline_delay</th>\n",
       "      <th>weather_delay</th>\n",
       "      <th>air_system_delay</th>\n",
       "      <th>security_delay</th>\n",
       "      <th>aircraft_delay</th>\n",
       "    </tr>\n",
       "  </thead>\n",
       "  <tbody>\n",
       "    <tr>\n",
       "      <th>count</th>\n",
       "      <td>567673.0</td>\n",
       "      <td>567673.000000</td>\n",
       "      <td>567673.000000</td>\n",
       "      <td>567673.000000</td>\n",
       "      <td>559620.000000</td>\n",
       "      <td>559441.000000</td>\n",
       "      <td>559441.000000</td>\n",
       "      <td>559195.000000</td>\n",
       "      <td>559195.000000</td>\n",
       "      <td>567673.000000</td>\n",
       "      <td>...</td>\n",
       "      <td>567673.000000</td>\n",
       "      <td>567673.000000</td>\n",
       "      <td>567672.000000</td>\n",
       "      <td>558137.000000</td>\n",
       "      <td>567673.000000</td>\n",
       "      <td>102606.000000</td>\n",
       "      <td>102606.000000</td>\n",
       "      <td>102606.000000</td>\n",
       "      <td>102606.000000</td>\n",
       "      <td>102606.000000</td>\n",
       "    </tr>\n",
       "    <tr>\n",
       "      <th>mean</th>\n",
       "      <td>2017.0</td>\n",
       "      <td>6.542909</td>\n",
       "      <td>15.741490</td>\n",
       "      <td>1330.138055</td>\n",
       "      <td>1333.738726</td>\n",
       "      <td>16.759742</td>\n",
       "      <td>1355.668278</td>\n",
       "      <td>1464.290453</td>\n",
       "      <td>7.505046</td>\n",
       "      <td>1488.999338</td>\n",
       "      <td>...</td>\n",
       "      <td>0.014593</td>\n",
       "      <td>0.002207</td>\n",
       "      <td>146.970129</td>\n",
       "      <td>141.690062</td>\n",
       "      <td>856.468541</td>\n",
       "      <td>19.872220</td>\n",
       "      <td>2.751652</td>\n",
       "      <td>15.865164</td>\n",
       "      <td>0.083806</td>\n",
       "      <td>25.340107</td>\n",
       "    </tr>\n",
       "    <tr>\n",
       "      <th>std</th>\n",
       "      <td>0.0</td>\n",
       "      <td>3.390609</td>\n",
       "      <td>8.775778</td>\n",
       "      <td>490.640811</td>\n",
       "      <td>504.086954</td>\n",
       "      <td>9.336857</td>\n",
       "      <td>505.981109</td>\n",
       "      <td>533.711712</td>\n",
       "      <td>5.888643</td>\n",
       "      <td>518.789647</td>\n",
       "      <td>...</td>\n",
       "      <td>0.119917</td>\n",
       "      <td>0.046930</td>\n",
       "      <td>77.088542</td>\n",
       "      <td>76.628710</td>\n",
       "      <td>624.533648</td>\n",
       "      <td>62.413858</td>\n",
       "      <td>24.813047</td>\n",
       "      <td>35.569305</td>\n",
       "      <td>2.315777</td>\n",
       "      <td>46.937251</td>\n",
       "    </tr>\n",
       "    <tr>\n",
       "      <th>min</th>\n",
       "      <td>2017.0</td>\n",
       "      <td>1.000000</td>\n",
       "      <td>1.000000</td>\n",
       "      <td>1.000000</td>\n",
       "      <td>1.000000</td>\n",
       "      <td>0.000000</td>\n",
       "      <td>1.000000</td>\n",
       "      <td>1.000000</td>\n",
       "      <td>1.000000</td>\n",
       "      <td>1.000000</td>\n",
       "      <td>...</td>\n",
       "      <td>0.000000</td>\n",
       "      <td>0.000000</td>\n",
       "      <td>18.000000</td>\n",
       "      <td>16.000000</td>\n",
       "      <td>31.000000</td>\n",
       "      <td>0.000000</td>\n",
       "      <td>0.000000</td>\n",
       "      <td>0.000000</td>\n",
       "      <td>0.000000</td>\n",
       "      <td>0.000000</td>\n",
       "    </tr>\n",
       "    <tr>\n",
       "      <th>25%</th>\n",
       "      <td>2017.0</td>\n",
       "      <td>4.000000</td>\n",
       "      <td>8.000000</td>\n",
       "      <td>914.000000</td>\n",
       "      <td>915.000000</td>\n",
       "      <td>11.000000</td>\n",
       "      <td>930.000000</td>\n",
       "      <td>1047.000000</td>\n",
       "      <td>4.000000</td>\n",
       "      <td>1104.000000</td>\n",
       "      <td>...</td>\n",
       "      <td>0.000000</td>\n",
       "      <td>0.000000</td>\n",
       "      <td>90.000000</td>\n",
       "      <td>85.000000</td>\n",
       "      <td>391.000000</td>\n",
       "      <td>0.000000</td>\n",
       "      <td>0.000000</td>\n",
       "      <td>0.000000</td>\n",
       "      <td>0.000000</td>\n",
       "      <td>0.000000</td>\n",
       "    </tr>\n",
       "    <tr>\n",
       "      <th>50%</th>\n",
       "      <td>2017.0</td>\n",
       "      <td>7.000000</td>\n",
       "      <td>16.000000</td>\n",
       "      <td>1324.000000</td>\n",
       "      <td>1328.000000</td>\n",
       "      <td>14.000000</td>\n",
       "      <td>1340.000000</td>\n",
       "      <td>1506.000000</td>\n",
       "      <td>6.000000</td>\n",
       "      <td>1519.000000</td>\n",
       "      <td>...</td>\n",
       "      <td>0.000000</td>\n",
       "      <td>0.000000</td>\n",
       "      <td>128.000000</td>\n",
       "      <td>123.000000</td>\n",
       "      <td>680.000000</td>\n",
       "      <td>1.000000</td>\n",
       "      <td>0.000000</td>\n",
       "      <td>2.000000</td>\n",
       "      <td>0.000000</td>\n",
       "      <td>4.000000</td>\n",
       "    </tr>\n",
       "    <tr>\n",
       "      <th>75%</th>\n",
       "      <td>2017.0</td>\n",
       "      <td>9.000000</td>\n",
       "      <td>23.000000</td>\n",
       "      <td>1735.000000</td>\n",
       "      <td>1743.000000</td>\n",
       "      <td>20.000000</td>\n",
       "      <td>1757.000000</td>\n",
       "      <td>1912.000000</td>\n",
       "      <td>9.000000</td>\n",
       "      <td>1920.000000</td>\n",
       "      <td>...</td>\n",
       "      <td>0.000000</td>\n",
       "      <td>0.000000</td>\n",
       "      <td>180.000000</td>\n",
       "      <td>175.000000</td>\n",
       "      <td>1096.000000</td>\n",
       "      <td>17.000000</td>\n",
       "      <td>0.000000</td>\n",
       "      <td>19.000000</td>\n",
       "      <td>0.000000</td>\n",
       "      <td>32.000000</td>\n",
       "    </tr>\n",
       "    <tr>\n",
       "      <th>max</th>\n",
       "      <td>2017.0</td>\n",
       "      <td>12.000000</td>\n",
       "      <td>31.000000</td>\n",
       "      <td>2359.000000</td>\n",
       "      <td>2400.000000</td>\n",
       "      <td>176.000000</td>\n",
       "      <td>2400.000000</td>\n",
       "      <td>2400.000000</td>\n",
       "      <td>413.000000</td>\n",
       "      <td>2359.000000</td>\n",
       "      <td>...</td>\n",
       "      <td>1.000000</td>\n",
       "      <td>1.000000</td>\n",
       "      <td>718.000000</td>\n",
       "      <td>726.000000</td>\n",
       "      <td>4983.000000</td>\n",
       "      <td>1895.000000</td>\n",
       "      <td>1336.000000</td>\n",
       "      <td>1138.000000</td>\n",
       "      <td>322.000000</td>\n",
       "      <td>1336.000000</td>\n",
       "    </tr>\n",
       "  </tbody>\n",
       "</table>\n",
       "<p>8 rows × 21 columns</p>\n",
       "</div>"
      ],
      "text/plain": [
       "           year          month            day  scheduled_departure  \\\n",
       "count  567673.0  567673.000000  567673.000000        567673.000000   \n",
       "mean     2017.0       6.542909      15.741490          1330.138055   \n",
       "std         0.0       3.390609       8.775778           490.640811   \n",
       "min      2017.0       1.000000       1.000000             1.000000   \n",
       "25%      2017.0       4.000000       8.000000           914.000000   \n",
       "50%      2017.0       7.000000      16.000000          1324.000000   \n",
       "75%      2017.0       9.000000      23.000000          1735.000000   \n",
       "max      2017.0      12.000000      31.000000          2359.000000   \n",
       "\n",
       "       actual_departure       taxi_out     wheels_off      wheels_on  \\\n",
       "count     559620.000000  559441.000000  559441.000000  559195.000000   \n",
       "mean        1333.738726      16.759742    1355.668278    1464.290453   \n",
       "std          504.086954       9.336857     505.981109     533.711712   \n",
       "min            1.000000       0.000000       1.000000       1.000000   \n",
       "25%          915.000000      11.000000     930.000000    1047.000000   \n",
       "50%         1328.000000      14.000000    1340.000000    1506.000000   \n",
       "75%         1743.000000      20.000000    1757.000000    1912.000000   \n",
       "max         2400.000000     176.000000    2400.000000    2400.000000   \n",
       "\n",
       "             taxi_in  scheduled_arrival  ...      cancelled       diverted  \\\n",
       "count  559195.000000      567673.000000  ...  567673.000000  567673.000000   \n",
       "mean        7.505046        1488.999338  ...       0.014593       0.002207   \n",
       "std         5.888643         518.789647  ...       0.119917       0.046930   \n",
       "min         1.000000           1.000000  ...       0.000000       0.000000   \n",
       "25%         4.000000        1104.000000  ...       0.000000       0.000000   \n",
       "50%         6.000000        1519.000000  ...       0.000000       0.000000   \n",
       "75%         9.000000        1920.000000  ...       0.000000       0.000000   \n",
       "max       413.000000        2359.000000  ...       1.000000       1.000000   \n",
       "\n",
       "       scheduled_elapsed  actual_elapsed       distance  airline_delay  \\\n",
       "count      567672.000000   558137.000000  567673.000000  102606.000000   \n",
       "mean          146.970129      141.690062     856.468541      19.872220   \n",
       "std            77.088542       76.628710     624.533648      62.413858   \n",
       "min            18.000000       16.000000      31.000000       0.000000   \n",
       "25%            90.000000       85.000000     391.000000       0.000000   \n",
       "50%           128.000000      123.000000     680.000000       1.000000   \n",
       "75%           180.000000      175.000000    1096.000000      17.000000   \n",
       "max           718.000000      726.000000    4983.000000    1895.000000   \n",
       "\n",
       "       weather_delay  air_system_delay  security_delay  aircraft_delay  \n",
       "count  102606.000000     102606.000000   102606.000000   102606.000000  \n",
       "mean        2.751652         15.865164        0.083806       25.340107  \n",
       "std        24.813047         35.569305        2.315777       46.937251  \n",
       "min         0.000000          0.000000        0.000000        0.000000  \n",
       "25%         0.000000          0.000000        0.000000        0.000000  \n",
       "50%         0.000000          2.000000        0.000000        4.000000  \n",
       "75%         0.000000         19.000000        0.000000       32.000000  \n",
       "max      1336.000000       1138.000000      322.000000     1336.000000  \n",
       "\n",
       "[8 rows x 21 columns]"
      ]
     },
     "execution_count": 30,
     "metadata": {},
     "output_type": "execute_result"
    }
   ],
   "source": [
    "df_flight_traffic.describe()"
   ]
  },
  {
   "cell_type": "markdown",
   "metadata": {},
   "source": [
    "- **Check how many flights were `cancelled`**"
   ]
  },
  {
   "cell_type": "code",
   "execution_count": 31,
   "metadata": {},
   "outputs": [
    {
     "name": "stdout",
     "output_type": "stream",
     "text": [
      "Number of flights cancelled: 8284\n"
     ]
    }
   ],
   "source": [
    "print('Number of flights cancelled: ' + str(df_flight_traffic['cancelled'][df_flight_traffic['cancelled'] == 1].sum()))"
   ]
  },
  {
   "cell_type": "markdown",
   "metadata": {},
   "source": [
    "- **Check how many flights were `diverted`**"
   ]
  },
  {
   "cell_type": "code",
   "execution_count": 32,
   "metadata": {},
   "outputs": [
    {
     "name": "stdout",
     "output_type": "stream",
     "text": [
      "Number of flights diverted: 1253\n"
     ]
    }
   ],
   "source": [
    "print('Number of flights diverted: ' + str(df_flight_traffic['diverted'][df_flight_traffic['diverted'] == 1].sum()))"
   ]
  },
  {
   "cell_type": "markdown",
   "metadata": {},
   "source": [
    "- **Check how many flights were delayed based on `weather_delay`**"
   ]
  },
  {
   "cell_type": "code",
   "execution_count": 33,
   "metadata": {},
   "outputs": [
    {
     "name": "stdout",
     "output_type": "stream",
     "text": [
      "Number of flights delayed due to weather: 4860\n"
     ]
    }
   ],
   "source": [
    "print('Number of flights delayed due to weather: ' + str(len(df_flight_traffic['weather_delay'][df_flight_traffic['weather_delay'].notna() & df_flight_traffic['weather_delay'] != 0])))"
   ]
  },
  {
   "cell_type": "markdown",
   "metadata": {},
   "source": [
    "## Clean data in `df_flight_traffic`"
   ]
  },
  {
   "cell_type": "markdown",
   "metadata": {},
   "source": [
    "- **Drop `airline_id`, `actual_departure`, `taxi_out`, `wheels_off`, `wheels_on`, `taxi_in`, `actual_arrival`, `scheduled_elapsed`, `actual_elapsed`, `distance` which won't be used in training model**"
   ]
  },
  {
   "cell_type": "code",
   "execution_count": 34,
   "metadata": {},
   "outputs": [
    {
     "data": {
      "text/html": [
       "<div>\n",
       "<style scoped>\n",
       "    .dataframe tbody tr th:only-of-type {\n",
       "        vertical-align: middle;\n",
       "    }\n",
       "\n",
       "    .dataframe tbody tr th {\n",
       "        vertical-align: top;\n",
       "    }\n",
       "\n",
       "    .dataframe thead th {\n",
       "        text-align: right;\n",
       "    }\n",
       "</style>\n",
       "<table border=\"1\" class=\"dataframe\">\n",
       "  <thead>\n",
       "    <tr style=\"text-align: right;\">\n",
       "      <th></th>\n",
       "      <th>year</th>\n",
       "      <th>month</th>\n",
       "      <th>day</th>\n",
       "      <th>origin_airport</th>\n",
       "      <th>destination_airport</th>\n",
       "      <th>scheduled_departure</th>\n",
       "      <th>scheduled_arrival</th>\n",
       "      <th>cancelled</th>\n",
       "      <th>diverted</th>\n",
       "      <th>airline_delay</th>\n",
       "      <th>weather_delay</th>\n",
       "      <th>air_system_delay</th>\n",
       "      <th>security_delay</th>\n",
       "      <th>aircraft_delay</th>\n",
       "    </tr>\n",
       "  </thead>\n",
       "  <tbody>\n",
       "    <tr>\n",
       "      <th>0</th>\n",
       "      <td>2017</td>\n",
       "      <td>1</td>\n",
       "      <td>31</td>\n",
       "      <td>CLT</td>\n",
       "      <td>PHX</td>\n",
       "      <td>1619</td>\n",
       "      <td>1856</td>\n",
       "      <td>0</td>\n",
       "      <td>0</td>\n",
       "      <td>NaN</td>\n",
       "      <td>NaN</td>\n",
       "      <td>NaN</td>\n",
       "      <td>NaN</td>\n",
       "      <td>NaN</td>\n",
       "    </tr>\n",
       "    <tr>\n",
       "      <th>1</th>\n",
       "      <td>2017</td>\n",
       "      <td>1</td>\n",
       "      <td>12</td>\n",
       "      <td>FLL</td>\n",
       "      <td>CLT</td>\n",
       "      <td>1305</td>\n",
       "      <td>1508</td>\n",
       "      <td>0</td>\n",
       "      <td>0</td>\n",
       "      <td>NaN</td>\n",
       "      <td>NaN</td>\n",
       "      <td>NaN</td>\n",
       "      <td>NaN</td>\n",
       "      <td>NaN</td>\n",
       "    </tr>\n",
       "    <tr>\n",
       "      <th>2</th>\n",
       "      <td>2017</td>\n",
       "      <td>1</td>\n",
       "      <td>14</td>\n",
       "      <td>FLL</td>\n",
       "      <td>CLT</td>\n",
       "      <td>1305</td>\n",
       "      <td>1508</td>\n",
       "      <td>0</td>\n",
       "      <td>0</td>\n",
       "      <td>NaN</td>\n",
       "      <td>NaN</td>\n",
       "      <td>NaN</td>\n",
       "      <td>NaN</td>\n",
       "      <td>NaN</td>\n",
       "    </tr>\n",
       "    <tr>\n",
       "      <th>3</th>\n",
       "      <td>2017</td>\n",
       "      <td>1</td>\n",
       "      <td>18</td>\n",
       "      <td>FLL</td>\n",
       "      <td>CLT</td>\n",
       "      <td>1305</td>\n",
       "      <td>1508</td>\n",
       "      <td>0</td>\n",
       "      <td>0</td>\n",
       "      <td>NaN</td>\n",
       "      <td>NaN</td>\n",
       "      <td>NaN</td>\n",
       "      <td>NaN</td>\n",
       "      <td>NaN</td>\n",
       "    </tr>\n",
       "    <tr>\n",
       "      <th>4</th>\n",
       "      <td>2017</td>\n",
       "      <td>1</td>\n",
       "      <td>25</td>\n",
       "      <td>FLL</td>\n",
       "      <td>CLT</td>\n",
       "      <td>1305</td>\n",
       "      <td>1508</td>\n",
       "      <td>0</td>\n",
       "      <td>0</td>\n",
       "      <td>NaN</td>\n",
       "      <td>NaN</td>\n",
       "      <td>NaN</td>\n",
       "      <td>NaN</td>\n",
       "      <td>NaN</td>\n",
       "    </tr>\n",
       "  </tbody>\n",
       "</table>\n",
       "</div>"
      ],
      "text/plain": [
       "   year  month  day origin_airport destination_airport  scheduled_departure  \\\n",
       "0  2017      1   31            CLT                 PHX                 1619   \n",
       "1  2017      1   12            FLL                 CLT                 1305   \n",
       "2  2017      1   14            FLL                 CLT                 1305   \n",
       "3  2017      1   18            FLL                 CLT                 1305   \n",
       "4  2017      1   25            FLL                 CLT                 1305   \n",
       "\n",
       "   scheduled_arrival  cancelled  diverted  airline_delay  weather_delay  \\\n",
       "0               1856          0         0            NaN            NaN   \n",
       "1               1508          0         0            NaN            NaN   \n",
       "2               1508          0         0            NaN            NaN   \n",
       "3               1508          0         0            NaN            NaN   \n",
       "4               1508          0         0            NaN            NaN   \n",
       "\n",
       "   air_system_delay  security_delay  aircraft_delay  \n",
       "0               NaN             NaN             NaN  \n",
       "1               NaN             NaN             NaN  \n",
       "2               NaN             NaN             NaN  \n",
       "3               NaN             NaN             NaN  \n",
       "4               NaN             NaN             NaN  "
      ]
     },
     "execution_count": 34,
     "metadata": {},
     "output_type": "execute_result"
    }
   ],
   "source": [
    "df_flight_traffic.drop(['airline_id', 'actual_departure', 'taxi_out', 'wheels_off', 'wheels_on', 'taxi_in', 'actual_arrival', 'scheduled_elapsed', 'actual_elapsed', 'distance'], axis = 1, inplace = True)\n",
    "df_flight_traffic.head()"
   ]
  },
  {
   "cell_type": "markdown",
   "metadata": {},
   "source": [
    "- **Drop rows with delays not related to weather**"
   ]
  },
  {
   "cell_type": "code",
   "execution_count": 35,
   "metadata": {},
   "outputs": [
    {
     "name": "stdout",
     "output_type": "stream",
     "text": [
      "<class 'pandas.core.frame.DataFrame'>\n",
      "Int64Index: 469927 entries, 0 to 567672\n",
      "Data columns (total 14 columns):\n",
      "year                   469927 non-null int64\n",
      "month                  469927 non-null int64\n",
      "day                    469927 non-null int64\n",
      "origin_airport         469927 non-null object\n",
      "destination_airport    469927 non-null object\n",
      "scheduled_departure    469927 non-null int64\n",
      "scheduled_arrival      469927 non-null int64\n",
      "cancelled              469927 non-null int64\n",
      "diverted               469927 non-null int64\n",
      "airline_delay          4860 non-null float64\n",
      "weather_delay          4860 non-null float64\n",
      "air_system_delay       4860 non-null float64\n",
      "security_delay         4860 non-null float64\n",
      "aircraft_delay         4860 non-null float64\n",
      "dtypes: float64(5), int64(7), object(2)\n",
      "memory usage: 53.8+ MB\n"
     ]
    }
   ],
   "source": [
    "df_flight_traffic = df_flight_traffic.loc[df_flight_traffic['weather_delay'] != 0]\n",
    "df_flight_traffic.info()"
   ]
  },
  {
   "cell_type": "markdown",
   "metadata": {},
   "source": [
    "- **Drop `airline_delay`, `air_system_delay`, `security_delay`, `aircraft_delay`**"
   ]
  },
  {
   "cell_type": "code",
   "execution_count": 36,
   "metadata": {},
   "outputs": [
    {
     "data": {
      "text/html": [
       "<div>\n",
       "<style scoped>\n",
       "    .dataframe tbody tr th:only-of-type {\n",
       "        vertical-align: middle;\n",
       "    }\n",
       "\n",
       "    .dataframe tbody tr th {\n",
       "        vertical-align: top;\n",
       "    }\n",
       "\n",
       "    .dataframe thead th {\n",
       "        text-align: right;\n",
       "    }\n",
       "</style>\n",
       "<table border=\"1\" class=\"dataframe\">\n",
       "  <thead>\n",
       "    <tr style=\"text-align: right;\">\n",
       "      <th></th>\n",
       "      <th>year</th>\n",
       "      <th>month</th>\n",
       "      <th>day</th>\n",
       "      <th>origin_airport</th>\n",
       "      <th>destination_airport</th>\n",
       "      <th>scheduled_departure</th>\n",
       "      <th>scheduled_arrival</th>\n",
       "      <th>cancelled</th>\n",
       "      <th>diverted</th>\n",
       "      <th>weather_delay</th>\n",
       "    </tr>\n",
       "  </thead>\n",
       "  <tbody>\n",
       "    <tr>\n",
       "      <th>0</th>\n",
       "      <td>2017</td>\n",
       "      <td>1</td>\n",
       "      <td>31</td>\n",
       "      <td>CLT</td>\n",
       "      <td>PHX</td>\n",
       "      <td>1619</td>\n",
       "      <td>1856</td>\n",
       "      <td>0</td>\n",
       "      <td>0</td>\n",
       "      <td>NaN</td>\n",
       "    </tr>\n",
       "    <tr>\n",
       "      <th>1</th>\n",
       "      <td>2017</td>\n",
       "      <td>1</td>\n",
       "      <td>12</td>\n",
       "      <td>FLL</td>\n",
       "      <td>CLT</td>\n",
       "      <td>1305</td>\n",
       "      <td>1508</td>\n",
       "      <td>0</td>\n",
       "      <td>0</td>\n",
       "      <td>NaN</td>\n",
       "    </tr>\n",
       "    <tr>\n",
       "      <th>2</th>\n",
       "      <td>2017</td>\n",
       "      <td>1</td>\n",
       "      <td>14</td>\n",
       "      <td>FLL</td>\n",
       "      <td>CLT</td>\n",
       "      <td>1305</td>\n",
       "      <td>1508</td>\n",
       "      <td>0</td>\n",
       "      <td>0</td>\n",
       "      <td>NaN</td>\n",
       "    </tr>\n",
       "    <tr>\n",
       "      <th>3</th>\n",
       "      <td>2017</td>\n",
       "      <td>1</td>\n",
       "      <td>18</td>\n",
       "      <td>FLL</td>\n",
       "      <td>CLT</td>\n",
       "      <td>1305</td>\n",
       "      <td>1508</td>\n",
       "      <td>0</td>\n",
       "      <td>0</td>\n",
       "      <td>NaN</td>\n",
       "    </tr>\n",
       "    <tr>\n",
       "      <th>4</th>\n",
       "      <td>2017</td>\n",
       "      <td>1</td>\n",
       "      <td>25</td>\n",
       "      <td>FLL</td>\n",
       "      <td>CLT</td>\n",
       "      <td>1305</td>\n",
       "      <td>1508</td>\n",
       "      <td>0</td>\n",
       "      <td>0</td>\n",
       "      <td>NaN</td>\n",
       "    </tr>\n",
       "  </tbody>\n",
       "</table>\n",
       "</div>"
      ],
      "text/plain": [
       "   year  month  day origin_airport destination_airport  scheduled_departure  \\\n",
       "0  2017      1   31            CLT                 PHX                 1619   \n",
       "1  2017      1   12            FLL                 CLT                 1305   \n",
       "2  2017      1   14            FLL                 CLT                 1305   \n",
       "3  2017      1   18            FLL                 CLT                 1305   \n",
       "4  2017      1   25            FLL                 CLT                 1305   \n",
       "\n",
       "   scheduled_arrival  cancelled  diverted  weather_delay  \n",
       "0               1856          0         0            NaN  \n",
       "1               1508          0         0            NaN  \n",
       "2               1508          0         0            NaN  \n",
       "3               1508          0         0            NaN  \n",
       "4               1508          0         0            NaN  "
      ]
     },
     "execution_count": 36,
     "metadata": {},
     "output_type": "execute_result"
    }
   ],
   "source": [
    "df_flight_traffic.drop(['airline_delay', 'air_system_delay', 'security_delay', 'aircraft_delay'], axis=1, inplace= True)\n",
    "df_flight_traffic.head()"
   ]
  },
  {
   "cell_type": "markdown",
   "metadata": {},
   "source": [
    "- **Add a new column `delayed`: `1` if flight was delayed due to weather, `0` otherwise**"
   ]
  },
  {
   "cell_type": "code",
   "execution_count": 37,
   "metadata": {},
   "outputs": [
    {
     "data": {
      "text/html": [
       "<div>\n",
       "<style scoped>\n",
       "    .dataframe tbody tr th:only-of-type {\n",
       "        vertical-align: middle;\n",
       "    }\n",
       "\n",
       "    .dataframe tbody tr th {\n",
       "        vertical-align: top;\n",
       "    }\n",
       "\n",
       "    .dataframe thead th {\n",
       "        text-align: right;\n",
       "    }\n",
       "</style>\n",
       "<table border=\"1\" class=\"dataframe\">\n",
       "  <thead>\n",
       "    <tr style=\"text-align: right;\">\n",
       "      <th></th>\n",
       "      <th>year</th>\n",
       "      <th>month</th>\n",
       "      <th>day</th>\n",
       "      <th>scheduled_departure</th>\n",
       "      <th>scheduled_arrival</th>\n",
       "      <th>cancelled</th>\n",
       "      <th>diverted</th>\n",
       "      <th>weather_delay</th>\n",
       "      <th>delayed</th>\n",
       "    </tr>\n",
       "  </thead>\n",
       "  <tbody>\n",
       "    <tr>\n",
       "      <th>count</th>\n",
       "      <td>469927.0</td>\n",
       "      <td>469927.000000</td>\n",
       "      <td>469927.000000</td>\n",
       "      <td>469927.000000</td>\n",
       "      <td>469927.000000</td>\n",
       "      <td>469927.000000</td>\n",
       "      <td>469927.000000</td>\n",
       "      <td>4860.000000</td>\n",
       "      <td>469927.000000</td>\n",
       "    </tr>\n",
       "    <tr>\n",
       "      <th>mean</th>\n",
       "      <td>2017.0</td>\n",
       "      <td>6.602966</td>\n",
       "      <td>15.788997</td>\n",
       "      <td>1300.825498</td>\n",
       "      <td>1461.848998</td>\n",
       "      <td>0.017628</td>\n",
       "      <td>0.002666</td>\n",
       "      <td>58.093827</td>\n",
       "      <td>0.010342</td>\n",
       "    </tr>\n",
       "    <tr>\n",
       "      <th>std</th>\n",
       "      <td>0.0</td>\n",
       "      <td>3.407343</td>\n",
       "      <td>8.782030</td>\n",
       "      <td>492.337896</td>\n",
       "      <td>514.975331</td>\n",
       "      <td>0.131596</td>\n",
       "      <td>0.051568</td>\n",
       "      <td>98.921437</td>\n",
       "      <td>0.101169</td>\n",
       "    </tr>\n",
       "    <tr>\n",
       "      <th>min</th>\n",
       "      <td>2017.0</td>\n",
       "      <td>1.000000</td>\n",
       "      <td>1.000000</td>\n",
       "      <td>1.000000</td>\n",
       "      <td>1.000000</td>\n",
       "      <td>0.000000</td>\n",
       "      <td>0.000000</td>\n",
       "      <td>1.000000</td>\n",
       "      <td>0.000000</td>\n",
       "    </tr>\n",
       "    <tr>\n",
       "      <th>25%</th>\n",
       "      <td>2017.0</td>\n",
       "      <td>4.000000</td>\n",
       "      <td>8.000000</td>\n",
       "      <td>855.000000</td>\n",
       "      <td>1045.000000</td>\n",
       "      <td>0.000000</td>\n",
       "      <td>0.000000</td>\n",
       "      <td>12.000000</td>\n",
       "      <td>0.000000</td>\n",
       "    </tr>\n",
       "    <tr>\n",
       "      <th>50%</th>\n",
       "      <td>2017.0</td>\n",
       "      <td>7.000000</td>\n",
       "      <td>16.000000</td>\n",
       "      <td>1255.000000</td>\n",
       "      <td>1450.000000</td>\n",
       "      <td>0.000000</td>\n",
       "      <td>0.000000</td>\n",
       "      <td>27.000000</td>\n",
       "      <td>0.000000</td>\n",
       "    </tr>\n",
       "    <tr>\n",
       "      <th>75%</th>\n",
       "      <td>2017.0</td>\n",
       "      <td>10.000000</td>\n",
       "      <td>23.000000</td>\n",
       "      <td>1716.000000</td>\n",
       "      <td>1904.000000</td>\n",
       "      <td>0.000000</td>\n",
       "      <td>0.000000</td>\n",
       "      <td>63.250000</td>\n",
       "      <td>0.000000</td>\n",
       "    </tr>\n",
       "    <tr>\n",
       "      <th>max</th>\n",
       "      <td>2017.0</td>\n",
       "      <td>12.000000</td>\n",
       "      <td>31.000000</td>\n",
       "      <td>2359.000000</td>\n",
       "      <td>2359.000000</td>\n",
       "      <td>1.000000</td>\n",
       "      <td>1.000000</td>\n",
       "      <td>1336.000000</td>\n",
       "      <td>1.000000</td>\n",
       "    </tr>\n",
       "  </tbody>\n",
       "</table>\n",
       "</div>"
      ],
      "text/plain": [
       "           year          month            day  scheduled_departure  \\\n",
       "count  469927.0  469927.000000  469927.000000        469927.000000   \n",
       "mean     2017.0       6.602966      15.788997          1300.825498   \n",
       "std         0.0       3.407343       8.782030           492.337896   \n",
       "min      2017.0       1.000000       1.000000             1.000000   \n",
       "25%      2017.0       4.000000       8.000000           855.000000   \n",
       "50%      2017.0       7.000000      16.000000          1255.000000   \n",
       "75%      2017.0      10.000000      23.000000          1716.000000   \n",
       "max      2017.0      12.000000      31.000000          2359.000000   \n",
       "\n",
       "       scheduled_arrival      cancelled       diverted  weather_delay  \\\n",
       "count      469927.000000  469927.000000  469927.000000    4860.000000   \n",
       "mean         1461.848998       0.017628       0.002666      58.093827   \n",
       "std           514.975331       0.131596       0.051568      98.921437   \n",
       "min             1.000000       0.000000       0.000000       1.000000   \n",
       "25%          1045.000000       0.000000       0.000000      12.000000   \n",
       "50%          1450.000000       0.000000       0.000000      27.000000   \n",
       "75%          1904.000000       0.000000       0.000000      63.250000   \n",
       "max          2359.000000       1.000000       1.000000    1336.000000   \n",
       "\n",
       "             delayed  \n",
       "count  469927.000000  \n",
       "mean        0.010342  \n",
       "std         0.101169  \n",
       "min         0.000000  \n",
       "25%         0.000000  \n",
       "50%         0.000000  \n",
       "75%         0.000000  \n",
       "max         1.000000  "
      ]
     },
     "execution_count": 37,
     "metadata": {},
     "output_type": "execute_result"
    }
   ],
   "source": [
    "df_flight_traffic['delayed'] = df_flight_traffic['weather_delay'].apply(lambda x: 0 if pd.isnull(x) else 1)\n",
    "df_flight_traffic.describe()"
   ]
  },
  {
   "cell_type": "markdown",
   "metadata": {},
   "source": [
    "- **Drop `weather_delay`**"
   ]
  },
  {
   "cell_type": "code",
   "execution_count": 38,
   "metadata": {},
   "outputs": [
    {
     "data": {
      "text/html": [
       "<div>\n",
       "<style scoped>\n",
       "    .dataframe tbody tr th:only-of-type {\n",
       "        vertical-align: middle;\n",
       "    }\n",
       "\n",
       "    .dataframe tbody tr th {\n",
       "        vertical-align: top;\n",
       "    }\n",
       "\n",
       "    .dataframe thead th {\n",
       "        text-align: right;\n",
       "    }\n",
       "</style>\n",
       "<table border=\"1\" class=\"dataframe\">\n",
       "  <thead>\n",
       "    <tr style=\"text-align: right;\">\n",
       "      <th></th>\n",
       "      <th>year</th>\n",
       "      <th>month</th>\n",
       "      <th>day</th>\n",
       "      <th>origin_airport</th>\n",
       "      <th>destination_airport</th>\n",
       "      <th>scheduled_departure</th>\n",
       "      <th>scheduled_arrival</th>\n",
       "      <th>cancelled</th>\n",
       "      <th>diverted</th>\n",
       "      <th>delayed</th>\n",
       "    </tr>\n",
       "  </thead>\n",
       "  <tbody>\n",
       "    <tr>\n",
       "      <th>0</th>\n",
       "      <td>2017</td>\n",
       "      <td>1</td>\n",
       "      <td>31</td>\n",
       "      <td>CLT</td>\n",
       "      <td>PHX</td>\n",
       "      <td>1619</td>\n",
       "      <td>1856</td>\n",
       "      <td>0</td>\n",
       "      <td>0</td>\n",
       "      <td>0</td>\n",
       "    </tr>\n",
       "    <tr>\n",
       "      <th>1</th>\n",
       "      <td>2017</td>\n",
       "      <td>1</td>\n",
       "      <td>12</td>\n",
       "      <td>FLL</td>\n",
       "      <td>CLT</td>\n",
       "      <td>1305</td>\n",
       "      <td>1508</td>\n",
       "      <td>0</td>\n",
       "      <td>0</td>\n",
       "      <td>0</td>\n",
       "    </tr>\n",
       "    <tr>\n",
       "      <th>2</th>\n",
       "      <td>2017</td>\n",
       "      <td>1</td>\n",
       "      <td>14</td>\n",
       "      <td>FLL</td>\n",
       "      <td>CLT</td>\n",
       "      <td>1305</td>\n",
       "      <td>1508</td>\n",
       "      <td>0</td>\n",
       "      <td>0</td>\n",
       "      <td>0</td>\n",
       "    </tr>\n",
       "    <tr>\n",
       "      <th>3</th>\n",
       "      <td>2017</td>\n",
       "      <td>1</td>\n",
       "      <td>18</td>\n",
       "      <td>FLL</td>\n",
       "      <td>CLT</td>\n",
       "      <td>1305</td>\n",
       "      <td>1508</td>\n",
       "      <td>0</td>\n",
       "      <td>0</td>\n",
       "      <td>0</td>\n",
       "    </tr>\n",
       "    <tr>\n",
       "      <th>4</th>\n",
       "      <td>2017</td>\n",
       "      <td>1</td>\n",
       "      <td>25</td>\n",
       "      <td>FLL</td>\n",
       "      <td>CLT</td>\n",
       "      <td>1305</td>\n",
       "      <td>1508</td>\n",
       "      <td>0</td>\n",
       "      <td>0</td>\n",
       "      <td>0</td>\n",
       "    </tr>\n",
       "  </tbody>\n",
       "</table>\n",
       "</div>"
      ],
      "text/plain": [
       "   year  month  day origin_airport destination_airport  scheduled_departure  \\\n",
       "0  2017      1   31            CLT                 PHX                 1619   \n",
       "1  2017      1   12            FLL                 CLT                 1305   \n",
       "2  2017      1   14            FLL                 CLT                 1305   \n",
       "3  2017      1   18            FLL                 CLT                 1305   \n",
       "4  2017      1   25            FLL                 CLT                 1305   \n",
       "\n",
       "   scheduled_arrival  cancelled  diverted  delayed  \n",
       "0               1856          0         0        0  \n",
       "1               1508          0         0        0  \n",
       "2               1508          0         0        0  \n",
       "3               1508          0         0        0  \n",
       "4               1508          0         0        0  "
      ]
     },
     "execution_count": 38,
     "metadata": {},
     "output_type": "execute_result"
    }
   ],
   "source": [
    "df_flight_traffic.drop('weather_delay', axis=1, inplace= True)\n",
    "df_flight_traffic.head()"
   ]
  },
  {
   "cell_type": "markdown",
   "metadata": {},
   "source": [
    "- **Set `flight_status` as the target of prediction**\n",
    "    - `0`: if flight was on schedule\n",
    "    - `1`: if flight was delayed\n",
    "    - `2`: if flight was diverted\n",
    "    - `3`: if flight was cancelled"
   ]
  },
  {
   "cell_type": "code",
   "execution_count": 39,
   "metadata": {},
   "outputs": [
    {
     "data": {
      "text/html": [
       "<div>\n",
       "<style scoped>\n",
       "    .dataframe tbody tr th:only-of-type {\n",
       "        vertical-align: middle;\n",
       "    }\n",
       "\n",
       "    .dataframe tbody tr th {\n",
       "        vertical-align: top;\n",
       "    }\n",
       "\n",
       "    .dataframe thead th {\n",
       "        text-align: right;\n",
       "    }\n",
       "</style>\n",
       "<table border=\"1\" class=\"dataframe\">\n",
       "  <thead>\n",
       "    <tr style=\"text-align: right;\">\n",
       "      <th></th>\n",
       "      <th>year</th>\n",
       "      <th>month</th>\n",
       "      <th>day</th>\n",
       "      <th>origin_airport</th>\n",
       "      <th>destination_airport</th>\n",
       "      <th>scheduled_departure</th>\n",
       "      <th>scheduled_arrival</th>\n",
       "      <th>cancelled</th>\n",
       "      <th>diverted</th>\n",
       "      <th>delayed</th>\n",
       "      <th>flight_status</th>\n",
       "    </tr>\n",
       "  </thead>\n",
       "  <tbody>\n",
       "    <tr>\n",
       "      <th>0</th>\n",
       "      <td>2017</td>\n",
       "      <td>1</td>\n",
       "      <td>31</td>\n",
       "      <td>CLT</td>\n",
       "      <td>PHX</td>\n",
       "      <td>1619</td>\n",
       "      <td>1856</td>\n",
       "      <td>0</td>\n",
       "      <td>0</td>\n",
       "      <td>0</td>\n",
       "      <td>0</td>\n",
       "    </tr>\n",
       "    <tr>\n",
       "      <th>1</th>\n",
       "      <td>2017</td>\n",
       "      <td>1</td>\n",
       "      <td>12</td>\n",
       "      <td>FLL</td>\n",
       "      <td>CLT</td>\n",
       "      <td>1305</td>\n",
       "      <td>1508</td>\n",
       "      <td>0</td>\n",
       "      <td>0</td>\n",
       "      <td>0</td>\n",
       "      <td>0</td>\n",
       "    </tr>\n",
       "    <tr>\n",
       "      <th>2</th>\n",
       "      <td>2017</td>\n",
       "      <td>1</td>\n",
       "      <td>14</td>\n",
       "      <td>FLL</td>\n",
       "      <td>CLT</td>\n",
       "      <td>1305</td>\n",
       "      <td>1508</td>\n",
       "      <td>0</td>\n",
       "      <td>0</td>\n",
       "      <td>0</td>\n",
       "      <td>0</td>\n",
       "    </tr>\n",
       "    <tr>\n",
       "      <th>3</th>\n",
       "      <td>2017</td>\n",
       "      <td>1</td>\n",
       "      <td>18</td>\n",
       "      <td>FLL</td>\n",
       "      <td>CLT</td>\n",
       "      <td>1305</td>\n",
       "      <td>1508</td>\n",
       "      <td>0</td>\n",
       "      <td>0</td>\n",
       "      <td>0</td>\n",
       "      <td>0</td>\n",
       "    </tr>\n",
       "    <tr>\n",
       "      <th>4</th>\n",
       "      <td>2017</td>\n",
       "      <td>1</td>\n",
       "      <td>25</td>\n",
       "      <td>FLL</td>\n",
       "      <td>CLT</td>\n",
       "      <td>1305</td>\n",
       "      <td>1508</td>\n",
       "      <td>0</td>\n",
       "      <td>0</td>\n",
       "      <td>0</td>\n",
       "      <td>0</td>\n",
       "    </tr>\n",
       "  </tbody>\n",
       "</table>\n",
       "</div>"
      ],
      "text/plain": [
       "   year  month  day origin_airport destination_airport  scheduled_departure  \\\n",
       "0  2017      1   31            CLT                 PHX                 1619   \n",
       "1  2017      1   12            FLL                 CLT                 1305   \n",
       "2  2017      1   14            FLL                 CLT                 1305   \n",
       "3  2017      1   18            FLL                 CLT                 1305   \n",
       "4  2017      1   25            FLL                 CLT                 1305   \n",
       "\n",
       "   scheduled_arrival  cancelled  diverted  delayed  flight_status  \n",
       "0               1856          0         0        0              0  \n",
       "1               1508          0         0        0              0  \n",
       "2               1508          0         0        0              0  \n",
       "3               1508          0         0        0              0  \n",
       "4               1508          0         0        0              0  "
      ]
     },
     "execution_count": 39,
     "metadata": {},
     "output_type": "execute_result"
    }
   ],
   "source": [
    "df_flight_traffic['flight_status'] = df_flight_traffic[['cancelled', 'diverted', 'delayed']].apply(lambda x: 1 if x[2] == 1 else 2 if x[1] == 1 else 3 if x[0] == 1 else 0, axis = 1)\n",
    "df_flight_traffic.head()"
   ]
  },
  {
   "cell_type": "markdown",
   "metadata": {},
   "source": [
    "- **Drop `cancelled`, `diverted`, `delayed`**"
   ]
  },
  {
   "cell_type": "code",
   "execution_count": 40,
   "metadata": {},
   "outputs": [
    {
     "data": {
      "text/html": [
       "<div>\n",
       "<style scoped>\n",
       "    .dataframe tbody tr th:only-of-type {\n",
       "        vertical-align: middle;\n",
       "    }\n",
       "\n",
       "    .dataframe tbody tr th {\n",
       "        vertical-align: top;\n",
       "    }\n",
       "\n",
       "    .dataframe thead th {\n",
       "        text-align: right;\n",
       "    }\n",
       "</style>\n",
       "<table border=\"1\" class=\"dataframe\">\n",
       "  <thead>\n",
       "    <tr style=\"text-align: right;\">\n",
       "      <th></th>\n",
       "      <th>year</th>\n",
       "      <th>month</th>\n",
       "      <th>day</th>\n",
       "      <th>origin_airport</th>\n",
       "      <th>destination_airport</th>\n",
       "      <th>scheduled_departure</th>\n",
       "      <th>scheduled_arrival</th>\n",
       "      <th>flight_status</th>\n",
       "    </tr>\n",
       "  </thead>\n",
       "  <tbody>\n",
       "    <tr>\n",
       "      <th>0</th>\n",
       "      <td>2017</td>\n",
       "      <td>1</td>\n",
       "      <td>31</td>\n",
       "      <td>CLT</td>\n",
       "      <td>PHX</td>\n",
       "      <td>1619</td>\n",
       "      <td>1856</td>\n",
       "      <td>0</td>\n",
       "    </tr>\n",
       "    <tr>\n",
       "      <th>1</th>\n",
       "      <td>2017</td>\n",
       "      <td>1</td>\n",
       "      <td>12</td>\n",
       "      <td>FLL</td>\n",
       "      <td>CLT</td>\n",
       "      <td>1305</td>\n",
       "      <td>1508</td>\n",
       "      <td>0</td>\n",
       "    </tr>\n",
       "    <tr>\n",
       "      <th>2</th>\n",
       "      <td>2017</td>\n",
       "      <td>1</td>\n",
       "      <td>14</td>\n",
       "      <td>FLL</td>\n",
       "      <td>CLT</td>\n",
       "      <td>1305</td>\n",
       "      <td>1508</td>\n",
       "      <td>0</td>\n",
       "    </tr>\n",
       "    <tr>\n",
       "      <th>3</th>\n",
       "      <td>2017</td>\n",
       "      <td>1</td>\n",
       "      <td>18</td>\n",
       "      <td>FLL</td>\n",
       "      <td>CLT</td>\n",
       "      <td>1305</td>\n",
       "      <td>1508</td>\n",
       "      <td>0</td>\n",
       "    </tr>\n",
       "    <tr>\n",
       "      <th>4</th>\n",
       "      <td>2017</td>\n",
       "      <td>1</td>\n",
       "      <td>25</td>\n",
       "      <td>FLL</td>\n",
       "      <td>CLT</td>\n",
       "      <td>1305</td>\n",
       "      <td>1508</td>\n",
       "      <td>0</td>\n",
       "    </tr>\n",
       "  </tbody>\n",
       "</table>\n",
       "</div>"
      ],
      "text/plain": [
       "   year  month  day origin_airport destination_airport  scheduled_departure  \\\n",
       "0  2017      1   31            CLT                 PHX                 1619   \n",
       "1  2017      1   12            FLL                 CLT                 1305   \n",
       "2  2017      1   14            FLL                 CLT                 1305   \n",
       "3  2017      1   18            FLL                 CLT                 1305   \n",
       "4  2017      1   25            FLL                 CLT                 1305   \n",
       "\n",
       "   scheduled_arrival  flight_status  \n",
       "0               1856              0  \n",
       "1               1508              0  \n",
       "2               1508              0  \n",
       "3               1508              0  \n",
       "4               1508              0  "
      ]
     },
     "execution_count": 40,
     "metadata": {},
     "output_type": "execute_result"
    }
   ],
   "source": [
    "df_flight_traffic.drop(['cancelled', 'diverted', 'delayed'], axis=1, inplace= True)\n",
    "df_flight_traffic.head()"
   ]
  },
  {
   "cell_type": "markdown",
   "metadata": {},
   "source": [
    "- **Convert data type of `flight_status` to `category`**"
   ]
  },
  {
   "cell_type": "code",
   "execution_count": 41,
   "metadata": {},
   "outputs": [
    {
     "name": "stdout",
     "output_type": "stream",
     "text": [
      "<class 'pandas.core.frame.DataFrame'>\n",
      "Int64Index: 469927 entries, 0 to 567672\n",
      "Data columns (total 8 columns):\n",
      "year                   469927 non-null int64\n",
      "month                  469927 non-null int64\n",
      "day                    469927 non-null int64\n",
      "origin_airport         469927 non-null object\n",
      "destination_airport    469927 non-null object\n",
      "scheduled_departure    469927 non-null int64\n",
      "scheduled_arrival      469927 non-null int64\n",
      "flight_status          469927 non-null category\n",
      "dtypes: category(1), int64(5), object(2)\n",
      "memory usage: 29.1+ MB\n"
     ]
    }
   ],
   "source": [
    "df_flight_traffic['flight_status'] = df_flight_traffic['flight_status'].astype('category')\n",
    "df_flight_traffic.info()"
   ]
  },
  {
   "cell_type": "markdown",
   "metadata": {},
   "source": [
    "- **Set `departure_time_zone`, `arrival_time_zone` based on `scheduled_departure`, `scheduled_arrival`**\n",
    "    - `0`: time from `1855` to `0054`\n",
    "    - `1`: time from `0055` to `0654`\n",
    "    - `2`: time from `0655` to `1254`\n",
    "    - `3`: time from `1255` to `1854`"
   ]
  },
  {
   "cell_type": "code",
   "execution_count": 42,
   "metadata": {},
   "outputs": [
    {
     "data": {
      "text/html": [
       "<div>\n",
       "<style scoped>\n",
       "    .dataframe tbody tr th:only-of-type {\n",
       "        vertical-align: middle;\n",
       "    }\n",
       "\n",
       "    .dataframe tbody tr th {\n",
       "        vertical-align: top;\n",
       "    }\n",
       "\n",
       "    .dataframe thead th {\n",
       "        text-align: right;\n",
       "    }\n",
       "</style>\n",
       "<table border=\"1\" class=\"dataframe\">\n",
       "  <thead>\n",
       "    <tr style=\"text-align: right;\">\n",
       "      <th></th>\n",
       "      <th>year</th>\n",
       "      <th>month</th>\n",
       "      <th>day</th>\n",
       "      <th>origin_airport</th>\n",
       "      <th>destination_airport</th>\n",
       "      <th>scheduled_departure</th>\n",
       "      <th>scheduled_arrival</th>\n",
       "      <th>flight_status</th>\n",
       "      <th>departure_time_zone</th>\n",
       "      <th>arrival_time_zone</th>\n",
       "    </tr>\n",
       "  </thead>\n",
       "  <tbody>\n",
       "    <tr>\n",
       "      <th>0</th>\n",
       "      <td>2017</td>\n",
       "      <td>1</td>\n",
       "      <td>31</td>\n",
       "      <td>CLT</td>\n",
       "      <td>PHX</td>\n",
       "      <td>1619</td>\n",
       "      <td>1856</td>\n",
       "      <td>0</td>\n",
       "      <td>3</td>\n",
       "      <td>0</td>\n",
       "    </tr>\n",
       "    <tr>\n",
       "      <th>1</th>\n",
       "      <td>2017</td>\n",
       "      <td>1</td>\n",
       "      <td>12</td>\n",
       "      <td>FLL</td>\n",
       "      <td>CLT</td>\n",
       "      <td>1305</td>\n",
       "      <td>1508</td>\n",
       "      <td>0</td>\n",
       "      <td>3</td>\n",
       "      <td>3</td>\n",
       "    </tr>\n",
       "    <tr>\n",
       "      <th>2</th>\n",
       "      <td>2017</td>\n",
       "      <td>1</td>\n",
       "      <td>14</td>\n",
       "      <td>FLL</td>\n",
       "      <td>CLT</td>\n",
       "      <td>1305</td>\n",
       "      <td>1508</td>\n",
       "      <td>0</td>\n",
       "      <td>3</td>\n",
       "      <td>3</td>\n",
       "    </tr>\n",
       "    <tr>\n",
       "      <th>3</th>\n",
       "      <td>2017</td>\n",
       "      <td>1</td>\n",
       "      <td>18</td>\n",
       "      <td>FLL</td>\n",
       "      <td>CLT</td>\n",
       "      <td>1305</td>\n",
       "      <td>1508</td>\n",
       "      <td>0</td>\n",
       "      <td>3</td>\n",
       "      <td>3</td>\n",
       "    </tr>\n",
       "    <tr>\n",
       "      <th>4</th>\n",
       "      <td>2017</td>\n",
       "      <td>1</td>\n",
       "      <td>25</td>\n",
       "      <td>FLL</td>\n",
       "      <td>CLT</td>\n",
       "      <td>1305</td>\n",
       "      <td>1508</td>\n",
       "      <td>0</td>\n",
       "      <td>3</td>\n",
       "      <td>3</td>\n",
       "    </tr>\n",
       "  </tbody>\n",
       "</table>\n",
       "</div>"
      ],
      "text/plain": [
       "   year  month  day origin_airport destination_airport  scheduled_departure  \\\n",
       "0  2017      1   31            CLT                 PHX                 1619   \n",
       "1  2017      1   12            FLL                 CLT                 1305   \n",
       "2  2017      1   14            FLL                 CLT                 1305   \n",
       "3  2017      1   18            FLL                 CLT                 1305   \n",
       "4  2017      1   25            FLL                 CLT                 1305   \n",
       "\n",
       "   scheduled_arrival flight_status  departure_time_zone  arrival_time_zone  \n",
       "0               1856             0                    3                  0  \n",
       "1               1508             0                    3                  3  \n",
       "2               1508             0                    3                  3  \n",
       "3               1508             0                    3                  3  \n",
       "4               1508             0                    3                  3  "
      ]
     },
     "execution_count": 42,
     "metadata": {},
     "output_type": "execute_result"
    }
   ],
   "source": [
    "df_flight_traffic['departure_time_zone'] = df_flight_traffic['scheduled_departure'].apply(lambda x: 0 if x >= 1855 or x <= 54 else 1 if x >= 55 and x <= 654 else 2 if x >= 655 and x <= 1254 else 3)\n",
    "df_flight_traffic['arrival_time_zone'] = df_flight_traffic['scheduled_arrival'].apply(lambda x: 0 if x >= 1855 or x <= 54 else 1 if x >= 55 and x <= 654 else 2 if x >= 655 and x <= 1254 else 3)\n",
    "df_flight_traffic.head()"
   ]
  },
  {
   "cell_type": "markdown",
   "metadata": {},
   "source": [
    "- **Drop `scheduled_departure`, `scheduled_arrival`**"
   ]
  },
  {
   "cell_type": "code",
   "execution_count": 43,
   "metadata": {},
   "outputs": [
    {
     "data": {
      "text/html": [
       "<div>\n",
       "<style scoped>\n",
       "    .dataframe tbody tr th:only-of-type {\n",
       "        vertical-align: middle;\n",
       "    }\n",
       "\n",
       "    .dataframe tbody tr th {\n",
       "        vertical-align: top;\n",
       "    }\n",
       "\n",
       "    .dataframe thead th {\n",
       "        text-align: right;\n",
       "    }\n",
       "</style>\n",
       "<table border=\"1\" class=\"dataframe\">\n",
       "  <thead>\n",
       "    <tr style=\"text-align: right;\">\n",
       "      <th></th>\n",
       "      <th>year</th>\n",
       "      <th>month</th>\n",
       "      <th>day</th>\n",
       "      <th>origin_airport</th>\n",
       "      <th>destination_airport</th>\n",
       "      <th>flight_status</th>\n",
       "      <th>departure_time_zone</th>\n",
       "      <th>arrival_time_zone</th>\n",
       "    </tr>\n",
       "  </thead>\n",
       "  <tbody>\n",
       "    <tr>\n",
       "      <th>0</th>\n",
       "      <td>2017</td>\n",
       "      <td>1</td>\n",
       "      <td>31</td>\n",
       "      <td>CLT</td>\n",
       "      <td>PHX</td>\n",
       "      <td>0</td>\n",
       "      <td>3</td>\n",
       "      <td>0</td>\n",
       "    </tr>\n",
       "    <tr>\n",
       "      <th>1</th>\n",
       "      <td>2017</td>\n",
       "      <td>1</td>\n",
       "      <td>12</td>\n",
       "      <td>FLL</td>\n",
       "      <td>CLT</td>\n",
       "      <td>0</td>\n",
       "      <td>3</td>\n",
       "      <td>3</td>\n",
       "    </tr>\n",
       "    <tr>\n",
       "      <th>2</th>\n",
       "      <td>2017</td>\n",
       "      <td>1</td>\n",
       "      <td>14</td>\n",
       "      <td>FLL</td>\n",
       "      <td>CLT</td>\n",
       "      <td>0</td>\n",
       "      <td>3</td>\n",
       "      <td>3</td>\n",
       "    </tr>\n",
       "    <tr>\n",
       "      <th>3</th>\n",
       "      <td>2017</td>\n",
       "      <td>1</td>\n",
       "      <td>18</td>\n",
       "      <td>FLL</td>\n",
       "      <td>CLT</td>\n",
       "      <td>0</td>\n",
       "      <td>3</td>\n",
       "      <td>3</td>\n",
       "    </tr>\n",
       "    <tr>\n",
       "      <th>4</th>\n",
       "      <td>2017</td>\n",
       "      <td>1</td>\n",
       "      <td>25</td>\n",
       "      <td>FLL</td>\n",
       "      <td>CLT</td>\n",
       "      <td>0</td>\n",
       "      <td>3</td>\n",
       "      <td>3</td>\n",
       "    </tr>\n",
       "  </tbody>\n",
       "</table>\n",
       "</div>"
      ],
      "text/plain": [
       "   year  month  day origin_airport destination_airport flight_status  \\\n",
       "0  2017      1   31            CLT                 PHX             0   \n",
       "1  2017      1   12            FLL                 CLT             0   \n",
       "2  2017      1   14            FLL                 CLT             0   \n",
       "3  2017      1   18            FLL                 CLT             0   \n",
       "4  2017      1   25            FLL                 CLT             0   \n",
       "\n",
       "   departure_time_zone  arrival_time_zone  \n",
       "0                    3                  0  \n",
       "1                    3                  3  \n",
       "2                    3                  3  \n",
       "3                    3                  3  \n",
       "4                    3                  3  "
      ]
     },
     "execution_count": 43,
     "metadata": {},
     "output_type": "execute_result"
    }
   ],
   "source": [
    "df_flight_traffic.drop(['scheduled_departure', 'scheduled_arrival'], axis=1, inplace= True)\n",
    "df_flight_traffic.head()"
   ]
  },
  {
   "cell_type": "markdown",
   "metadata": {},
   "source": [
    "- **Convert data type of `departure_time_zone` and `arrival_time_zone` to `category`**"
   ]
  },
  {
   "cell_type": "code",
   "execution_count": 44,
   "metadata": {},
   "outputs": [
    {
     "name": "stdout",
     "output_type": "stream",
     "text": [
      "<class 'pandas.core.frame.DataFrame'>\n",
      "Int64Index: 469927 entries, 0 to 567672\n",
      "Data columns (total 8 columns):\n",
      "year                   469927 non-null int64\n",
      "month                  469927 non-null int64\n",
      "day                    469927 non-null int64\n",
      "origin_airport         469927 non-null object\n",
      "destination_airport    469927 non-null object\n",
      "flight_status          469927 non-null category\n",
      "departure_time_zone    469927 non-null category\n",
      "arrival_time_zone      469927 non-null category\n",
      "dtypes: category(3), int64(3), object(2)\n",
      "memory usage: 22.9+ MB\n"
     ]
    }
   ],
   "source": [
    "df_flight_traffic['departure_time_zone'] = df_flight_traffic['departure_time_zone'].astype('category')\n",
    "df_flight_traffic['arrival_time_zone'] = df_flight_traffic['arrival_time_zone'].astype('category')\n",
    "df_flight_traffic.info()"
   ]
  },
  {
   "cell_type": "markdown",
   "metadata": {},
   "source": [
    "- **Done cleaning `df_flight_traffic`**"
   ]
  },
  {
   "cell_type": "code",
   "execution_count": 45,
   "metadata": {},
   "outputs": [
    {
     "data": {
      "text/html": [
       "<div>\n",
       "<style scoped>\n",
       "    .dataframe tbody tr th:only-of-type {\n",
       "        vertical-align: middle;\n",
       "    }\n",
       "\n",
       "    .dataframe tbody tr th {\n",
       "        vertical-align: top;\n",
       "    }\n",
       "\n",
       "    .dataframe thead th {\n",
       "        text-align: right;\n",
       "    }\n",
       "</style>\n",
       "<table border=\"1\" class=\"dataframe\">\n",
       "  <thead>\n",
       "    <tr style=\"text-align: right;\">\n",
       "      <th></th>\n",
       "      <th>year</th>\n",
       "      <th>month</th>\n",
       "      <th>day</th>\n",
       "      <th>origin_airport</th>\n",
       "      <th>destination_airport</th>\n",
       "      <th>flight_status</th>\n",
       "      <th>departure_time_zone</th>\n",
       "      <th>arrival_time_zone</th>\n",
       "    </tr>\n",
       "  </thead>\n",
       "  <tbody>\n",
       "    <tr>\n",
       "      <th>0</th>\n",
       "      <td>2017</td>\n",
       "      <td>1</td>\n",
       "      <td>31</td>\n",
       "      <td>CLT</td>\n",
       "      <td>PHX</td>\n",
       "      <td>0</td>\n",
       "      <td>3</td>\n",
       "      <td>0</td>\n",
       "    </tr>\n",
       "    <tr>\n",
       "      <th>1</th>\n",
       "      <td>2017</td>\n",
       "      <td>1</td>\n",
       "      <td>12</td>\n",
       "      <td>FLL</td>\n",
       "      <td>CLT</td>\n",
       "      <td>0</td>\n",
       "      <td>3</td>\n",
       "      <td>3</td>\n",
       "    </tr>\n",
       "    <tr>\n",
       "      <th>2</th>\n",
       "      <td>2017</td>\n",
       "      <td>1</td>\n",
       "      <td>14</td>\n",
       "      <td>FLL</td>\n",
       "      <td>CLT</td>\n",
       "      <td>0</td>\n",
       "      <td>3</td>\n",
       "      <td>3</td>\n",
       "    </tr>\n",
       "    <tr>\n",
       "      <th>3</th>\n",
       "      <td>2017</td>\n",
       "      <td>1</td>\n",
       "      <td>18</td>\n",
       "      <td>FLL</td>\n",
       "      <td>CLT</td>\n",
       "      <td>0</td>\n",
       "      <td>3</td>\n",
       "      <td>3</td>\n",
       "    </tr>\n",
       "    <tr>\n",
       "      <th>4</th>\n",
       "      <td>2017</td>\n",
       "      <td>1</td>\n",
       "      <td>25</td>\n",
       "      <td>FLL</td>\n",
       "      <td>CLT</td>\n",
       "      <td>0</td>\n",
       "      <td>3</td>\n",
       "      <td>3</td>\n",
       "    </tr>\n",
       "  </tbody>\n",
       "</table>\n",
       "</div>"
      ],
      "text/plain": [
       "   year  month  day origin_airport destination_airport flight_status  \\\n",
       "0  2017      1   31            CLT                 PHX             0   \n",
       "1  2017      1   12            FLL                 CLT             0   \n",
       "2  2017      1   14            FLL                 CLT             0   \n",
       "3  2017      1   18            FLL                 CLT             0   \n",
       "4  2017      1   25            FLL                 CLT             0   \n",
       "\n",
       "  departure_time_zone arrival_time_zone  \n",
       "0                   3                 0  \n",
       "1                   3                 3  \n",
       "2                   3                 3  \n",
       "3                   3                 3  \n",
       "4                   3                 3  "
      ]
     },
     "execution_count": 45,
     "metadata": {},
     "output_type": "execute_result"
    }
   ],
   "source": [
    "df_flight_traffic.head()"
   ]
  },
  {
   "cell_type": "code",
   "execution_count": 46,
   "metadata": {},
   "outputs": [
    {
     "name": "stdout",
     "output_type": "stream",
     "text": [
      "<class 'pandas.core.frame.DataFrame'>\n",
      "Int64Index: 469927 entries, 0 to 567672\n",
      "Data columns (total 8 columns):\n",
      "year                   469927 non-null int64\n",
      "month                  469927 non-null int64\n",
      "day                    469927 non-null int64\n",
      "origin_airport         469927 non-null object\n",
      "destination_airport    469927 non-null object\n",
      "flight_status          469927 non-null category\n",
      "departure_time_zone    469927 non-null category\n",
      "arrival_time_zone      469927 non-null category\n",
      "dtypes: category(3), int64(3), object(2)\n",
      "memory usage: 22.9+ MB\n"
     ]
    }
   ],
   "source": [
    "df_flight_traffic.info()"
   ]
  },
  {
   "cell_type": "code",
   "execution_count": 47,
   "metadata": {},
   "outputs": [
    {
     "data": {
      "text/html": [
       "<div>\n",
       "<style scoped>\n",
       "    .dataframe tbody tr th:only-of-type {\n",
       "        vertical-align: middle;\n",
       "    }\n",
       "\n",
       "    .dataframe tbody tr th {\n",
       "        vertical-align: top;\n",
       "    }\n",
       "\n",
       "    .dataframe thead th {\n",
       "        text-align: right;\n",
       "    }\n",
       "</style>\n",
       "<table border=\"1\" class=\"dataframe\">\n",
       "  <thead>\n",
       "    <tr style=\"text-align: right;\">\n",
       "      <th></th>\n",
       "      <th>year</th>\n",
       "      <th>month</th>\n",
       "      <th>day</th>\n",
       "    </tr>\n",
       "  </thead>\n",
       "  <tbody>\n",
       "    <tr>\n",
       "      <th>count</th>\n",
       "      <td>469927.0</td>\n",
       "      <td>469927.000000</td>\n",
       "      <td>469927.000000</td>\n",
       "    </tr>\n",
       "    <tr>\n",
       "      <th>mean</th>\n",
       "      <td>2017.0</td>\n",
       "      <td>6.602966</td>\n",
       "      <td>15.788997</td>\n",
       "    </tr>\n",
       "    <tr>\n",
       "      <th>std</th>\n",
       "      <td>0.0</td>\n",
       "      <td>3.407343</td>\n",
       "      <td>8.782030</td>\n",
       "    </tr>\n",
       "    <tr>\n",
       "      <th>min</th>\n",
       "      <td>2017.0</td>\n",
       "      <td>1.000000</td>\n",
       "      <td>1.000000</td>\n",
       "    </tr>\n",
       "    <tr>\n",
       "      <th>25%</th>\n",
       "      <td>2017.0</td>\n",
       "      <td>4.000000</td>\n",
       "      <td>8.000000</td>\n",
       "    </tr>\n",
       "    <tr>\n",
       "      <th>50%</th>\n",
       "      <td>2017.0</td>\n",
       "      <td>7.000000</td>\n",
       "      <td>16.000000</td>\n",
       "    </tr>\n",
       "    <tr>\n",
       "      <th>75%</th>\n",
       "      <td>2017.0</td>\n",
       "      <td>10.000000</td>\n",
       "      <td>23.000000</td>\n",
       "    </tr>\n",
       "    <tr>\n",
       "      <th>max</th>\n",
       "      <td>2017.0</td>\n",
       "      <td>12.000000</td>\n",
       "      <td>31.000000</td>\n",
       "    </tr>\n",
       "  </tbody>\n",
       "</table>\n",
       "</div>"
      ],
      "text/plain": [
       "           year          month            day\n",
       "count  469927.0  469927.000000  469927.000000\n",
       "mean     2017.0       6.602966      15.788997\n",
       "std         0.0       3.407343       8.782030\n",
       "min      2017.0       1.000000       1.000000\n",
       "25%      2017.0       4.000000       8.000000\n",
       "50%      2017.0       7.000000      16.000000\n",
       "75%      2017.0      10.000000      23.000000\n",
       "max      2017.0      12.000000      31.000000"
      ]
     },
     "execution_count": 47,
     "metadata": {},
     "output_type": "execute_result"
    }
   ],
   "source": [
    "df_flight_traffic.describe()"
   ]
  },
  {
   "cell_type": "markdown",
   "metadata": {},
   "source": [
    "## Merge `df_flight_traffic` with `df_weather`"
   ]
  },
  {
   "cell_type": "code",
   "execution_count": 63,
   "metadata": {},
   "outputs": [
    {
     "data": {
      "text/html": [
       "<div>\n",
       "<style scoped>\n",
       "    .dataframe tbody tr th:only-of-type {\n",
       "        vertical-align: middle;\n",
       "    }\n",
       "\n",
       "    .dataframe tbody tr th {\n",
       "        vertical-align: top;\n",
       "    }\n",
       "\n",
       "    .dataframe thead th {\n",
       "        text-align: right;\n",
       "    }\n",
       "</style>\n",
       "<table border=\"1\" class=\"dataframe\">\n",
       "  <thead>\n",
       "    <tr style=\"text-align: right;\">\n",
       "      <th></th>\n",
       "      <th>year</th>\n",
       "      <th>month</th>\n",
       "      <th>day</th>\n",
       "      <th>origin_airport</th>\n",
       "      <th>destination_airport</th>\n",
       "      <th>flight_status</th>\n",
       "      <th>departure_time_zone</th>\n",
       "      <th>arrival_time_zone</th>\n",
       "      <th>origin_temperature</th>\n",
       "      <th>origin_visibility</th>\n",
       "      <th>origin_wind_speed</th>\n",
       "      <th>origin_snow_depth</th>\n",
       "      <th>origin_wind_direction_zone</th>\n",
       "    </tr>\n",
       "  </thead>\n",
       "  <tbody>\n",
       "    <tr>\n",
       "      <th>0</th>\n",
       "      <td>2017</td>\n",
       "      <td>1</td>\n",
       "      <td>31</td>\n",
       "      <td>CLT</td>\n",
       "      <td>PHX</td>\n",
       "      <td>0</td>\n",
       "      <td>3</td>\n",
       "      <td>0</td>\n",
       "      <td>4.4</td>\n",
       "      <td>16093.0</td>\n",
       "      <td>3.1</td>\n",
       "      <td>0.0</td>\n",
       "      <td>SW</td>\n",
       "    </tr>\n",
       "    <tr>\n",
       "      <th>44</th>\n",
       "      <td>2017</td>\n",
       "      <td>1</td>\n",
       "      <td>12</td>\n",
       "      <td>FLL</td>\n",
       "      <td>CLT</td>\n",
       "      <td>0</td>\n",
       "      <td>3</td>\n",
       "      <td>3</td>\n",
       "      <td>22.8</td>\n",
       "      <td>16093.0</td>\n",
       "      <td>7.2</td>\n",
       "      <td>0.0</td>\n",
       "      <td>NE</td>\n",
       "    </tr>\n",
       "    <tr>\n",
       "      <th>84</th>\n",
       "      <td>2017</td>\n",
       "      <td>1</td>\n",
       "      <td>14</td>\n",
       "      <td>FLL</td>\n",
       "      <td>CLT</td>\n",
       "      <td>0</td>\n",
       "      <td>3</td>\n",
       "      <td>3</td>\n",
       "      <td>23.3</td>\n",
       "      <td>16093.0</td>\n",
       "      <td>5.1</td>\n",
       "      <td>0.0</td>\n",
       "      <td>NE</td>\n",
       "    </tr>\n",
       "    <tr>\n",
       "      <th>108</th>\n",
       "      <td>2017</td>\n",
       "      <td>1</td>\n",
       "      <td>18</td>\n",
       "      <td>FLL</td>\n",
       "      <td>CLT</td>\n",
       "      <td>0</td>\n",
       "      <td>3</td>\n",
       "      <td>3</td>\n",
       "      <td>23.3</td>\n",
       "      <td>16093.0</td>\n",
       "      <td>3.6</td>\n",
       "      <td>0.0</td>\n",
       "      <td>SE</td>\n",
       "    </tr>\n",
       "    <tr>\n",
       "      <th>132</th>\n",
       "      <td>2017</td>\n",
       "      <td>1</td>\n",
       "      <td>25</td>\n",
       "      <td>FLL</td>\n",
       "      <td>CLT</td>\n",
       "      <td>0</td>\n",
       "      <td>3</td>\n",
       "      <td>3</td>\n",
       "      <td>21.7</td>\n",
       "      <td>16093.0</td>\n",
       "      <td>3.1</td>\n",
       "      <td>0.0</td>\n",
       "      <td>NW</td>\n",
       "    </tr>\n",
       "    <tr>\n",
       "      <th>...</th>\n",
       "      <td>...</td>\n",
       "      <td>...</td>\n",
       "      <td>...</td>\n",
       "      <td>...</td>\n",
       "      <td>...</td>\n",
       "      <td>...</td>\n",
       "      <td>...</td>\n",
       "      <td>...</td>\n",
       "      <td>...</td>\n",
       "      <td>...</td>\n",
       "      <td>...</td>\n",
       "      <td>...</td>\n",
       "      <td>...</td>\n",
       "    </tr>\n",
       "    <tr>\n",
       "      <th>506717</th>\n",
       "      <td>2017</td>\n",
       "      <td>12</td>\n",
       "      <td>2</td>\n",
       "      <td>MSY</td>\n",
       "      <td>SFO</td>\n",
       "      <td>0</td>\n",
       "      <td>3</td>\n",
       "      <td>3</td>\n",
       "      <td>16.1</td>\n",
       "      <td>16093.0</td>\n",
       "      <td>0.0</td>\n",
       "      <td>0.0</td>\n",
       "      <td>SE</td>\n",
       "    </tr>\n",
       "    <tr>\n",
       "      <th>506721</th>\n",
       "      <td>2017</td>\n",
       "      <td>12</td>\n",
       "      <td>2</td>\n",
       "      <td>LIH</td>\n",
       "      <td>SFO</td>\n",
       "      <td>0</td>\n",
       "      <td>3</td>\n",
       "      <td>0</td>\n",
       "      <td>22.8</td>\n",
       "      <td>16093.0</td>\n",
       "      <td>8.2</td>\n",
       "      <td>0.0</td>\n",
       "      <td>NE</td>\n",
       "    </tr>\n",
       "    <tr>\n",
       "      <th>506725</th>\n",
       "      <td>2017</td>\n",
       "      <td>12</td>\n",
       "      <td>2</td>\n",
       "      <td>ONT</td>\n",
       "      <td>DEN</td>\n",
       "      <td>0</td>\n",
       "      <td>3</td>\n",
       "      <td>3</td>\n",
       "      <td>21.7</td>\n",
       "      <td>16093.0</td>\n",
       "      <td>3.1</td>\n",
       "      <td>0.0</td>\n",
       "      <td>SW</td>\n",
       "    </tr>\n",
       "    <tr>\n",
       "      <th>506729</th>\n",
       "      <td>2017</td>\n",
       "      <td>12</td>\n",
       "      <td>18</td>\n",
       "      <td>MFE</td>\n",
       "      <td>IAH</td>\n",
       "      <td>0</td>\n",
       "      <td>3</td>\n",
       "      <td>3</td>\n",
       "      <td>14.4</td>\n",
       "      <td>16093.0</td>\n",
       "      <td>1.5</td>\n",
       "      <td>0.0</td>\n",
       "      <td>NW</td>\n",
       "    </tr>\n",
       "    <tr>\n",
       "      <th>506733</th>\n",
       "      <td>2017</td>\n",
       "      <td>12</td>\n",
       "      <td>17</td>\n",
       "      <td>MFE</td>\n",
       "      <td>IAH</td>\n",
       "      <td>3</td>\n",
       "      <td>3</td>\n",
       "      <td>3</td>\n",
       "      <td>10.6</td>\n",
       "      <td>14484.0</td>\n",
       "      <td>3.6</td>\n",
       "      <td>0.0</td>\n",
       "      <td>NW</td>\n",
       "    </tr>\n",
       "  </tbody>\n",
       "</table>\n",
       "<p>39835 rows × 13 columns</p>\n",
       "</div>"
      ],
      "text/plain": [
       "        year  month  day origin_airport destination_airport flight_status  \\\n",
       "0       2017      1   31            CLT                 PHX             0   \n",
       "44      2017      1   12            FLL                 CLT             0   \n",
       "84      2017      1   14            FLL                 CLT             0   \n",
       "108     2017      1   18            FLL                 CLT             0   \n",
       "132     2017      1   25            FLL                 CLT             0   \n",
       "...      ...    ...  ...            ...                 ...           ...   \n",
       "506717  2017     12    2            MSY                 SFO             0   \n",
       "506721  2017     12    2            LIH                 SFO             0   \n",
       "506725  2017     12    2            ONT                 DEN             0   \n",
       "506729  2017     12   18            MFE                 IAH             0   \n",
       "506733  2017     12   17            MFE                 IAH             3   \n",
       "\n",
       "       departure_time_zone arrival_time_zone  origin_temperature  \\\n",
       "0                        3                 0                 4.4   \n",
       "44                       3                 3                22.8   \n",
       "84                       3                 3                23.3   \n",
       "108                      3                 3                23.3   \n",
       "132                      3                 3                21.7   \n",
       "...                    ...               ...                 ...   \n",
       "506717                   3                 3                16.1   \n",
       "506721                   3                 0                22.8   \n",
       "506725                   3                 3                21.7   \n",
       "506729                   3                 3                14.4   \n",
       "506733                   3                 3                10.6   \n",
       "\n",
       "        origin_visibility  origin_wind_speed  origin_snow_depth  \\\n",
       "0                 16093.0                3.1                0.0   \n",
       "44                16093.0                7.2                0.0   \n",
       "84                16093.0                5.1                0.0   \n",
       "108               16093.0                3.6                0.0   \n",
       "132               16093.0                3.1                0.0   \n",
       "...                   ...                ...                ...   \n",
       "506717            16093.0                0.0                0.0   \n",
       "506721            16093.0                8.2                0.0   \n",
       "506725            16093.0                3.1                0.0   \n",
       "506729            16093.0                1.5                0.0   \n",
       "506733            14484.0                3.6                0.0   \n",
       "\n",
       "       origin_wind_direction_zone  \n",
       "0                              SW  \n",
       "44                             NE  \n",
       "84                             NE  \n",
       "108                            SE  \n",
       "132                            NW  \n",
       "...                           ...  \n",
       "506717                         SE  \n",
       "506721                         NE  \n",
       "506725                         SW  \n",
       "506729                         NW  \n",
       "506733                         NW  \n",
       "\n",
       "[39835 rows x 13 columns]"
      ]
     },
     "execution_count": 63,
     "metadata": {},
     "output_type": "execute_result"
    }
   ],
   "source": [
    "df = pd.merge(df_flight_traffic, df_weather, left_on = ['origin_airport', 'year', 'month', 'day', 'departure_time_zone'], right_on = ['airport_id', 'year', 'month', 'day', 'time_zone'])\n",
    "df.drop_duplicates(subset=['year', 'month', 'day', 'origin_airport', 'airport_id', 'departure_time_zone', 'time_zone'],keep='first',inplace=True)\n",
    "df.rename(columns={'temperature':'origin_temperature', 'visibility':'origin_visibility', 'wind_speed':'origin_wind_speed', 'snow_depth':'origin_snow_depth', 'wind_direction_zone':'origin_wind_direction_zone'}, inplace = True)\n",
    "df.drop(['airport_id', 'time_zone'], axis=1, inplace = True)\n",
    "df"
   ]
  },
  {
   "cell_type": "code",
   "execution_count": 64,
   "metadata": {},
   "outputs": [
    {
     "data": {
      "text/html": [
       "<div>\n",
       "<style scoped>\n",
       "    .dataframe tbody tr th:only-of-type {\n",
       "        vertical-align: middle;\n",
       "    }\n",
       "\n",
       "    .dataframe tbody tr th {\n",
       "        vertical-align: top;\n",
       "    }\n",
       "\n",
       "    .dataframe thead th {\n",
       "        text-align: right;\n",
       "    }\n",
       "</style>\n",
       "<table border=\"1\" class=\"dataframe\">\n",
       "  <thead>\n",
       "    <tr style=\"text-align: right;\">\n",
       "      <th></th>\n",
       "      <th>year</th>\n",
       "      <th>month</th>\n",
       "      <th>day</th>\n",
       "      <th>origin_airport</th>\n",
       "      <th>destination_airport</th>\n",
       "      <th>flight_status</th>\n",
       "      <th>departure_time_zone</th>\n",
       "      <th>arrival_time_zone</th>\n",
       "      <th>origin_temperature</th>\n",
       "      <th>origin_visibility</th>\n",
       "      <th>origin_wind_speed</th>\n",
       "      <th>origin_snow_depth</th>\n",
       "      <th>origin_wind_direction_zone</th>\n",
       "      <th>destination_temperature</th>\n",
       "      <th>destination_visibility</th>\n",
       "      <th>destination_wind_speed</th>\n",
       "      <th>destination_snow_depth</th>\n",
       "      <th>destination_wind_direction_zone</th>\n",
       "    </tr>\n",
       "  </thead>\n",
       "  <tbody>\n",
       "    <tr>\n",
       "      <th>0</th>\n",
       "      <td>2017</td>\n",
       "      <td>1</td>\n",
       "      <td>12</td>\n",
       "      <td>FLL</td>\n",
       "      <td>CLT</td>\n",
       "      <td>0</td>\n",
       "      <td>3</td>\n",
       "      <td>3</td>\n",
       "      <td>22.8</td>\n",
       "      <td>16093.0</td>\n",
       "      <td>7.2</td>\n",
       "      <td>0.0</td>\n",
       "      <td>NE</td>\n",
       "      <td>12.2</td>\n",
       "      <td>16093.0</td>\n",
       "      <td>0.0</td>\n",
       "      <td>0.0</td>\n",
       "      <td>SW</td>\n",
       "    </tr>\n",
       "    <tr>\n",
       "      <th>12</th>\n",
       "      <td>2017</td>\n",
       "      <td>1</td>\n",
       "      <td>14</td>\n",
       "      <td>FLL</td>\n",
       "      <td>CLT</td>\n",
       "      <td>0</td>\n",
       "      <td>3</td>\n",
       "      <td>3</td>\n",
       "      <td>23.3</td>\n",
       "      <td>16093.0</td>\n",
       "      <td>5.1</td>\n",
       "      <td>0.0</td>\n",
       "      <td>NE</td>\n",
       "      <td>18.9</td>\n",
       "      <td>16093.0</td>\n",
       "      <td>2.1</td>\n",
       "      <td>0.0</td>\n",
       "      <td>NE</td>\n",
       "    </tr>\n",
       "    <tr>\n",
       "      <th>20</th>\n",
       "      <td>2017</td>\n",
       "      <td>1</td>\n",
       "      <td>18</td>\n",
       "      <td>FLL</td>\n",
       "      <td>CLT</td>\n",
       "      <td>0</td>\n",
       "      <td>3</td>\n",
       "      <td>3</td>\n",
       "      <td>23.3</td>\n",
       "      <td>16093.0</td>\n",
       "      <td>3.6</td>\n",
       "      <td>0.0</td>\n",
       "      <td>SE</td>\n",
       "      <td>14.4</td>\n",
       "      <td>16093.0</td>\n",
       "      <td>2.6</td>\n",
       "      <td>0.0</td>\n",
       "      <td>SW</td>\n",
       "    </tr>\n",
       "    <tr>\n",
       "      <th>24</th>\n",
       "      <td>2017</td>\n",
       "      <td>1</td>\n",
       "      <td>25</td>\n",
       "      <td>FLL</td>\n",
       "      <td>CLT</td>\n",
       "      <td>0</td>\n",
       "      <td>3</td>\n",
       "      <td>3</td>\n",
       "      <td>21.7</td>\n",
       "      <td>16093.0</td>\n",
       "      <td>3.1</td>\n",
       "      <td>0.0</td>\n",
       "      <td>NW</td>\n",
       "      <td>11.7</td>\n",
       "      <td>16093.0</td>\n",
       "      <td>2.1</td>\n",
       "      <td>0.0</td>\n",
       "      <td>NW</td>\n",
       "    </tr>\n",
       "    <tr>\n",
       "      <th>36</th>\n",
       "      <td>2017</td>\n",
       "      <td>1</td>\n",
       "      <td>6</td>\n",
       "      <td>RSW</td>\n",
       "      <td>CLT</td>\n",
       "      <td>0</td>\n",
       "      <td>3</td>\n",
       "      <td>3</td>\n",
       "      <td>20.6</td>\n",
       "      <td>16093.0</td>\n",
       "      <td>2.1</td>\n",
       "      <td>0.0</td>\n",
       "      <td>SW</td>\n",
       "      <td>5.0</td>\n",
       "      <td>16093.0</td>\n",
       "      <td>1.5</td>\n",
       "      <td>0.0</td>\n",
       "      <td>NE</td>\n",
       "    </tr>\n",
       "    <tr>\n",
       "      <th>...</th>\n",
       "      <td>...</td>\n",
       "      <td>...</td>\n",
       "      <td>...</td>\n",
       "      <td>...</td>\n",
       "      <td>...</td>\n",
       "      <td>...</td>\n",
       "      <td>...</td>\n",
       "      <td>...</td>\n",
       "      <td>...</td>\n",
       "      <td>...</td>\n",
       "      <td>...</td>\n",
       "      <td>...</td>\n",
       "      <td>...</td>\n",
       "      <td>...</td>\n",
       "      <td>...</td>\n",
       "      <td>...</td>\n",
       "      <td>...</td>\n",
       "      <td>...</td>\n",
       "    </tr>\n",
       "    <tr>\n",
       "      <th>64281</th>\n",
       "      <td>2017</td>\n",
       "      <td>12</td>\n",
       "      <td>14</td>\n",
       "      <td>RIC</td>\n",
       "      <td>BOS</td>\n",
       "      <td>0</td>\n",
       "      <td>1</td>\n",
       "      <td>2</td>\n",
       "      <td>3.3</td>\n",
       "      <td>16093.0</td>\n",
       "      <td>6.2</td>\n",
       "      <td>0.0</td>\n",
       "      <td>SW</td>\n",
       "      <td>-5.6</td>\n",
       "      <td>14484.0</td>\n",
       "      <td>4.6</td>\n",
       "      <td>0.0</td>\n",
       "      <td>NW</td>\n",
       "    </tr>\n",
       "    <tr>\n",
       "      <th>64282</th>\n",
       "      <td>2017</td>\n",
       "      <td>12</td>\n",
       "      <td>31</td>\n",
       "      <td>MTJ</td>\n",
       "      <td>IAH</td>\n",
       "      <td>0</td>\n",
       "      <td>3</td>\n",
       "      <td>3</td>\n",
       "      <td>4.4</td>\n",
       "      <td>16093.0</td>\n",
       "      <td>2.1</td>\n",
       "      <td>0.0</td>\n",
       "      <td>NE</td>\n",
       "      <td>11.7</td>\n",
       "      <td>805.0</td>\n",
       "      <td>3.6</td>\n",
       "      <td>0.0</td>\n",
       "      <td>NW</td>\n",
       "    </tr>\n",
       "    <tr>\n",
       "      <th>64286</th>\n",
       "      <td>2017</td>\n",
       "      <td>12</td>\n",
       "      <td>25</td>\n",
       "      <td>GUC</td>\n",
       "      <td>IAH</td>\n",
       "      <td>0</td>\n",
       "      <td>3</td>\n",
       "      <td>3</td>\n",
       "      <td>-2.8</td>\n",
       "      <td>16093.0</td>\n",
       "      <td>3.6</td>\n",
       "      <td>0.0</td>\n",
       "      <td>SE</td>\n",
       "      <td>10.6</td>\n",
       "      <td>16093.0</td>\n",
       "      <td>7.2</td>\n",
       "      <td>0.0</td>\n",
       "      <td>NE</td>\n",
       "    </tr>\n",
       "    <tr>\n",
       "      <th>64290</th>\n",
       "      <td>2017</td>\n",
       "      <td>12</td>\n",
       "      <td>25</td>\n",
       "      <td>SNA</td>\n",
       "      <td>SFO</td>\n",
       "      <td>0</td>\n",
       "      <td>3</td>\n",
       "      <td>3</td>\n",
       "      <td>15.6</td>\n",
       "      <td>16093.0</td>\n",
       "      <td>0.0</td>\n",
       "      <td>0.0</td>\n",
       "      <td>NE</td>\n",
       "      <td>11.1</td>\n",
       "      <td>14484.0</td>\n",
       "      <td>1.5</td>\n",
       "      <td>0.0</td>\n",
       "      <td>NE</td>\n",
       "    </tr>\n",
       "    <tr>\n",
       "      <th>64294</th>\n",
       "      <td>2017</td>\n",
       "      <td>12</td>\n",
       "      <td>2</td>\n",
       "      <td>MSY</td>\n",
       "      <td>SFO</td>\n",
       "      <td>0</td>\n",
       "      <td>3</td>\n",
       "      <td>3</td>\n",
       "      <td>16.1</td>\n",
       "      <td>16093.0</td>\n",
       "      <td>0.0</td>\n",
       "      <td>0.0</td>\n",
       "      <td>SE</td>\n",
       "      <td>12.2</td>\n",
       "      <td>16093.0</td>\n",
       "      <td>5.1</td>\n",
       "      <td>0.0</td>\n",
       "      <td>NW</td>\n",
       "    </tr>\n",
       "  </tbody>\n",
       "</table>\n",
       "<p>9488 rows × 18 columns</p>\n",
       "</div>"
      ],
      "text/plain": [
       "       year  month  day origin_airport destination_airport flight_status  \\\n",
       "0      2017      1   12            FLL                 CLT             0   \n",
       "12     2017      1   14            FLL                 CLT             0   \n",
       "20     2017      1   18            FLL                 CLT             0   \n",
       "24     2017      1   25            FLL                 CLT             0   \n",
       "36     2017      1    6            RSW                 CLT             0   \n",
       "...     ...    ...  ...            ...                 ...           ...   \n",
       "64281  2017     12   14            RIC                 BOS             0   \n",
       "64282  2017     12   31            MTJ                 IAH             0   \n",
       "64286  2017     12   25            GUC                 IAH             0   \n",
       "64290  2017     12   25            SNA                 SFO             0   \n",
       "64294  2017     12    2            MSY                 SFO             0   \n",
       "\n",
       "      departure_time_zone arrival_time_zone  origin_temperature  \\\n",
       "0                       3                 3                22.8   \n",
       "12                      3                 3                23.3   \n",
       "20                      3                 3                23.3   \n",
       "24                      3                 3                21.7   \n",
       "36                      3                 3                20.6   \n",
       "...                   ...               ...                 ...   \n",
       "64281                   1                 2                 3.3   \n",
       "64282                   3                 3                 4.4   \n",
       "64286                   3                 3                -2.8   \n",
       "64290                   3                 3                15.6   \n",
       "64294                   3                 3                16.1   \n",
       "\n",
       "       origin_visibility  origin_wind_speed  origin_snow_depth  \\\n",
       "0                16093.0                7.2                0.0   \n",
       "12               16093.0                5.1                0.0   \n",
       "20               16093.0                3.6                0.0   \n",
       "24               16093.0                3.1                0.0   \n",
       "36               16093.0                2.1                0.0   \n",
       "...                  ...                ...                ...   \n",
       "64281            16093.0                6.2                0.0   \n",
       "64282            16093.0                2.1                0.0   \n",
       "64286            16093.0                3.6                0.0   \n",
       "64290            16093.0                0.0                0.0   \n",
       "64294            16093.0                0.0                0.0   \n",
       "\n",
       "      origin_wind_direction_zone  destination_temperature  \\\n",
       "0                             NE                     12.2   \n",
       "12                            NE                     18.9   \n",
       "20                            SE                     14.4   \n",
       "24                            NW                     11.7   \n",
       "36                            SW                      5.0   \n",
       "...                          ...                      ...   \n",
       "64281                         SW                     -5.6   \n",
       "64282                         NE                     11.7   \n",
       "64286                         SE                     10.6   \n",
       "64290                         NE                     11.1   \n",
       "64294                         SE                     12.2   \n",
       "\n",
       "       destination_visibility  destination_wind_speed  destination_snow_depth  \\\n",
       "0                     16093.0                     0.0                     0.0   \n",
       "12                    16093.0                     2.1                     0.0   \n",
       "20                    16093.0                     2.6                     0.0   \n",
       "24                    16093.0                     2.1                     0.0   \n",
       "36                    16093.0                     1.5                     0.0   \n",
       "...                       ...                     ...                     ...   \n",
       "64281                 14484.0                     4.6                     0.0   \n",
       "64282                   805.0                     3.6                     0.0   \n",
       "64286                 16093.0                     7.2                     0.0   \n",
       "64290                 14484.0                     1.5                     0.0   \n",
       "64294                 16093.0                     5.1                     0.0   \n",
       "\n",
       "      destination_wind_direction_zone  \n",
       "0                                  SW  \n",
       "12                                 NE  \n",
       "20                                 SW  \n",
       "24                                 NW  \n",
       "36                                 NE  \n",
       "...                               ...  \n",
       "64281                              NW  \n",
       "64282                              NW  \n",
       "64286                              NE  \n",
       "64290                              NE  \n",
       "64294                              NW  \n",
       "\n",
       "[9488 rows x 18 columns]"
      ]
     },
     "execution_count": 64,
     "metadata": {},
     "output_type": "execute_result"
    }
   ],
   "source": [
    "df = pd.merge(df, df_weather, left_on = ['destination_airport', 'year', 'month', 'day', 'arrival_time_zone'], right_on = ['airport_id', 'year', 'month', 'day', 'time_zone'])\n",
    "df.drop_duplicates(subset=['year', 'month', 'day', 'destination_airport', 'airport_id', 'arrival_time_zone', 'time_zone'],keep='first',inplace=True)\n",
    "df.rename(columns={'temperature':'destination_temperature', 'visibility':'destination_visibility', 'wind_speed':'destination_wind_speed', 'snow_depth':'destination_snow_depth', 'wind_direction_zone':'destination_wind_direction_zone'}, inplace = True)\n",
    "df.drop(['airport_id', 'time_zone'], axis=1, inplace = True)\n",
    "df"
   ]
  },
  {
   "cell_type": "code",
   "execution_count": 65,
   "metadata": {},
   "outputs": [
    {
     "name": "stdout",
     "output_type": "stream",
     "text": [
      "<class 'pandas.core.frame.DataFrame'>\n",
      "Int64Index: 9488 entries, 0 to 64294\n",
      "Data columns (total 18 columns):\n",
      "year                               9488 non-null int64\n",
      "month                              9488 non-null int64\n",
      "day                                9488 non-null int64\n",
      "origin_airport                     9488 non-null object\n",
      "destination_airport                9488 non-null object\n",
      "flight_status                      9488 non-null category\n",
      "departure_time_zone                9488 non-null category\n",
      "arrival_time_zone                  9488 non-null category\n",
      "origin_temperature                 9488 non-null float64\n",
      "origin_visibility                  9488 non-null float64\n",
      "origin_wind_speed                  9488 non-null float64\n",
      "origin_snow_depth                  9488 non-null float64\n",
      "origin_wind_direction_zone         9488 non-null category\n",
      "destination_temperature            9488 non-null float64\n",
      "destination_visibility             9488 non-null float64\n",
      "destination_wind_speed             9488 non-null float64\n",
      "destination_snow_depth             9488 non-null float64\n",
      "destination_wind_direction_zone    9488 non-null category\n",
      "dtypes: category(5), float64(8), int64(3), object(2)\n",
      "memory usage: 1.1+ MB\n"
     ]
    }
   ],
   "source": [
    "df.info()"
   ]
  },
  {
   "cell_type": "code",
   "execution_count": 66,
   "metadata": {},
   "outputs": [
    {
     "data": {
      "text/html": [
       "<div>\n",
       "<style scoped>\n",
       "    .dataframe tbody tr th:only-of-type {\n",
       "        vertical-align: middle;\n",
       "    }\n",
       "\n",
       "    .dataframe tbody tr th {\n",
       "        vertical-align: top;\n",
       "    }\n",
       "\n",
       "    .dataframe thead th {\n",
       "        text-align: right;\n",
       "    }\n",
       "</style>\n",
       "<table border=\"1\" class=\"dataframe\">\n",
       "  <thead>\n",
       "    <tr style=\"text-align: right;\">\n",
       "      <th></th>\n",
       "      <th>year</th>\n",
       "      <th>month</th>\n",
       "      <th>day</th>\n",
       "      <th>origin_temperature</th>\n",
       "      <th>origin_visibility</th>\n",
       "      <th>origin_wind_speed</th>\n",
       "      <th>origin_snow_depth</th>\n",
       "      <th>destination_temperature</th>\n",
       "      <th>destination_visibility</th>\n",
       "      <th>destination_wind_speed</th>\n",
       "      <th>destination_snow_depth</th>\n",
       "    </tr>\n",
       "  </thead>\n",
       "  <tbody>\n",
       "    <tr>\n",
       "      <th>count</th>\n",
       "      <td>9488.0</td>\n",
       "      <td>9488.000000</td>\n",
       "      <td>9488.000000</td>\n",
       "      <td>9488.000000</td>\n",
       "      <td>9488.000000</td>\n",
       "      <td>9488.000000</td>\n",
       "      <td>9488.000000</td>\n",
       "      <td>9488.000000</td>\n",
       "      <td>9488.000000</td>\n",
       "      <td>9488.000000</td>\n",
       "      <td>9488.000000</td>\n",
       "    </tr>\n",
       "    <tr>\n",
       "      <th>mean</th>\n",
       "      <td>2017.0</td>\n",
       "      <td>6.551539</td>\n",
       "      <td>15.702045</td>\n",
       "      <td>17.009306</td>\n",
       "      <td>15314.300274</td>\n",
       "      <td>4.019741</td>\n",
       "      <td>0.006218</td>\n",
       "      <td>17.868729</td>\n",
       "      <td>15381.272871</td>\n",
       "      <td>4.202382</td>\n",
       "      <td>0.004216</td>\n",
       "    </tr>\n",
       "    <tr>\n",
       "      <th>std</th>\n",
       "      <td>0.0</td>\n",
       "      <td>3.423528</td>\n",
       "      <td>8.790121</td>\n",
       "      <td>10.571123</td>\n",
       "      <td>2702.913863</td>\n",
       "      <td>2.457982</td>\n",
       "      <td>0.298733</td>\n",
       "      <td>10.374722</td>\n",
       "      <td>2602.045566</td>\n",
       "      <td>2.481802</td>\n",
       "      <td>0.197441</td>\n",
       "    </tr>\n",
       "    <tr>\n",
       "      <th>min</th>\n",
       "      <td>2017.0</td>\n",
       "      <td>1.000000</td>\n",
       "      <td>1.000000</td>\n",
       "      <td>-37.800000</td>\n",
       "      <td>0.000000</td>\n",
       "      <td>0.000000</td>\n",
       "      <td>0.000000</td>\n",
       "      <td>-33.900000</td>\n",
       "      <td>0.000000</td>\n",
       "      <td>0.000000</td>\n",
       "      <td>0.000000</td>\n",
       "    </tr>\n",
       "    <tr>\n",
       "      <th>25%</th>\n",
       "      <td>2017.0</td>\n",
       "      <td>4.000000</td>\n",
       "      <td>8.000000</td>\n",
       "      <td>10.000000</td>\n",
       "      <td>16093.000000</td>\n",
       "      <td>2.600000</td>\n",
       "      <td>0.000000</td>\n",
       "      <td>11.100000</td>\n",
       "      <td>16093.000000</td>\n",
       "      <td>2.600000</td>\n",
       "      <td>0.000000</td>\n",
       "    </tr>\n",
       "    <tr>\n",
       "      <th>50%</th>\n",
       "      <td>2017.0</td>\n",
       "      <td>7.000000</td>\n",
       "      <td>16.000000</td>\n",
       "      <td>18.900000</td>\n",
       "      <td>16093.000000</td>\n",
       "      <td>3.600000</td>\n",
       "      <td>0.000000</td>\n",
       "      <td>19.400000</td>\n",
       "      <td>16093.000000</td>\n",
       "      <td>4.100000</td>\n",
       "      <td>0.000000</td>\n",
       "    </tr>\n",
       "    <tr>\n",
       "      <th>75%</th>\n",
       "      <td>2017.0</td>\n",
       "      <td>9.000000</td>\n",
       "      <td>23.000000</td>\n",
       "      <td>25.000000</td>\n",
       "      <td>16093.000000</td>\n",
       "      <td>5.100000</td>\n",
       "      <td>0.000000</td>\n",
       "      <td>25.600000</td>\n",
       "      <td>16093.000000</td>\n",
       "      <td>5.700000</td>\n",
       "      <td>0.000000</td>\n",
       "    </tr>\n",
       "    <tr>\n",
       "      <th>max</th>\n",
       "      <td>2017.0</td>\n",
       "      <td>12.000000</td>\n",
       "      <td>31.000000</td>\n",
       "      <td>47.800000</td>\n",
       "      <td>16093.000000</td>\n",
       "      <td>17.500000</td>\n",
       "      <td>20.000000</td>\n",
       "      <td>47.800000</td>\n",
       "      <td>16093.000000</td>\n",
       "      <td>26.300000</td>\n",
       "      <td>13.000000</td>\n",
       "    </tr>\n",
       "  </tbody>\n",
       "</table>\n",
       "</div>"
      ],
      "text/plain": [
       "         year        month          day  origin_temperature  \\\n",
       "count  9488.0  9488.000000  9488.000000         9488.000000   \n",
       "mean   2017.0     6.551539    15.702045           17.009306   \n",
       "std       0.0     3.423528     8.790121           10.571123   \n",
       "min    2017.0     1.000000     1.000000          -37.800000   \n",
       "25%    2017.0     4.000000     8.000000           10.000000   \n",
       "50%    2017.0     7.000000    16.000000           18.900000   \n",
       "75%    2017.0     9.000000    23.000000           25.000000   \n",
       "max    2017.0    12.000000    31.000000           47.800000   \n",
       "\n",
       "       origin_visibility  origin_wind_speed  origin_snow_depth  \\\n",
       "count        9488.000000        9488.000000        9488.000000   \n",
       "mean        15314.300274           4.019741           0.006218   \n",
       "std          2702.913863           2.457982           0.298733   \n",
       "min             0.000000           0.000000           0.000000   \n",
       "25%         16093.000000           2.600000           0.000000   \n",
       "50%         16093.000000           3.600000           0.000000   \n",
       "75%         16093.000000           5.100000           0.000000   \n",
       "max         16093.000000          17.500000          20.000000   \n",
       "\n",
       "       destination_temperature  destination_visibility  \\\n",
       "count              9488.000000             9488.000000   \n",
       "mean                 17.868729            15381.272871   \n",
       "std                  10.374722             2602.045566   \n",
       "min                 -33.900000                0.000000   \n",
       "25%                  11.100000            16093.000000   \n",
       "50%                  19.400000            16093.000000   \n",
       "75%                  25.600000            16093.000000   \n",
       "max                  47.800000            16093.000000   \n",
       "\n",
       "       destination_wind_speed  destination_snow_depth  \n",
       "count             9488.000000             9488.000000  \n",
       "mean                 4.202382                0.004216  \n",
       "std                  2.481802                0.197441  \n",
       "min                  0.000000                0.000000  \n",
       "25%                  2.600000                0.000000  \n",
       "50%                  4.100000                0.000000  \n",
       "75%                  5.700000                0.000000  \n",
       "max                 26.300000               13.000000  "
      ]
     },
     "execution_count": 66,
     "metadata": {},
     "output_type": "execute_result"
    }
   ],
   "source": [
    "df.describe()"
   ]
  },
  {
   "cell_type": "markdown",
   "metadata": {},
   "source": [
    "- **Drop all non-feature columns**"
   ]
  },
  {
   "cell_type": "code",
   "execution_count": 68,
   "metadata": {},
   "outputs": [
    {
     "data": {
      "text/html": [
       "<div>\n",
       "<style scoped>\n",
       "    .dataframe tbody tr th:only-of-type {\n",
       "        vertical-align: middle;\n",
       "    }\n",
       "\n",
       "    .dataframe tbody tr th {\n",
       "        vertical-align: top;\n",
       "    }\n",
       "\n",
       "    .dataframe thead th {\n",
       "        text-align: right;\n",
       "    }\n",
       "</style>\n",
       "<table border=\"1\" class=\"dataframe\">\n",
       "  <thead>\n",
       "    <tr style=\"text-align: right;\">\n",
       "      <th></th>\n",
       "      <th>flight_status</th>\n",
       "      <th>origin_temperature</th>\n",
       "      <th>origin_visibility</th>\n",
       "      <th>origin_wind_speed</th>\n",
       "      <th>origin_snow_depth</th>\n",
       "      <th>origin_wind_direction_zone</th>\n",
       "      <th>destination_temperature</th>\n",
       "      <th>destination_visibility</th>\n",
       "      <th>destination_wind_speed</th>\n",
       "      <th>destination_snow_depth</th>\n",
       "      <th>destination_wind_direction_zone</th>\n",
       "    </tr>\n",
       "  </thead>\n",
       "  <tbody>\n",
       "    <tr>\n",
       "      <th>0</th>\n",
       "      <td>0</td>\n",
       "      <td>22.8</td>\n",
       "      <td>16093.0</td>\n",
       "      <td>7.2</td>\n",
       "      <td>0.0</td>\n",
       "      <td>NE</td>\n",
       "      <td>12.2</td>\n",
       "      <td>16093.0</td>\n",
       "      <td>0.0</td>\n",
       "      <td>0.0</td>\n",
       "      <td>SW</td>\n",
       "    </tr>\n",
       "    <tr>\n",
       "      <th>12</th>\n",
       "      <td>0</td>\n",
       "      <td>23.3</td>\n",
       "      <td>16093.0</td>\n",
       "      <td>5.1</td>\n",
       "      <td>0.0</td>\n",
       "      <td>NE</td>\n",
       "      <td>18.9</td>\n",
       "      <td>16093.0</td>\n",
       "      <td>2.1</td>\n",
       "      <td>0.0</td>\n",
       "      <td>NE</td>\n",
       "    </tr>\n",
       "    <tr>\n",
       "      <th>20</th>\n",
       "      <td>0</td>\n",
       "      <td>23.3</td>\n",
       "      <td>16093.0</td>\n",
       "      <td>3.6</td>\n",
       "      <td>0.0</td>\n",
       "      <td>SE</td>\n",
       "      <td>14.4</td>\n",
       "      <td>16093.0</td>\n",
       "      <td>2.6</td>\n",
       "      <td>0.0</td>\n",
       "      <td>SW</td>\n",
       "    </tr>\n",
       "    <tr>\n",
       "      <th>24</th>\n",
       "      <td>0</td>\n",
       "      <td>21.7</td>\n",
       "      <td>16093.0</td>\n",
       "      <td>3.1</td>\n",
       "      <td>0.0</td>\n",
       "      <td>NW</td>\n",
       "      <td>11.7</td>\n",
       "      <td>16093.0</td>\n",
       "      <td>2.1</td>\n",
       "      <td>0.0</td>\n",
       "      <td>NW</td>\n",
       "    </tr>\n",
       "    <tr>\n",
       "      <th>36</th>\n",
       "      <td>0</td>\n",
       "      <td>20.6</td>\n",
       "      <td>16093.0</td>\n",
       "      <td>2.1</td>\n",
       "      <td>0.0</td>\n",
       "      <td>SW</td>\n",
       "      <td>5.0</td>\n",
       "      <td>16093.0</td>\n",
       "      <td>1.5</td>\n",
       "      <td>0.0</td>\n",
       "      <td>NE</td>\n",
       "    </tr>\n",
       "    <tr>\n",
       "      <th>...</th>\n",
       "      <td>...</td>\n",
       "      <td>...</td>\n",
       "      <td>...</td>\n",
       "      <td>...</td>\n",
       "      <td>...</td>\n",
       "      <td>...</td>\n",
       "      <td>...</td>\n",
       "      <td>...</td>\n",
       "      <td>...</td>\n",
       "      <td>...</td>\n",
       "      <td>...</td>\n",
       "    </tr>\n",
       "    <tr>\n",
       "      <th>64281</th>\n",
       "      <td>0</td>\n",
       "      <td>3.3</td>\n",
       "      <td>16093.0</td>\n",
       "      <td>6.2</td>\n",
       "      <td>0.0</td>\n",
       "      <td>SW</td>\n",
       "      <td>-5.6</td>\n",
       "      <td>14484.0</td>\n",
       "      <td>4.6</td>\n",
       "      <td>0.0</td>\n",
       "      <td>NW</td>\n",
       "    </tr>\n",
       "    <tr>\n",
       "      <th>64282</th>\n",
       "      <td>0</td>\n",
       "      <td>4.4</td>\n",
       "      <td>16093.0</td>\n",
       "      <td>2.1</td>\n",
       "      <td>0.0</td>\n",
       "      <td>NE</td>\n",
       "      <td>11.7</td>\n",
       "      <td>805.0</td>\n",
       "      <td>3.6</td>\n",
       "      <td>0.0</td>\n",
       "      <td>NW</td>\n",
       "    </tr>\n",
       "    <tr>\n",
       "      <th>64286</th>\n",
       "      <td>0</td>\n",
       "      <td>-2.8</td>\n",
       "      <td>16093.0</td>\n",
       "      <td>3.6</td>\n",
       "      <td>0.0</td>\n",
       "      <td>SE</td>\n",
       "      <td>10.6</td>\n",
       "      <td>16093.0</td>\n",
       "      <td>7.2</td>\n",
       "      <td>0.0</td>\n",
       "      <td>NE</td>\n",
       "    </tr>\n",
       "    <tr>\n",
       "      <th>64290</th>\n",
       "      <td>0</td>\n",
       "      <td>15.6</td>\n",
       "      <td>16093.0</td>\n",
       "      <td>0.0</td>\n",
       "      <td>0.0</td>\n",
       "      <td>NE</td>\n",
       "      <td>11.1</td>\n",
       "      <td>14484.0</td>\n",
       "      <td>1.5</td>\n",
       "      <td>0.0</td>\n",
       "      <td>NE</td>\n",
       "    </tr>\n",
       "    <tr>\n",
       "      <th>64294</th>\n",
       "      <td>0</td>\n",
       "      <td>16.1</td>\n",
       "      <td>16093.0</td>\n",
       "      <td>0.0</td>\n",
       "      <td>0.0</td>\n",
       "      <td>SE</td>\n",
       "      <td>12.2</td>\n",
       "      <td>16093.0</td>\n",
       "      <td>5.1</td>\n",
       "      <td>0.0</td>\n",
       "      <td>NW</td>\n",
       "    </tr>\n",
       "  </tbody>\n",
       "</table>\n",
       "<p>9488 rows × 11 columns</p>\n",
       "</div>"
      ],
      "text/plain": [
       "      flight_status  origin_temperature  origin_visibility  origin_wind_speed  \\\n",
       "0                 0                22.8            16093.0                7.2   \n",
       "12                0                23.3            16093.0                5.1   \n",
       "20                0                23.3            16093.0                3.6   \n",
       "24                0                21.7            16093.0                3.1   \n",
       "36                0                20.6            16093.0                2.1   \n",
       "...             ...                 ...                ...                ...   \n",
       "64281             0                 3.3            16093.0                6.2   \n",
       "64282             0                 4.4            16093.0                2.1   \n",
       "64286             0                -2.8            16093.0                3.6   \n",
       "64290             0                15.6            16093.0                0.0   \n",
       "64294             0                16.1            16093.0                0.0   \n",
       "\n",
       "       origin_snow_depth origin_wind_direction_zone  destination_temperature  \\\n",
       "0                    0.0                         NE                     12.2   \n",
       "12                   0.0                         NE                     18.9   \n",
       "20                   0.0                         SE                     14.4   \n",
       "24                   0.0                         NW                     11.7   \n",
       "36                   0.0                         SW                      5.0   \n",
       "...                  ...                        ...                      ...   \n",
       "64281                0.0                         SW                     -5.6   \n",
       "64282                0.0                         NE                     11.7   \n",
       "64286                0.0                         SE                     10.6   \n",
       "64290                0.0                         NE                     11.1   \n",
       "64294                0.0                         SE                     12.2   \n",
       "\n",
       "       destination_visibility  destination_wind_speed  destination_snow_depth  \\\n",
       "0                     16093.0                     0.0                     0.0   \n",
       "12                    16093.0                     2.1                     0.0   \n",
       "20                    16093.0                     2.6                     0.0   \n",
       "24                    16093.0                     2.1                     0.0   \n",
       "36                    16093.0                     1.5                     0.0   \n",
       "...                       ...                     ...                     ...   \n",
       "64281                 14484.0                     4.6                     0.0   \n",
       "64282                   805.0                     3.6                     0.0   \n",
       "64286                 16093.0                     7.2                     0.0   \n",
       "64290                 14484.0                     1.5                     0.0   \n",
       "64294                 16093.0                     5.1                     0.0   \n",
       "\n",
       "      destination_wind_direction_zone  \n",
       "0                                  SW  \n",
       "12                                 NE  \n",
       "20                                 SW  \n",
       "24                                 NW  \n",
       "36                                 NE  \n",
       "...                               ...  \n",
       "64281                              NW  \n",
       "64282                              NW  \n",
       "64286                              NE  \n",
       "64290                              NE  \n",
       "64294                              NW  \n",
       "\n",
       "[9488 rows x 11 columns]"
      ]
     },
     "execution_count": 68,
     "metadata": {},
     "output_type": "execute_result"
    }
   ],
   "source": [
    "df.drop(['year', 'month', 'day', 'origin_airport', 'destination_airport', 'departure_time_zone', 'arrival_time_zone'], axis=1, inplace=True)\n",
    "df"
   ]
  },
  {
   "cell_type": "markdown",
   "metadata": {},
   "source": [
    "## Perform min-max scaling each numerical feature column to the range [0,1]"
   ]
  },
  {
   "cell_type": "code",
   "execution_count": 69,
   "metadata": {},
   "outputs": [
    {
     "data": {
      "text/plain": [
       "array([[0.70794393, 1.        , 0.41142857, ..., 1.        , 0.        ,\n",
       "        0.        ],\n",
       "       [0.71378505, 1.        , 0.29142857, ..., 1.        , 0.07984791,\n",
       "        0.        ],\n",
       "       [0.71378505, 1.        , 0.20571429, ..., 1.        , 0.09885932,\n",
       "        0.        ],\n",
       "       ...,\n",
       "       [0.4088785 , 1.        , 0.20571429, ..., 1.        , 0.27376426,\n",
       "        0.        ],\n",
       "       [0.62383178, 1.        , 0.        , ..., 0.90001864, 0.05703422,\n",
       "        0.        ],\n",
       "       [0.6296729 , 1.        , 0.        , ..., 1.        , 0.19391635,\n",
       "        0.        ]])"
      ]
     },
     "execution_count": 69,
     "metadata": {},
     "output_type": "execute_result"
    }
   ],
   "source": [
    "from sklearn.preprocessing import MinMaxScaler\n",
    "\n",
    "mms = MinMaxScaler()\n",
    "num = ['origin_temperature', 'origin_visibility', 'origin_wind_speed', 'origin_snow_depth', 'destination_temperature', 'destination_visibility', 'destination_wind_speed', 'destination_snow_depth']\n",
    "dataset_num = df[num].values\n",
    "mms.fit(dataset_num)\n",
    "dataset_num_norm = mms.transform(dataset_num)\n",
    "dataset_num_norm"
   ]
  },
  {
   "cell_type": "markdown",
   "metadata": {},
   "source": [
    "## Perform one-hot encoding on each categorical feature column"
   ]
  },
  {
   "cell_type": "code",
   "execution_count": 70,
   "metadata": {},
   "outputs": [
    {
     "data": {
      "text/plain": [
       "matrix([[1., 0., 0., ..., 0., 0., 1.],\n",
       "        [1., 0., 0., ..., 0., 0., 0.],\n",
       "        [0., 0., 1., ..., 0., 0., 1.],\n",
       "        ...,\n",
       "        [0., 0., 1., ..., 0., 0., 0.],\n",
       "        [1., 0., 0., ..., 0., 0., 0.],\n",
       "        [0., 0., 1., ..., 1., 0., 0.]])"
      ]
     },
     "execution_count": 70,
     "metadata": {},
     "output_type": "execute_result"
    }
   ],
   "source": [
    "from sklearn.preprocessing import OneHotEncoder\n",
    "\n",
    "ohe = OneHotEncoder()\n",
    "cat = ['origin_wind_direction_zone', 'destination_wind_direction_zone']\n",
    "dataset_cat = df[cat].values\n",
    "# format all fields as string\n",
    "dataset_cat = dataset_cat.astype(str)\n",
    "ohe.fit(dataset_cat)\n",
    "dataset_cat_enc = ohe.transform(dataset_cat).todense()\n",
    "dataset_cat_enc"
   ]
  },
  {
   "cell_type": "markdown",
   "metadata": {},
   "source": [
    "## Perform one-hot encoding on label column"
   ]
  },
  {
   "cell_type": "code",
   "execution_count": 71,
   "metadata": {},
   "outputs": [
    {
     "data": {
      "text/plain": [
       "array([[1, 0, 0, 0],\n",
       "       [1, 0, 0, 0],\n",
       "       [1, 0, 0, 0],\n",
       "       ...,\n",
       "       [1, 0, 0, 0],\n",
       "       [1, 0, 0, 0],\n",
       "       [1, 0, 0, 0]])"
      ]
     },
     "execution_count": 71,
     "metadata": {},
     "output_type": "execute_result"
    }
   ],
   "source": [
    "from sklearn.preprocessing import LabelBinarizer\n",
    "\n",
    "lb = LabelBinarizer()\n",
    "dataset_label = df['flight_status'].values\n",
    "lb.fit(dataset_label)\n",
    "dataset_label_enc = lb.transform(dataset_label)\n",
    "dataset_label_enc"
   ]
  },
  {
   "cell_type": "markdown",
   "metadata": {},
   "source": [
    "## Concatenate normalized numerical features and one-hot encoded categorical features into `X` and denote label by `y`"
   ]
  },
  {
   "cell_type": "code",
   "execution_count": 72,
   "metadata": {},
   "outputs": [
    {
     "data": {
      "text/plain": [
       "((9488, 16), (9488, 4))"
      ]
     },
     "execution_count": 72,
     "metadata": {},
     "output_type": "execute_result"
    }
   ],
   "source": [
    "X = np.hstack([dataset_num_norm, dataset_cat_enc])\n",
    "y = dataset_label_enc\n",
    "X.shape, y.shape"
   ]
  },
  {
   "cell_type": "markdown",
   "metadata": {},
   "source": [
    "## Use 30% test 70% training data"
   ]
  },
  {
   "cell_type": "code",
   "execution_count": 73,
   "metadata": {},
   "outputs": [
    {
     "data": {
      "text/plain": [
       "((6641, 16), (2847, 16), (6641, 4), (2847, 4))"
      ]
     },
     "execution_count": 73,
     "metadata": {},
     "output_type": "execute_result"
    }
   ],
   "source": [
    "from sklearn.model_selection import train_test_split\n",
    "\n",
    "# split into train and test sets\n",
    "X_train, X_test, y_train, y_test = train_test_split(X, y, test_size=0.3, random_state=1)\n",
    "X_train.shape, X_test.shape, y_train.shape, y_test.shape"
   ]
  },
  {
   "cell_type": "markdown",
   "metadata": {},
   "source": [
    "## Train using a random forest model"
   ]
  },
  {
   "cell_type": "code",
   "execution_count": 74,
   "metadata": {},
   "outputs": [
    {
     "data": {
      "text/plain": [
       "RandomForestClassifier(bootstrap=True, ccp_alpha=0.0, class_weight=None,\n",
       "                       criterion='gini', max_depth=None, max_features='auto',\n",
       "                       max_leaf_nodes=None, max_samples=None,\n",
       "                       min_impurity_decrease=0.0, min_impurity_split=None,\n",
       "                       min_samples_leaf=1, min_samples_split=2,\n",
       "                       min_weight_fraction_leaf=0.0, n_estimators=100,\n",
       "                       n_jobs=None, oob_score=False, random_state=None,\n",
       "                       verbose=0, warm_start=False)"
      ]
     },
     "execution_count": 74,
     "metadata": {},
     "output_type": "execute_result"
    }
   ],
   "source": [
    "from sklearn.ensemble import RandomForestClassifier\n",
    "\n",
    "rfc = RandomForestClassifier()\n",
    "rfc.fit(X_train, y_train)"
   ]
  },
  {
   "cell_type": "markdown",
   "metadata": {},
   "source": [
    "## Evaluate the accuracy of the prediction"
   ]
  },
  {
   "cell_type": "markdown",
   "metadata": {},
   "source": [
    "- **Accuracy on test data**"
   ]
  },
  {
   "cell_type": "code",
   "execution_count": 76,
   "metadata": {},
   "outputs": [
    {
     "name": "stdout",
     "output_type": "stream",
     "text": [
      "Accuracy on test data: 0.9582016157358623\n"
     ]
    }
   ],
   "source": [
    "print('Accuracy on test data: {}'.format(rfc.score(X_test, y_test)))"
   ]
  },
  {
   "cell_type": "markdown",
   "metadata": {},
   "source": [
    "- **Plot the confusion matrix**"
   ]
  },
  {
   "cell_type": "code",
   "execution_count": 84,
   "metadata": {},
   "outputs": [
    {
     "data": {
      "text/plain": [
       "array([[[   0,  118],\n",
       "        [   1, 2728]],\n",
       "\n",
       "       [[2793,    0],\n",
       "        [  54,    0]],\n",
       "\n",
       "       [[2840,    0],\n",
       "        [   7,    0]],\n",
       "\n",
       "       [[2790,    0],\n",
       "        [  57,    0]]], dtype=int64)"
      ]
     },
     "execution_count": 84,
     "metadata": {},
     "output_type": "execute_result"
    }
   ],
   "source": [
    "from sklearn.metrics import multilabel_confusion_matrix\n",
    "y_pred = rfc.predict(X_test)\n",
    "cm = multilabel_confusion_matrix(y_test, y_pred)\n",
    "cm"
   ]
  },
  {
   "cell_type": "markdown",
   "metadata": {},
   "source": [
    "- **Regression plot and Box plot on `flight_status` vs each weather feature**"
   ]
  },
  {
   "cell_type": "code",
   "execution_count": 95,
   "metadata": {},
   "outputs": [
    {
     "data": {
      "text/plain": [
       "<matplotlib.axes._subplots.AxesSubplot at 0x20847e350c8>"
      ]
     },
     "execution_count": 95,
     "metadata": {},
     "output_type": "execute_result"
    },
    {
     "data": {
      "image/png": "[encoded data removed]",
      "text/plain": [
       "<Figure size 1080x504 with 1 Axes>"
      ]
     },
     "metadata": {
      "needs_background": "light"
     },
     "output_type": "display_data"
    }
   ],
   "source": [
    "df['flight_status'] = pd.Categorical(df['flight_status'],ordered=True)\n",
    "fig, ax = plt.subplots(figsize=(15, 7))\n",
    "sns.regplot(x=\"flight_status\", y=\"origin_temperature\", data=df, ax=ax)"
   ]
  },
  {
   "cell_type": "code",
   "execution_count": 98,
   "metadata": {},
   "outputs": [
    {
     "data": {
      "text/plain": [
       "<matplotlib.axes._subplots.AxesSubplot at 0x20853d09808>"
      ]
     },
     "execution_count": 98,
     "metadata": {},
     "output_type": "execute_result"
    },
    {
     "data": {
      "image/png": "[encoded data removed]",
      "text/plain": [
       "<Figure size 1080x504 with 1 Axes>"
      ]
     },
     "metadata": {
      "needs_background": "light"
     },
     "output_type": "display_data"
    }
   ],
   "source": [
    "fig, ax = plt.subplots(figsize=(15, 7))\n",
    "sns.boxplot(x=\"flight_status\", y=\"origin_temperature\", data=df, ax=ax)"
   ]
  },
  {
   "cell_type": "code",
   "execution_count": 96,
   "metadata": {},
   "outputs": [
    {
     "data": {
      "text/plain": [
       "<matplotlib.axes._subplots.AxesSubplot at 0x208489c6408>"
      ]
     },
     "execution_count": 96,
     "metadata": {},
     "output_type": "execute_result"
    },
    {
     "data": {
      "image/png": "[encoded data removed]",
      "text/plain": [
       "<Figure size 1080x504 with 1 Axes>"
      ]
     },
     "metadata": {
      "needs_background": "light"
     },
     "output_type": "display_data"
    }
   ],
   "source": [
    "fig, ax = plt.subplots(figsize=(15, 7))\n",
    "sns.regplot(x=\"flight_status\", y=\"origin_visibility\", data=df, ax=ax)"
   ]
  },
  {
   "cell_type": "code",
   "execution_count": 107,
   "metadata": {},
   "outputs": [
    {
     "data": {
      "text/plain": [
       "<matplotlib.axes._subplots.AxesSubplot at 0x20858c3e6c8>"
      ]
     },
     "execution_count": 107,
     "metadata": {},
     "output_type": "execute_result"
    },
    {
     "data": {
      "image/png": "[encoded data removed]",
      "text/plain": [
       "<Figure size 1080x504 with 1 Axes>"
      ]
     },
     "metadata": {
      "needs_background": "light"
     },
     "output_type": "display_data"
    }
   ],
   "source": [
    "fig, ax = plt.subplots(figsize=(15, 7))\n",
    "sns.boxplot(x=\"flight_status\", y=\"origin_visibility\", data=df, ax=ax)"
   ]
  },
  {
   "cell_type": "code",
   "execution_count": 99,
   "metadata": {},
   "outputs": [
    {
     "data": {
      "text/plain": [
       "<matplotlib.axes._subplots.AxesSubplot at 0x20854329a48>"
      ]
     },
     "execution_count": 99,
     "metadata": {},
     "output_type": "execute_result"
    },
    {
     "data": {
      "image/png": "[encoded data removed]",
      "text/plain": [
       "<Figure size 1080x504 with 1 Axes>"
      ]
     },
     "metadata": {
      "needs_background": "light"
     },
     "output_type": "display_data"
    }
   ],
   "source": [
    "fig, ax = plt.subplots(figsize=(15, 7))\n",
    "sns.regplot(x=\"flight_status\", y=\"origin_wind_speed\", data=df, ax=ax)"
   ]
  },
  {
   "cell_type": "code",
   "execution_count": 108,
   "metadata": {},
   "outputs": [
    {
     "data": {
      "text/plain": [
       "<matplotlib.axes._subplots.AxesSubplot at 0x20858ceb6c8>"
      ]
     },
     "execution_count": 108,
     "metadata": {},
     "output_type": "execute_result"
    },
    {
     "data": {
      "image/png": "[encoded data removed]",
      "text/plain": [
       "<Figure size 1080x504 with 1 Axes>"
      ]
     },
     "metadata": {
      "needs_background": "light"
     },
     "output_type": "display_data"
    }
   ],
   "source": [
    "fig, ax = plt.subplots(figsize=(15, 7))\n",
    "sns.boxplot(x=\"flight_status\", y=\"origin_wind_speed\", data=df, ax=ax)"
   ]
  },
  {
   "cell_type": "code",
   "execution_count": 100,
   "metadata": {},
   "outputs": [
    {
     "data": {
      "text/plain": [
       "<matplotlib.axes._subplots.AxesSubplot at 0x208545324c8>"
      ]
     },
     "execution_count": 100,
     "metadata": {},
     "output_type": "execute_result"
    },
    {
     "data": {
      "image/png": "[encoded data removed]",
      "text/plain": [
       "<Figure size 1080x504 with 1 Axes>"
      ]
     },
     "metadata": {
      "needs_background": "light"
     },
     "output_type": "display_data"
    }
   ],
   "source": [
    "fig, ax = plt.subplots(figsize=(15, 7))\n",
    "sns.regplot(x=\"flight_status\", y=\"origin_snow_depth\", data=df, ax=ax)"
   ]
  },
  {
   "cell_type": "code",
   "execution_count": 109,
   "metadata": {},
   "outputs": [
    {
     "data": {
      "text/plain": [
       "<matplotlib.axes._subplots.AxesSubplot at 0x2086bf14048>"
      ]
     },
     "execution_count": 109,
     "metadata": {},
     "output_type": "execute_result"
    },
    {
     "data": {
      "image/png": "[encoded data removed]",
      "text/plain": [
       "<Figure size 1080x504 with 1 Axes>"
      ]
     },
     "metadata": {
      "needs_background": "light"
     },
     "output_type": "display_data"
    }
   ],
   "source": [
    "fig, ax = plt.subplots(figsize=(15, 7))\n",
    "sns.boxplot(x=\"flight_status\", y=\"origin_snow_depth\", data=df, ax=ax)"
   ]
  },
  {
   "cell_type": "code",
   "execution_count": 103,
   "metadata": {},
   "outputs": [
    {
     "data": {
      "text/plain": [
       "<matplotlib.axes._subplots.AxesSubplot at 0x2083dd45c08>"
      ]
     },
     "execution_count": 103,
     "metadata": {},
     "output_type": "execute_result"
    },
    {
     "data": {
      "image/png": "[encoded data removed]",
      "text/plain": [
       "<Figure size 1080x504 with 1 Axes>"
      ]
     },
     "metadata": {
      "needs_background": "light"
     },
     "output_type": "display_data"
    }
   ],
   "source": [
    "fig, ax = plt.subplots(figsize=(15, 7))\n",
    "sns.regplot(x=\"flight_status\", y=\"destination_temperature\", data=df, ax=ax)"
   ]
  },
  {
   "cell_type": "code",
   "execution_count": 110,
   "metadata": {},
   "outputs": [
    {
     "data": {
      "text/plain": [
       "<matplotlib.axes._subplots.AxesSubplot at 0x2088c8bd788>"
      ]
     },
     "execution_count": 110,
     "metadata": {},
     "output_type": "execute_result"
    },
    {
     "data": {
      "image/png": "[encoded data removed]",
      "text/plain": [
       "<Figure size 1080x504 with 1 Axes>"
      ]
     },
     "metadata": {
      "needs_background": "light"
     },
     "output_type": "display_data"
    }
   ],
   "source": [
    "fig, ax = plt.subplots(figsize=(15, 7))\n",
    "sns.boxplot(x=\"flight_status\", y=\"destination_temperature\", data=df, ax=ax)"
   ]
  },
  {
   "cell_type": "code",
   "execution_count": 104,
   "metadata": {},
   "outputs": [
    {
     "data": {
      "text/plain": [
       "<matplotlib.axes._subplots.AxesSubplot at 0x2085674aa48>"
      ]
     },
     "execution_count": 104,
     "metadata": {},
     "output_type": "execute_result"
    },
    {
     "data": {
      "image/png": "[encoded data removed]",
      "text/plain": [
       "<Figure size 1080x504 with 1 Axes>"
      ]
     },
     "metadata": {
      "needs_background": "light"
     },
     "output_type": "display_data"
    }
   ],
   "source": [
    "fig, ax = plt.subplots(figsize=(15, 7))\n",
    "sns.regplot(x=\"flight_status\", y=\"destination_visibility\", data=df, ax=ax)"
   ]
  },
  {
   "cell_type": "code",
   "execution_count": 111,
   "metadata": {},
   "outputs": [
    {
     "data": {
      "text/plain": [
       "<matplotlib.axes._subplots.AxesSubplot at 0x2088fcde208>"
      ]
     },
     "execution_count": 111,
     "metadata": {},
     "output_type": "execute_result"
    },
    {
     "data": {
      "image/png": "[encoded data removed]",
      "text/plain": [
       "<Figure size 1080x504 with 1 Axes>"
      ]
     },
     "metadata": {
      "needs_background": "light"
     },
     "output_type": "display_data"
    }
   ],
   "source": [
    "fig, ax = plt.subplots(figsize=(15, 7))\n",
    "sns.boxplot(x=\"flight_status\", y=\"destination_visibility\", data=df, ax=ax)"
   ]
  },
  {
   "cell_type": "code",
   "execution_count": 105,
   "metadata": {},
   "outputs": [
    {
     "data": {
      "text/plain": [
       "<matplotlib.axes._subplots.AxesSubplot at 0x20846fae908>"
      ]
     },
     "execution_count": 105,
     "metadata": {},
     "output_type": "execute_result"
    },
    {
     "data": {
      "image/png": "[encoded data removed]",
      "text/plain": [
       "<Figure size 1080x504 with 1 Axes>"
      ]
     },
     "metadata": {
      "needs_background": "light"
     },
     "output_type": "display_data"
    }
   ],
   "source": [
    "fig, ax = plt.subplots(figsize=(15, 7))\n",
    "sns.regplot(x=\"flight_status\", y=\"destination_wind_speed\", data=df, ax=ax)"
   ]
  },
  {
   "cell_type": "code",
   "execution_count": 112,
   "metadata": {},
   "outputs": [
    {
     "data": {
      "text/plain": [
       "<matplotlib.axes._subplots.AxesSubplot at 0x2088fb365c8>"
      ]
     },
     "execution_count": 112,
     "metadata": {},
     "output_type": "execute_result"
    },
    {
     "data": {
      "image/png": "[encoded data removed]",
      "text/plain": [
       "<Figure size 1080x504 with 1 Axes>"
      ]
     },
     "metadata": {
      "needs_background": "light"
     },
     "output_type": "display_data"
    }
   ],
   "source": [
    "fig, ax = plt.subplots(figsize=(15, 7))\n",
    "sns.boxplot(x=\"flight_status\", y=\"destination_wind_speed\", data=df, ax=ax)"
   ]
  },
  {
   "cell_type": "code",
   "execution_count": 106,
   "metadata": {},
   "outputs": [
    {
     "data": {
      "text/plain": [
       "<matplotlib.axes._subplots.AxesSubplot at 0x2083dd73d88>"
      ]
     },
     "execution_count": 106,
     "metadata": {},
     "output_type": "execute_result"
    },
    {
     "data": {
      "image/png": "[encoded data removed]",
      "text/plain": [
       "<Figure size 1080x504 with 1 Axes>"
      ]
     },
     "metadata": {
      "needs_background": "light"
     },
     "output_type": "display_data"
    }
   ],
   "source": [
    "fig, ax = plt.subplots(figsize=(15, 7))\n",
    "sns.regplot(x=\"flight_status\", y=\"destination_snow_depth\", data=df, ax=ax)"
   ]
  },
  {
   "cell_type": "code",
   "execution_count": 113,
   "metadata": {},
   "outputs": [
    {
     "data": {
      "text/plain": [
       "<matplotlib.axes._subplots.AxesSubplot at 0x2088fbd6388>"
      ]
     },
     "execution_count": 113,
     "metadata": {},
     "output_type": "execute_result"
    },
    {
     "data": {
      "image/png": "[encoded data removed]",
      "text/plain": [
       "<Figure size 1080x504 with 1 Axes>"
      ]
     },
     "metadata": {
      "needs_background": "light"
     },
     "output_type": "display_data"
    }
   ],
   "source": [
    "fig, ax = plt.subplots(figsize=(15, 7))\n",
    "sns.boxplot(x=\"flight_status\", y=\"destination_snow_depth\", data=df, ax=ax)"
   ]
  },
  {
   "cell_type": "markdown",
   "metadata": {},
   "source": [
    "# Conclusion"
   ]
  },
  {
   "cell_type": "markdown",
   "metadata": {},
   "source": [
    "- ***The dataset is imbalanced in terms of `flight status`, in which 'on_schedule' flights dominate the majority of records. Therefore, Random Forest model is chosen to handle this task.***\n",
    "- ***Data in `flight_traffic.csv` and `weather.csv` is merged by matching `timestamp` and `airport_id`.***\n",
    "- ***`temperature`, `visibility`, `wind_direction`, `wind_speed`, `snow_depth` at both `origin_airport` and `destination_airport` are the weather features.***\n",
    "- ***`on_schedule`, `delayed`, `diverted`, `cancelled` are the 4 labels, denoted by `0`, `1`, `2`, `3`.\n",
    "- ***The Random Forest Classifier achieves around 95% accuracy on test data.***\n",
    "- ***From the plots, we can find out that with a LOWER `visibility` or a HIGHER `wind_speed`, flights are more prone to be `delayed`, `diverted` or `cancelled`.***"
   ]
  },
  {
   "cell_type": "code",
   "execution_count": null,
   "metadata": {},
   "outputs": [],
   "source": []
  }
 ],
 "metadata": {
  "kernelspec": {
   "display_name": "Python 3",
   "language": "python",
   "name": "python3"
  },
  "language_info": {
   "codemirror_mode": {
    "name": "ipython",
    "version": 3
   },
   "file_extension": ".py",
   "mimetype": "text/x-python",
   "name": "python",
   "nbconvert_exporter": "python",
   "pygments_lexer": "ipython3",
   "version": "3.7.6"
  }
 },
 "nbformat": 4,
 "nbformat_minor": 4
}
